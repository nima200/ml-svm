{
 "cells": [
  {
   "cell_type": "code",
   "execution_count": 1,
   "metadata": {
    "collapsed": true
   },
   "outputs": [],
   "source": [
    "import numpy as np\n",
    "import pandas as pd\n",
    "from sklearn.metrics import f1_score\n",
    "from sklearn.naive_bayes import BernoulliNB, GaussianNB\n",
    "from sklearn.model_selection import PredefinedSplit, GridSearchCV\n",
    "from sklearn.tree import DecisionTreeClassifier\n",
    "from sklearn.svm import LinearSVC\n",
    "from sklearn.dummy import DummyClassifier"
   ]
  },
  {
   "cell_type": "markdown",
   "metadata": {
    "collapsed": true
   },
   "source": [
    "## Helper Functions\n"
   ]
  },
  {
   "cell_type": "code",
   "execution_count": 2,
   "metadata": {},
   "outputs": [],
   "source": [
    "def get_vocab(data: pd.DataFrame, input_col: str):\n",
    "    data[input_col] = data[input_col].str.lower()\n",
    "    data[input_col] = data[input_col].str.replace('[^\\w\\s]', '').str.replace('<br />\\|...', '')\n",
    "    tokens = data[input_col].str.split(expand=True)\n",
    "    return pd.Series(tokens.stack().value_counts()[:10000])"
   ]
  },
  {
   "cell_type": "code",
   "execution_count": 3,
   "metadata": {},
   "outputs": [],
   "source": [
    "def pre_process_binary(data, input_col, vocab):\n",
    "    data[input_col] = data[input_col].str.lower()\n",
    "    data[input_col] = data[input_col].str.replace('[^\\w\\s]', '').str.replace('<br />\\|...', '')\n",
    "    vocab_dict = vocab.to_dict()\n",
    "    vocab_dict = {x: i for i, x in enumerate(list(vocab_dict.keys()))}\n",
    "    bow_matrix = np.zeros(shape=(data.shape[0], 10000))\n",
    "    data_tokens = data[input_col].str.split(expand=True)\n",
    "    for i, row in data_tokens.iterrows():\n",
    "        for word in row.iteritems():\n",
    "            if word[1] in vocab_dict:\n",
    "                bow_matrix[i, vocab_dict.get(word[1])] = 1\n",
    "    return bow_matrix"
   ]
  },
  {
   "cell_type": "code",
   "execution_count": 4,
   "metadata": {},
   "outputs": [],
   "source": [
    "def pre_process_frequency(data: pd.DataFrame, input_col: str, vocab):\n",
    "    data[input_col] = data[input_col].str.lower()\n",
    "    data[input_col] = data[input_col].str.replace('[^\\w\\s]', '')\n",
    "    vocab_dict = vocab.to_dict()\n",
    "    vocab_dict = {x: i for i, x in enumerate(list(vocab_dict.keys()))}\n",
    "    data_tokens = data[input_col].str.split(expand=True)\n",
    "    bow_matrix = np.zeros(shape=(data_tokens.shape[0], 10000))\n",
    "    for i, row in data_tokens.iterrows():\n",
    "        word_count = 0\n",
    "        for word in row.iteritems():\n",
    "            if word[1] in vocab_dict:\n",
    "                bow_matrix[i, vocab_dict.get(word[1])] += 1\n",
    "                word_count += 1\n",
    "        if word_count != 0:\n",
    "            for j in range(bow_matrix[i].shape[0]):\n",
    "                bow_matrix[i][j] /= word_count\n",
    "    return bow_matrix\n"
   ]
  },
  {
   "cell_type": "code",
   "execution_count": 5,
   "metadata": {},
   "outputs": [],
   "source": [
    "def save_vocab(fname, vocab):\n",
    "    file = open(fname, 'w')\n",
    "    vocab_dict = vocab.to_dict()\n",
    "    for i, word in enumerate(list(vocab_dict.keys())):\n",
    "        row_string = word + \" \" + str(i + 1) + \" \" + str(vocab_dict[word]) + \"\\n\"\n",
    "        file.write(row_string)\n",
    "    file.close()\n"
   ]
  },
  {
   "cell_type": "code",
   "execution_count": 6,
   "metadata": {},
   "outputs": [],
   "source": [
    "def save_data(fname, data, vocab, input_col, class_col):\n",
    "    file = open(fname, 'w')\n",
    "    input_data = data[input_col]\n",
    "    classes = data[class_col]\n",
    "    vocab_dict = vocab.to_dict()\n",
    "    vocab_dict = {x: i + 1 for i, x in enumerate(list(vocab_dict.keys()))}\n",
    "    data_tokens = input_data.str.split(expand=True)\n",
    "    for i, row in data_tokens.iterrows():\n",
    "        row_string = \"\"\n",
    "        for word in row.iteritems():\n",
    "            if word[1] in vocab_dict:\n",
    "                index = vocab_dict.get(word[1])\n",
    "                row_string += str(index) + \" \"\n",
    "        row_string = row_string[:-1]\n",
    "        row_string += \"\\t\" + str(classes[i]) + \"\\n\"\n",
    "        file.write(row_string)\n",
    "    file.close()\n"
   ]
  },
  {
   "cell_type": "markdown",
   "metadata": {},
   "source": [
    "#### Read the data"
   ]
  },
  {
   "cell_type": "code",
   "execution_count": 7,
   "metadata": {},
   "outputs": [],
   "source": [
    "imdb_train = pd.read_csv('./data/IMDB-train.txt', sep='\\t', names=[\"Comments\", \"Rating\"])\n",
    "imdb_valid = pd.read_csv('./data/IMDB-valid.txt', sep='\\t', names=[\"Comments\", \"Rating\"])\n",
    "imdb_test = pd.read_csv('./data/IMDB-test.txt', sep='\\t', names=[\"Comments\", \"Rating\"])"
   ]
  },
  {
   "cell_type": "markdown",
   "metadata": {},
   "source": [
    "#### Create and save vocabulary"
   ]
  },
  {
   "cell_type": "code",
   "execution_count": 8,
   "metadata": {},
   "outputs": [],
   "source": [
    "vocab = get_vocab(data=imdb_train, input_col=\"Comments\")"
   ]
  },
  {
   "cell_type": "code",
   "execution_count": 9,
   "metadata": {},
   "outputs": [],
   "source": [
    "save_vocab(\"./data-modified/IMDB-vocab.txt\", vocab)"
   ]
  },
  {
   "cell_type": "markdown",
   "metadata": {},
   "source": [
    "#### Save the reformatted reviews\n"
   ]
  },
  {
   "cell_type": "code",
   "execution_count": 10,
   "metadata": {},
   "outputs": [],
   "source": [
    "save_data(\"./data-modified/IMDB-train.txt\", imdb_train, vocab, \"Comments\", \"Rating\")\n",
    "save_data(\"./data-modified/IMDB-valid.txt\", imdb_valid, vocab, \"Comments\", \"Rating\")\n",
    "save_data(\"./data-modified/IMDB-test.txt\", imdb_test, vocab, \"Comments\", \"Rating\")"
   ]
  },
  {
   "cell_type": "markdown",
   "metadata": {},
   "source": [
    "#### Pre-process the data into binary bag-of-words"
   ]
  },
  {
   "cell_type": "code",
   "execution_count": 11,
   "metadata": {},
   "outputs": [],
   "source": [
    "imdb_train_bin_x = pre_process_binary(imdb_train, \"Comments\", vocab)\n",
    "imdb_valid_bin_x = pre_process_binary(imdb_valid, \"Comments\", vocab)\n",
    "imdb_test_bin_x = pre_process_binary(imdb_test, \"Comments\", vocab)"
   ]
  },
  {
   "cell_type": "markdown",
   "metadata": {},
   "source": [
    "#### Pre-process the data into binary bag-of-words\n"
   ]
  },
  {
   "cell_type": "code",
   "execution_count": 9,
   "metadata": {},
   "outputs": [],
   "source": [
    "imdb_train_freq_x = pre_process_frequency(imdb_train, \"Comments\", vocab)\n",
    "imdb_valid_freq_x = pre_process_frequency(imdb_valid, \"Comments\", vocab)\n",
    "imdb_test_freq_x = pre_process_frequency(imdb_test, \"Comments\", vocab)"
   ]
  },
  {
   "cell_type": "code",
   "execution_count": 10,
   "metadata": {},
   "outputs": [],
   "source": [
    "imdb_train_y = np.array(imdb_train[\"Rating\"])\n",
    "imdb_valid_y = np.array(imdb_valid[\"Rating\"])\n",
    "imdb_test_y = np.array(imdb_test[\"Rating\"])\n"
   ]
  },
  {
   "cell_type": "markdown",
   "metadata": {},
   "source": [
    "#### Pre-process the data into binary bag-of-words\n",
    "The following strategy has been used to be able to take advantage of the MultiThread enabled GridSearchCV function. \n",
    "\n",
    "The function is originally created for Cross Validation, but with a neat trick it is possible to use it for predefined splits as well.\n",
    "\n",
    "First we combine both training and validation sets together. Next, we create a fold index (1D array with length len(training) + len(validation)) that has values -1 for all indices corresponding to training data, and 0 set for all indices corresponding to validation data. \n",
    "\n",
    "Using this array we can create a PredefinedSplit which then allows having one fold cross validation with our specific training and validation datasets taken into account.\n"
   ]
  },
  {
   "cell_type": "code",
   "execution_count": 11,
   "metadata": {},
   "outputs": [
    {
     "ename": "NameError",
     "evalue": "name 'imdb_train_bin_x' is not defined",
     "traceback": [
      "\u001b[0;31m---------------------------------------------------------------------------\u001b[0m",
      "\u001b[0;31mNameError\u001b[0m                                 Traceback (most recent call last)",
      "\u001b[0;32m<ipython-input-11-768800b39952>\u001b[0m in \u001b[0;36m<module>\u001b[0;34m()\u001b[0m\n\u001b[0;32m----> 1\u001b[0;31m \u001b[0mimdb_train_valid_x\u001b[0m \u001b[0;34m=\u001b[0m \u001b[0mnp\u001b[0m\u001b[0;34m.\u001b[0m\u001b[0mappend\u001b[0m\u001b[0;34m(\u001b[0m\u001b[0mimdb_train_bin_x\u001b[0m\u001b[0;34m,\u001b[0m \u001b[0mimdb_valid_bin_x\u001b[0m\u001b[0;34m,\u001b[0m \u001b[0maxis\u001b[0m\u001b[0;34m=\u001b[0m\u001b[0;36m0\u001b[0m\u001b[0;34m)\u001b[0m\u001b[0;34m\u001b[0m\u001b[0m\n\u001b[0m\u001b[1;32m      2\u001b[0m \u001b[0mimdb_train_valid_y\u001b[0m \u001b[0;34m=\u001b[0m \u001b[0mnp\u001b[0m\u001b[0;34m.\u001b[0m\u001b[0mappend\u001b[0m\u001b[0;34m(\u001b[0m\u001b[0mimdb_train_y\u001b[0m\u001b[0;34m,\u001b[0m \u001b[0mimdb_valid_y\u001b[0m\u001b[0;34m,\u001b[0m \u001b[0maxis\u001b[0m\u001b[0;34m=\u001b[0m\u001b[0;36m0\u001b[0m\u001b[0;34m)\u001b[0m\u001b[0;34m\u001b[0m\u001b[0m\n\u001b[1;32m      3\u001b[0m \u001b[0mimdb_train_valid_fold\u001b[0m \u001b[0;34m=\u001b[0m \u001b[0mnp\u001b[0m\u001b[0;34m.\u001b[0m\u001b[0mzeros\u001b[0m\u001b[0;34m(\u001b[0m\u001b[0mshape\u001b[0m\u001b[0;34m=\u001b[0m\u001b[0;34m(\u001b[0m\u001b[0mimdb_train_valid_x\u001b[0m\u001b[0;34m.\u001b[0m\u001b[0mshape\u001b[0m\u001b[0;34m[\u001b[0m\u001b[0;36m0\u001b[0m\u001b[0;34m]\u001b[0m\u001b[0;34m)\u001b[0m\u001b[0;34m)\u001b[0m\u001b[0;34m\u001b[0m\u001b[0m\n\u001b[1;32m      4\u001b[0m \u001b[0mimdb_train_valid_fold\u001b[0m\u001b[0;34m[\u001b[0m\u001b[0;36m0\u001b[0m\u001b[0;34m:\u001b[0m\u001b[0mimdb_train_bin_x\u001b[0m\u001b[0;34m.\u001b[0m\u001b[0mshape\u001b[0m\u001b[0;34m[\u001b[0m\u001b[0;36m0\u001b[0m\u001b[0;34m]\u001b[0m\u001b[0;34m]\u001b[0m \u001b[0;34m=\u001b[0m \u001b[0;34m-\u001b[0m\u001b[0;36m1\u001b[0m\u001b[0;34m\u001b[0m\u001b[0m\n\u001b[1;32m      5\u001b[0m \u001b[0mimdb_bin_ps\u001b[0m \u001b[0;34m=\u001b[0m \u001b[0mPredefinedSplit\u001b[0m\u001b[0;34m(\u001b[0m\u001b[0mimdb_train_valid_fold\u001b[0m\u001b[0;34m)\u001b[0m\u001b[0;34m\u001b[0m\u001b[0m\n",
      "\u001b[0;31mNameError\u001b[0m: name 'imdb_train_bin_x' is not defined"
     ],
     "output_type": "error"
    }
   ],
   "source": [
    "imdb_train_valid_x = np.append(imdb_train_bin_x, imdb_valid_bin_x, axis=0)\n",
    "imdb_train_valid_y = np.append(imdb_train_y, imdb_valid_y, axis=0)\n",
    "imdb_train_valid_fold = np.zeros(shape=(imdb_train_valid_x.shape[0]))\n",
    "imdb_train_valid_fold[0:imdb_train_bin_x.shape[0]] = -1\n",
    "imdb_bin_ps = PredefinedSplit(imdb_train_valid_fold)"
   ]
  },
  {
   "cell_type": "markdown",
   "metadata": {},
   "source": [
    "#### Create Majority Class Classifier"
   ]
  },
  {
   "cell_type": "code",
   "execution_count": 14,
   "metadata": {},
   "outputs": [
    {
     "data": {
      "text/plain": [
       "DummyClassifier(constant=None, random_state=1000, strategy='most_frequent')"
      ]
     },
     "execution_count": 14,
     "metadata": {},
     "output_type": "execute_result"
    }
   ],
   "source": [
    "imdb_majority_clf_bin = DummyClassifier(strategy=\"most_frequent\", random_state=1000)\n",
    "imdb_majority_clf_bin.fit(imdb_train_bin_x, imdb_train_y)"
   ]
  },
  {
   "cell_type": "code",
   "execution_count": 15,
   "metadata": {},
   "outputs": [
    {
     "name": "stdout",
     "output_type": "stream",
     "text": [
      "Classifier: Majority Class | Dataset: IMDB | Bag of Words: Binary\nTuning hyper-parameters for F1 score (macro)\n\nThis classifier has no hyper parameters\n\nTraining set prediction F1 Score (macro):\n0.333\nValidation set prediction F1 Score (macro):\n0.333\nTest set prediction F1 Score (macro):\n0.333\n\n"
     ]
    },
    {
     "name": "stderr",
     "output_type": "stream",
     "text": [
      "/home/nima/anaconda3/envs/ml/lib/python3.6/site-packages/sklearn/metrics/classification.py:1135: UndefinedMetricWarning: F-score is ill-defined and being set to 0.0 in labels with no predicted samples.\n  'precision', 'predicted', average, warn_for)\n"
     ]
    }
   ],
   "source": [
    "print(\"Classifier: Majority Class | Dataset: IMDB | Bag of Words: Binary\")\n",
    "print(\"Tuning hyper-parameters for F1 score (macro)\")\n",
    "print()\n",
    "print(\"This classifier has no hyper parameters\")\n",
    "print()\n",
    "print(\"Training set prediction F1 Score (macro):\")\n",
    "imdb_majority_train_predicted = imdb_majority_clf_bin.predict(imdb_train_bin_x)\n",
    "print(\"%.3f\" % f1_score(imdb_train_y, imdb_majority_train_predicted, average='macro'))\n",
    "print(\"Validation set prediction F1 Score (macro):\")\n",
    "imdb_majority_valid_predicted = imdb_majority_clf_bin.predict(imdb_valid_bin_x)\n",
    "print(\"%.3f\" % f1_score(imdb_valid_y, imdb_majority_valid_predicted, average='macro'))\n",
    "print(\"Test set prediction F1 Score (macro):\")\n",
    "imdb_majority_test_predicted = imdb_majority_clf_bin.predict(imdb_test_bin_x)\n",
    "print(\"%.3f\" % f1_score(imdb_test_y, imdb_majority_test_predicted, average='macro'))\n",
    "print()"
   ]
  },
  {
   "cell_type": "markdown",
   "metadata": {},
   "source": [
    "#### Create Random Class Classifier\n"
   ]
  },
  {
   "cell_type": "code",
   "execution_count": 16,
   "metadata": {},
   "outputs": [
    {
     "data": {
      "text/plain": [
       "DummyClassifier(constant=None, random_state=1000, strategy='uniform')"
      ]
     },
     "execution_count": 16,
     "metadata": {},
     "output_type": "execute_result"
    }
   ],
   "source": [
    "imdb_random_clf_bin = DummyClassifier(strategy=\"uniform\", random_state=1000)\n",
    "imdb_random_clf_bin.fit(imdb_train_bin_x, imdb_train_y)"
   ]
  },
  {
   "cell_type": "code",
   "execution_count": 17,
   "metadata": {},
   "outputs": [
    {
     "name": "stdout",
     "output_type": "stream",
     "text": [
      "Classifier: Random | Dataset: IMDB | Bag of Words: Binary\nTuning hyper-parameters for F1 score (macro)\n\nThis classifier has no hyper parameters\n\nTraining set prediction F1 Score (macro):\n0.503\nValidation set prediction F1 Score (macro):\n0.501\nTest set prediction F1 Score (macro):\n0.497\n\n"
     ]
    }
   ],
   "source": [
    "print(\"Classifier: Random | Dataset: IMDB | Bag of Words: Binary\")\n",
    "print(\"Tuning hyper-parameters for F1 score (macro)\")\n",
    "print()\n",
    "print(\"This classifier has no hyper parameters\")\n",
    "print()\n",
    "print(\"Training set prediction F1 Score (macro):\")\n",
    "imdb_random_train_predicted = imdb_random_clf_bin.predict(imdb_train_bin_x)\n",
    "print(\"%.3f\" % f1_score(imdb_train_y, imdb_random_train_predicted, average='macro'))\n",
    "print(\"Validation set prediction F1 Score (macro):\")\n",
    "imdb_random_valid_predicted = imdb_random_clf_bin.predict(imdb_valid_bin_x)\n",
    "print(\"%.3f\" % f1_score(imdb_valid_y, imdb_random_valid_predicted, average='macro'))\n",
    "print(\"Test set prediction F1 Score (macro):\")\n",
    "imdb_random_test_predicted = imdb_random_clf_bin.predict(imdb_test_bin_x)\n",
    "print(\"%.3f\" % f1_score(imdb_test_y, imdb_random_test_predicted, average='macro'))\n",
    "print()\n"
   ]
  },
  {
   "cell_type": "markdown",
   "metadata": {},
   "source": [
    "#### Create Bernoulli Naive Bayes Classifier for Binary Bag of Words\n",
    "Parameter ranges: \n",
    "* Alpha: 15 equally spread values over 10^-2^ to 10^0^"
   ]
  },
  {
   "cell_type": "code",
   "execution_count": 18,
   "metadata": {},
   "outputs": [
    {
     "name": "stdout",
     "output_type": "stream",
     "text": [
      "Fitting 1 folds for each of 15 candidates, totalling 15 fits\n"
     ]
    },
    {
     "name": "stdout",
     "output_type": "stream",
     "text": [
      "[CV] alpha=0.01 ......................................................\n"
     ]
    },
    {
     "name": "stdout",
     "output_type": "stream",
     "text": [
      "[CV] alpha=0.013894954943731374 ......................................\n"
     ]
    },
    {
     "name": "stdout",
     "output_type": "stream",
     "text": [
      "[CV] ....................... alpha=0.013894954943731374, total= 1.5min\n"
     ]
    },
    {
     "name": "stdout",
     "output_type": "stream",
     "text": [
      "[CV] ....................................... alpha=0.01, total= 1.5min\n"
     ]
    },
    {
     "name": "stdout",
     "output_type": "stream",
     "text": [
      "[CV] alpha=0.019306977288832496 ......................................\n"
     ]
    },
    {
     "name": "stdout",
     "output_type": "stream",
     "text": [
      "[CV] ....................... alpha=0.019306977288832496, total=   6.5s\n"
     ]
    },
    {
     "name": "stdout",
     "output_type": "stream",
     "text": [
      "[CV] alpha=0.02682695795279726 .......................................\n"
     ]
    },
    {
     "name": "stdout",
     "output_type": "stream",
     "text": [
      "[CV] alpha=0.0372759372031494 ........................................\n"
     ]
    },
    {
     "name": "stdout",
     "output_type": "stream",
     "text": [
      "[CV] ........................ alpha=0.02682695795279726, total=  10.8s\n"
     ]
    },
    {
     "name": "stdout",
     "output_type": "stream",
     "text": [
      "[CV] alpha=0.0517947467923121 ........................................\n"
     ]
    },
    {
     "name": "stdout",
     "output_type": "stream",
     "text": [
      "[CV] ......................... alpha=0.0372759372031494, total=  33.2s\n"
     ]
    },
    {
     "name": "stdout",
     "output_type": "stream",
     "text": [
      "[CV] alpha=0.07196856730011521 .......................................\n"
     ]
    },
    {
     "name": "stdout",
     "output_type": "stream",
     "text": [
      "[CV] ......................... alpha=0.0517947467923121, total=  32.4s\n"
     ]
    },
    {
     "name": "stdout",
     "output_type": "stream",
     "text": [
      "[CV] alpha=0.1 .......................................................\n"
     ]
    },
    {
     "name": "stdout",
     "output_type": "stream",
     "text": [
      "[CV] ........................ alpha=0.07196856730011521, total=  27.5s\n"
     ]
    },
    {
     "name": "stdout",
     "output_type": "stream",
     "text": [
      "[CV] alpha=0.13894954943731375 .......................................\n"
     ]
    },
    {
     "name": "stdout",
     "output_type": "stream",
     "text": [
      "[CV] ........................................ alpha=0.1, total=  12.3s\n"
     ]
    },
    {
     "name": "stdout",
     "output_type": "stream",
     "text": [
      "[CV] alpha=0.19306977288832497 .......................................\n"
     ]
    },
    {
     "name": "stdout",
     "output_type": "stream",
     "text": [
      "[CV] ........................ alpha=0.13894954943731375, total=  10.7s\n"
     ]
    },
    {
     "name": "stdout",
     "output_type": "stream",
     "text": [
      "[CV] alpha=0.2682695795279725 ........................................\n"
     ]
    },
    {
     "name": "stdout",
     "output_type": "stream",
     "text": [
      "[CV] ........................ alpha=0.19306977288832497, total=   9.6s\n"
     ]
    },
    {
     "name": "stdout",
     "output_type": "stream",
     "text": [
      "[CV] ......................... alpha=0.2682695795279725, total=   9.5s\n"
     ]
    },
    {
     "name": "stdout",
     "output_type": "stream",
     "text": [
      "[CV] alpha=0.372759372031494 .........................................\n"
     ]
    },
    {
     "name": "stdout",
     "output_type": "stream",
     "text": [
      "[CV] alpha=0.517947467923121 .........................................\n"
     ]
    },
    {
     "name": "stdout",
     "output_type": "stream",
     "text": [
      "[CV] .......................... alpha=0.372759372031494, total=   6.6s\n"
     ]
    },
    {
     "name": "stdout",
     "output_type": "stream",
     "text": [
      "[CV] alpha=0.7196856730011517 ........................................\n"
     ]
    },
    {
     "name": "stdout",
     "output_type": "stream",
     "text": [
      "[CV] .......................... alpha=0.517947467923121, total=  11.7s\n"
     ]
    },
    {
     "name": "stdout",
     "output_type": "stream",
     "text": [
      "[CV] alpha=1.0 .......................................................\n"
     ]
    },
    {
     "name": "stdout",
     "output_type": "stream",
     "text": [
      "[CV] ......................... alpha=0.7196856730011517, total=  10.4s\n"
     ]
    },
    {
     "name": "stdout",
     "output_type": "stream",
     "text": [
      "[CV] ........................................ alpha=1.0, total=   6.4s\n"
     ]
    },
    {
     "name": "stderr",
     "output_type": "stream",
     "text": [
      "[Parallel(n_jobs=2)]: Done  15 out of  15 | elapsed:  4.5min finished\n"
     ]
    },
    {
     "data": {
      "text/plain": [
       "BernoulliNB(alpha=0.019306977288832496, binarize=0.0, class_prior=None,\n      fit_prior=True)"
      ]
     },
     "execution_count": 18,
     "metadata": {},
     "output_type": "execute_result"
    }
   ],
   "source": [
    "imdb_nb_clf = BernoulliNB()\n",
    "imdb_nb_alphas = np.logspace(-2, 0, 15)\n",
    "imdb_nb_params = [{'alpha': imdb_nb_alphas}]\n",
    "imdb_nb_gs = GridSearchCV(imdb_nb_clf, imdb_nb_params, cv=imdb_bin_ps, scoring='f1_macro', refit=True, n_jobs=2, verbose=2)\n",
    "imdb_nb_gs.fit(imdb_train_valid_x, imdb_train_valid_y)\n",
    "imdb_nb_best_clf = imdb_nb_gs.best_estimator_\n",
    "imdb_nb_best_clf.fit(imdb_train_bin_x, imdb_train_y)\n"
   ]
  },
  {
   "cell_type": "code",
   "execution_count": 19,
   "metadata": {},
   "outputs": [
    {
     "name": "stdout",
     "output_type": "stream",
     "text": [
      "Classifier: Bernoulli Naive Bayes | Dataset: IMDB | Bag of Words: Binary\nTuning hyper-parameters for F1 score (macro)\n\nBest Parameters found on validation set:\n{'alpha': 0.019306977288832496}\n\nBest Scores on validation set:\n0.843\n\nTraining set prediction F1 Score (macro):\n"
     ]
    },
    {
     "name": "stdout",
     "output_type": "stream",
     "text": [
      "0.872\nValidation set prediction F1 Score (macro):\n"
     ]
    },
    {
     "name": "stdout",
     "output_type": "stream",
     "text": [
      "0.843\nTest set prediction F1 Score (macro):\n"
     ]
    },
    {
     "name": "stdout",
     "output_type": "stream",
     "text": [
      "0.836\n\n"
     ]
    }
   ],
   "source": [
    "print(\"Classifier: Bernoulli Naive Bayes | Dataset: IMDB | Bag of Words: Binary\")\n",
    "print(\"Tuning hyper-parameters for F1 score (macro)\")\n",
    "print()\n",
    "print(\"Best Parameters found on validation set:\")\n",
    "print(imdb_nb_gs.best_params_)\n",
    "print()\n",
    "print(\"Best Scores on validation set:\")\n",
    "print(\"%.3f\" % imdb_nb_gs.best_score_)\n",
    "print()\n",
    "print(\"Training set prediction F1 Score (macro):\")\n",
    "imdb_nb_train_predicted = imdb_nb_best_clf.predict(imdb_train_bin_x)\n",
    "print(\"%.3f\" % f1_score(imdb_train_y, imdb_nb_train_predicted, average='macro'))\n",
    "print(\"Validation set prediction F1 Score (macro):\")\n",
    "imdb_nb_valid_predicted = imdb_nb_best_clf.predict(imdb_valid_bin_x)\n",
    "print(\"%.3f\" % f1_score(imdb_valid_y, imdb_nb_valid_predicted, average='macro'))\n",
    "print(\"Test set prediction F1 Score (macro):\")\n",
    "imdb_nb_test_predicted = imdb_nb_gs.predict(imdb_test_bin_x)\n",
    "print(\"%.3f\" % f1_score(imdb_test_y, imdb_nb_test_predicted, average='macro'))\n",
    "print()\n"
   ]
  },
  {
   "cell_type": "markdown",
   "metadata": {},
   "source": [
    "#### Create Decision Tree Classifier for Binary Bag of Words\n",
    "\n",
    "Parameter ranges:\n",
    "* Criterion: 'gini' and 'entropy'\n",
    "* Max Depth: 10 equally spread values over 2^3^ to 2^11^"
   ]
  },
  {
   "cell_type": "code",
   "execution_count": 20,
   "metadata": {},
   "outputs": [
    {
     "name": "stdout",
     "output_type": "stream",
     "text": [
      "Fitting 1 folds for each of 20 candidates, totalling 20 fits\n"
     ]
    },
    {
     "name": "stdout",
     "output_type": "stream",
     "text": [
      "[CV] criterion=gini, max_depth=8.0, random_state=1000 ................\n"
     ]
    },
    {
     "name": "stdout",
     "output_type": "stream",
     "text": [
      "[CV] criterion=gini, max_depth=14.813995396596646, random_state=1000 .\n"
     ]
    },
    {
     "name": "stdout",
     "output_type": "stream",
     "text": [
      "[CV] . criterion=gini, max_depth=8.0, random_state=1000, total=  33.1s\n"
     ]
    },
    {
     "name": "stdout",
     "output_type": "stream",
     "text": [
      "[CV] criterion=gini, max_depth=27.43180745129833, random_state=1000 ..\n"
     ]
    },
    {
     "name": "stdout",
     "output_type": "stream",
     "text": [
      "[CV]  criterion=gini, max_depth=14.813995396596646, random_state=1000, total=  50.5s\n"
     ]
    },
    {
     "name": "stdout",
     "output_type": "stream",
     "text": [
      "[CV] criterion=gini, max_depth=50.796833662982365, random_state=1000 .\n"
     ]
    },
    {
     "name": "stdout",
     "output_type": "stream",
     "text": [
      "[CV]  criterion=gini, max_depth=27.43180745129833, random_state=1000, total= 1.2min\n"
     ]
    },
    {
     "name": "stdout",
     "output_type": "stream",
     "text": [
      "[CV] criterion=gini, max_depth=94.06300750563831, random_state=1000 ..\n"
     ]
    },
    {
     "name": "stdout",
     "output_type": "stream",
     "text": [
      "[CV]  criterion=gini, max_depth=50.796833662982365, random_state=1000, total= 1.4min\n"
     ]
    },
    {
     "name": "stdout",
     "output_type": "stream",
     "text": [
      "[CV] criterion=gini, max_depth=174.18112002232027, random_state=1000 .\n"
     ]
    },
    {
     "name": "stdout",
     "output_type": "stream",
     "text": [
      "[CV]  criterion=gini, max_depth=94.06300750563831, random_state=1000, total= 1.6min\n"
     ]
    },
    {
     "name": "stdout",
     "output_type": "stream",
     "text": [
      "[CV] criterion=gini, max_depth=322.53978877308725, random_state=1000 .\n"
     ]
    },
    {
     "name": "stdout",
     "output_type": "stream",
     "text": [
      "[CV]  criterion=gini, max_depth=174.18112002232027, random_state=1000, total= 1.7min\n"
     ]
    },
    {
     "name": "stdout",
     "output_type": "stream",
     "text": [
      "[CV] criterion=gini, max_depth=597.2628682629713, random_state=1000 ..\n"
     ]
    },
    {
     "name": "stdout",
     "output_type": "stream",
     "text": [
      "[CV]  criterion=gini, max_depth=322.53978877308725, random_state=1000, total= 1.6min\n"
     ]
    },
    {
     "name": "stdout",
     "output_type": "stream",
     "text": [
      "[CV] criterion=gini, max_depth=1105.9811726257212, random_state=1000 .\n"
     ]
    },
    {
     "name": "stdout",
     "output_type": "stream",
     "text": [
      "[CV]  criterion=gini, max_depth=597.2628682629713, random_state=1000, total= 1.7min\n"
     ]
    },
    {
     "name": "stdout",
     "output_type": "stream",
     "text": [
      "[CV] criterion=gini, max_depth=2048.0, random_state=1000 .............\n"
     ]
    },
    {
     "name": "stdout",
     "output_type": "stream",
     "text": [
      "[CV]  criterion=gini, max_depth=1105.9811726257212, random_state=1000, total= 1.7min\n"
     ]
    },
    {
     "name": "stdout",
     "output_type": "stream",
     "text": [
      "[CV] criterion=entropy, max_depth=8.0, random_state=1000 .............\n"
     ]
    },
    {
     "name": "stdout",
     "output_type": "stream",
     "text": [
      "[CV]  criterion=entropy, max_depth=8.0, random_state=1000, total=  35.3s\n"
     ]
    },
    {
     "name": "stdout",
     "output_type": "stream",
     "text": [
      "[CV] criterion=entropy, max_depth=14.813995396596646, random_state=1000 \n"
     ]
    },
    {
     "name": "stdout",
     "output_type": "stream",
     "text": [
      "[CV]  criterion=gini, max_depth=2048.0, random_state=1000, total= 1.7min\n"
     ]
    },
    {
     "name": "stdout",
     "output_type": "stream",
     "text": [
      "[CV] criterion=entropy, max_depth=27.43180745129833, random_state=1000 \n"
     ]
    },
    {
     "name": "stdout",
     "output_type": "stream",
     "text": [
      "[CV]  criterion=entropy, max_depth=14.813995396596646, random_state=1000, total=  46.3s\n"
     ]
    },
    {
     "name": "stdout",
     "output_type": "stream",
     "text": [
      "[CV] criterion=entropy, max_depth=50.796833662982365, random_state=1000 \n"
     ]
    },
    {
     "name": "stdout",
     "output_type": "stream",
     "text": [
      "[CV]  criterion=entropy, max_depth=27.43180745129833, random_state=1000, total=  57.0s\n"
     ]
    },
    {
     "name": "stdout",
     "output_type": "stream",
     "text": [
      "[CV] criterion=entropy, max_depth=94.06300750563831, random_state=1000 \n"
     ]
    },
    {
     "name": "stdout",
     "output_type": "stream",
     "text": [
      "[CV]  criterion=entropy, max_depth=50.796833662982365, random_state=1000, total= 1.1min\n"
     ]
    },
    {
     "name": "stdout",
     "output_type": "stream",
     "text": [
      "[CV] criterion=entropy, max_depth=174.18112002232027, random_state=1000 \n"
     ]
    },
    {
     "name": "stdout",
     "output_type": "stream",
     "text": [
      "[CV]  criterion=entropy, max_depth=94.06300750563831, random_state=1000, total= 1.1min\n"
     ]
    },
    {
     "name": "stdout",
     "output_type": "stream",
     "text": [
      "[CV] criterion=entropy, max_depth=322.53978877308725, random_state=1000 \n"
     ]
    },
    {
     "name": "stdout",
     "output_type": "stream",
     "text": [
      "[CV]  criterion=entropy, max_depth=174.18112002232027, random_state=1000, total= 1.1min\n"
     ]
    },
    {
     "name": "stdout",
     "output_type": "stream",
     "text": [
      "[CV] criterion=entropy, max_depth=597.2628682629713, random_state=1000 \n"
     ]
    },
    {
     "name": "stdout",
     "output_type": "stream",
     "text": [
      "[CV]  criterion=entropy, max_depth=322.53978877308725, random_state=1000, total= 1.1min\n"
     ]
    },
    {
     "name": "stdout",
     "output_type": "stream",
     "text": [
      "[CV] criterion=entropy, max_depth=1105.9811726257212, random_state=1000 \n"
     ]
    },
    {
     "name": "stdout",
     "output_type": "stream",
     "text": [
      "[CV]  criterion=entropy, max_depth=597.2628682629713, random_state=1000, total= 1.1min\n"
     ]
    },
    {
     "name": "stdout",
     "output_type": "stream",
     "text": [
      "[CV] criterion=entropy, max_depth=2048.0, random_state=1000 ..........\n"
     ]
    },
    {
     "name": "stdout",
     "output_type": "stream",
     "text": [
      "[CV]  criterion=entropy, max_depth=1105.9811726257212, random_state=1000, total= 1.1min\n"
     ]
    },
    {
     "name": "stdout",
     "output_type": "stream",
     "text": [
      "[CV]  criterion=entropy, max_depth=2048.0, random_state=1000, total= 1.0min\n"
     ]
    },
    {
     "name": "stderr",
     "output_type": "stream",
     "text": [
      "[Parallel(n_jobs=2)]: Done  20 out of  20 | elapsed: 12.5min finished\n"
     ]
    },
    {
     "data": {
      "text/plain": [
       "GridSearchCV(cv=PredefinedSplit(test_fold=array([-1, -1, ...,  0,  0])),\n       error_score='raise',\n       estimator=DecisionTreeClassifier(class_weight=None, criterion='gini', max_depth=None,\n            max_features=None, max_leaf_nodes=None,\n            min_impurity_decrease=0.0, min_impurity_split=None,\n            min_samples_leaf=1, min_samples_split=2,\n            min_weight_fraction_leaf=0.0, presort=False, random_state=None,\n            splitter='best'),\n       fit_params=None, iid=True, n_jobs=2,\n       param_grid=[{'criterion': array(['gini', 'entropy'], dtype='<U7'), 'max_depth': array([   8.     ,   14.814  ,   27.43181,   50.79683,   94.06301,\n        174.18112,  322.53979,  597.26287, 1105.98117, 2048.     ]), 'random_state': [1000]}],\n       pre_dispatch='2*n_jobs', refit=True, return_train_score='warn',\n       scoring='f1_macro', verbose=2)"
      ]
     },
     "execution_count": 20,
     "metadata": {},
     "output_type": "execute_result"
    }
   ],
   "source": [
    "imdb_dt_criterion_bin = np.array(['gini', 'entropy'])\n",
    "imdb_dt_max_depth_bin = np.logspace(3, 11, 10, base=2)\n",
    "imdb_dt_params_bin = [{'criterion': imdb_dt_criterion_bin, 'max_depth': imdb_dt_max_depth_bin, 'random_state': [1000]}]\n",
    "imdb_dt_gs = GridSearchCV(DecisionTreeClassifier(), imdb_dt_params_bin, 'f1_macro', n_jobs=2, cv=imdb_bin_ps, refit=True, verbose=2)\n",
    "imdb_dt_gs.fit(imdb_train_valid_x, imdb_train_valid_y)\n"
   ]
  },
  {
   "cell_type": "code",
   "execution_count": 21,
   "metadata": {},
   "outputs": [
    {
     "data": {
      "text/plain": [
       "DecisionTreeClassifier(class_weight=None, criterion='gini',\n            max_depth=14.813995396596646, max_features=None,\n            max_leaf_nodes=None, min_impurity_decrease=0.0,\n            min_impurity_split=None, min_samples_leaf=1,\n            min_samples_split=2, min_weight_fraction_leaf=0.0,\n            presort=False, random_state=1000, splitter='best')"
      ]
     },
     "execution_count": 21,
     "metadata": {},
     "output_type": "execute_result"
    }
   ],
   "source": [
    "imdb_dt_best_clf_bin = imdb_dt_gs.best_estimator_\n",
    "imdb_dt_best_clf_bin.fit(imdb_train_bin_x, imdb_train_y)"
   ]
  },
  {
   "cell_type": "code",
   "execution_count": 22,
   "metadata": {},
   "outputs": [
    {
     "name": "stdout",
     "output_type": "stream",
     "text": [
      "Classifier: Decision Tree | Dataset: imdb | Bag of Words: Binary\nTuning hyper-parameters for F1 Score (macro)\n\nBest Parameters found on validation set:\n{'criterion': 'gini', 'max_depth': 14.813995396596646, 'random_state': 1000}\n\nBest Scores on validation set:\n0.722\n\nTraining set prediction F1 Score (macro):\n"
     ]
    },
    {
     "name": "stdout",
     "output_type": "stream",
     "text": [
      "0.815\nValidation set prediction F1 Score (macro):\n"
     ]
    },
    {
     "name": "stdout",
     "output_type": "stream",
     "text": [
      "0.722\nTest set prediction F1 Score (macro):\n"
     ]
    },
    {
     "name": "stdout",
     "output_type": "stream",
     "text": [
      "0.728\n"
     ]
    }
   ],
   "source": [
    "print(\"Classifier: Decision Tree | Dataset: imdb | Bag of Words: Binary\")\n",
    "print(\"Tuning hyper-parameters for F1 Score (macro)\")\n",
    "print()\n",
    "print(\"Best Parameters found on validation set:\")\n",
    "print(imdb_dt_gs.best_params_)\n",
    "print()\n",
    "print(\"Best Scores on validation set:\")\n",
    "print(\"%.3f\" % imdb_dt_gs.best_score_)\n",
    "print()\n",
    "print(\"Training set prediction F1 Score (macro):\")\n",
    "imdb_dt_train_predicted = imdb_dt_best_clf_bin.predict(imdb_train_bin_x)\n",
    "print(\"%.3f\" % f1_score(imdb_train_y, imdb_dt_train_predicted, average='macro'))\n",
    "print(\"Validation set prediction F1 Score (macro):\")\n",
    "imdb_dt_valid_predicted = imdb_dt_best_clf_bin.predict(imdb_valid_bin_x)\n",
    "print(\"%.3f\" % f1_score(imdb_valid_y, imdb_dt_valid_predicted, average='macro'))\n",
    "print(\"Test set prediction F1 Score (macro):\")\n",
    "imdb_dt_test_predicted = imdb_dt_best_clf_bin.predict(imdb_test_bin_x)\n",
    "print(\"%.3f\" % f1_score(imdb_test_y, imdb_dt_test_predicted, average='macro'))\n"
   ]
  },
  {
   "cell_type": "markdown",
   "metadata": {},
   "source": [
    "#### Creating Linear Support Vector Classifier for Binary Bag of Words\n",
    "Parameters:\n",
    "* C: 20 equally spread values from 10^-3^ to 10^1^\n",
    "* Tolerance: 20 equally spread values from 10^-3^ to 10^-1^"
   ]
  },
  {
   "cell_type": "code",
   "execution_count": 23,
   "metadata": {},
   "outputs": [],
   "source": [
    "imdb_svm_clf_bin = LinearSVC()\n",
    "imdb_svm_c_bin = np.logspace(-3, 1, 7)\n",
    "imdb_svm_tol_bin = np.logspace(-3, -1, 7)\n",
    "imdb_svm_dual_bin = [True]\n",
    "imdb_svm_random_state_bin = [1000]\n",
    "imdb_svm_params_bin = [{'C': imdb_svm_c_bin, 'tol': imdb_svm_tol_bin, 'random_state': imdb_svm_random_state_bin, 'dual': imdb_svm_dual_bin}]\n",
    "imdb_svm_gs_bin = GridSearchCV(imdb_svm_clf_bin, imdb_svm_params_bin, cv=imdb_bin_ps, scoring='f1_macro', n_jobs=2, refit=True, verbose=2)\n"
   ]
  },
  {
   "cell_type": "code",
   "execution_count": 24,
   "metadata": {
    "collapsed": true
   },
   "outputs": [
    {
     "name": "stdout",
     "output_type": "stream",
     "text": [
      "Fitting 1 folds for each of 49 candidates, totalling 49 fits\n"
     ]
    },
    {
     "name": "stdout",
     "output_type": "stream",
     "text": [
      "[CV] C=0.001, dual=True, random_state=1000, tol=0.001 ................\n"
     ]
    },
    {
     "name": "stdout",
     "output_type": "stream",
     "text": [
      "[CV] C=0.001, dual=True, random_state=1000, tol=0.0021544346900318843 \n"
     ]
    },
    {
     "name": "stdout",
     "output_type": "stream",
     "text": [
      "[CV] . C=0.001, dual=True, random_state=1000, tol=0.001, total=  13.3s\n"
     ]
    },
    {
     "name": "stdout",
     "output_type": "stream",
     "text": [
      "[CV]  C=0.001, dual=True, random_state=1000, tol=0.0021544346900318843, total=   9.4s\n"
     ]
    },
    {
     "name": "stdout",
     "output_type": "stream",
     "text": [
      "[CV] C=0.001, dual=True, random_state=1000, tol=0.004641588833612777 .\n"
     ]
    },
    {
     "name": "stdout",
     "output_type": "stream",
     "text": [
      "[CV]  C=0.001, dual=True, random_state=1000, tol=0.004641588833612777, total=   3.4s\n"
     ]
    },
    {
     "name": "stdout",
     "output_type": "stream",
     "text": [
      "[CV] C=0.001, dual=True, random_state=1000, tol=0.01 .................\n"
     ]
    },
    {
     "name": "stdout",
     "output_type": "stream",
     "text": [
      "[CV] .. C=0.001, dual=True, random_state=1000, tol=0.01, total=   3.1s\n"
     ]
    },
    {
     "name": "stdout",
     "output_type": "stream",
     "text": [
      "[CV] C=0.001, dual=True, random_state=1000, tol=0.021544346900318832 .\n"
     ]
    },
    {
     "name": "stdout",
     "output_type": "stream",
     "text": [
      "[CV] C=0.001, dual=True, random_state=1000, tol=0.046415888336127774 .\n"
     ]
    },
    {
     "name": "stdout",
     "output_type": "stream",
     "text": [
      "[CV]  C=0.001, dual=True, random_state=1000, tol=0.021544346900318832, total=   3.5s\n"
     ]
    },
    {
     "name": "stdout",
     "output_type": "stream",
     "text": [
      "[CV] C=0.001, dual=True, random_state=1000, tol=0.1 ..................\n"
     ]
    },
    {
     "name": "stdout",
     "output_type": "stream",
     "text": [
      "[CV]  C=0.001, dual=True, random_state=1000, tol=0.046415888336127774, total=   3.3s\n"
     ]
    },
    {
     "name": "stdout",
     "output_type": "stream",
     "text": [
      "[CV] C=0.004641588833612777, dual=True, random_state=1000, tol=0.001 .\n"
     ]
    },
    {
     "name": "stdout",
     "output_type": "stream",
     "text": [
      "[CV] ... C=0.001, dual=True, random_state=1000, tol=0.1, total=   3.4s\n"
     ]
    },
    {
     "name": "stdout",
     "output_type": "stream",
     "text": [
      "[CV] C=0.004641588833612777, dual=True, random_state=1000, tol=0.0021544346900318843 \n"
     ]
    },
    {
     "name": "stdout",
     "output_type": "stream",
     "text": [
      "[CV]  C=0.004641588833612777, dual=True, random_state=1000, tol=0.001, total=   3.4s\n"
     ]
    },
    {
     "name": "stdout",
     "output_type": "stream",
     "text": [
      "[CV] C=0.004641588833612777, dual=True, random_state=1000, tol=0.004641588833612777 \n"
     ]
    },
    {
     "name": "stdout",
     "output_type": "stream",
     "text": [
      "[CV]  C=0.004641588833612777, dual=True, random_state=1000, tol=0.0021544346900318843, total=   4.1s\n"
     ]
    },
    {
     "name": "stdout",
     "output_type": "stream",
     "text": [
      "[CV] C=0.004641588833612777, dual=True, random_state=1000, tol=0.01 ..\n"
     ]
    },
    {
     "name": "stdout",
     "output_type": "stream",
     "text": [
      "[CV]  C=0.004641588833612777, dual=True, random_state=1000, tol=0.004641588833612777, total=   3.6s\n"
     ]
    },
    {
     "name": "stdout",
     "output_type": "stream",
     "text": [
      "[CV] C=0.004641588833612777, dual=True, random_state=1000, tol=0.021544346900318832 \n"
     ]
    },
    {
     "name": "stdout",
     "output_type": "stream",
     "text": [
      "[CV]  C=0.004641588833612777, dual=True, random_state=1000, tol=0.01, total=   3.4s\n"
     ]
    },
    {
     "name": "stdout",
     "output_type": "stream",
     "text": [
      "[CV] C=0.004641588833612777, dual=True, random_state=1000, tol=0.046415888336127774 \n"
     ]
    },
    {
     "name": "stdout",
     "output_type": "stream",
     "text": [
      "[CV]  C=0.004641588833612777, dual=True, random_state=1000, tol=0.021544346900318832, total=   3.3s\n"
     ]
    },
    {
     "name": "stdout",
     "output_type": "stream",
     "text": [
      "[CV] C=0.004641588833612777, dual=True, random_state=1000, tol=0.1 ...\n"
     ]
    },
    {
     "name": "stdout",
     "output_type": "stream",
     "text": [
      "[CV]  C=0.004641588833612777, dual=True, random_state=1000, tol=0.046415888336127774, total=   3.4s\n"
     ]
    },
    {
     "name": "stdout",
     "output_type": "stream",
     "text": [
      "[CV] C=0.021544346900318832, dual=True, random_state=1000, tol=0.001 .\n"
     ]
    },
    {
     "name": "stdout",
     "output_type": "stream",
     "text": [
      "[CV]  C=0.004641588833612777, dual=True, random_state=1000, tol=0.1, total=   3.4s\n"
     ]
    },
    {
     "name": "stdout",
     "output_type": "stream",
     "text": [
      "[CV] C=0.021544346900318832, dual=True, random_state=1000, tol=0.0021544346900318843 \n"
     ]
    },
    {
     "name": "stdout",
     "output_type": "stream",
     "text": [
      "[CV]  C=0.021544346900318832, dual=True, random_state=1000, tol=0.001, total=   3.5s\n"
     ]
    },
    {
     "name": "stdout",
     "output_type": "stream",
     "text": [
      "[CV] C=0.021544346900318832, dual=True, random_state=1000, tol=0.004641588833612777 \n"
     ]
    },
    {
     "name": "stdout",
     "output_type": "stream",
     "text": [
      "[CV]  C=0.021544346900318832, dual=True, random_state=1000, tol=0.0021544346900318843, total=   3.6s\n"
     ]
    },
    {
     "name": "stdout",
     "output_type": "stream",
     "text": [
      "[CV] C=0.021544346900318832, dual=True, random_state=1000, tol=0.01 ..\n"
     ]
    },
    {
     "name": "stdout",
     "output_type": "stream",
     "text": [
      "[CV]  C=0.021544346900318832, dual=True, random_state=1000, tol=0.004641588833612777, total=   4.1s\n"
     ]
    },
    {
     "name": "stdout",
     "output_type": "stream",
     "text": [
      "[CV] C=0.021544346900318832, dual=True, random_state=1000, tol=0.021544346900318832 \n"
     ]
    },
    {
     "name": "stdout",
     "output_type": "stream",
     "text": [
      "[CV]  C=0.021544346900318832, dual=True, random_state=1000, tol=0.01, total=   4.1s\n"
     ]
    },
    {
     "name": "stdout",
     "output_type": "stream",
     "text": [
      "[CV] C=0.021544346900318832, dual=True, random_state=1000, tol=0.046415888336127774 \n"
     ]
    },
    {
     "name": "stdout",
     "output_type": "stream",
     "text": [
      "[CV]  C=0.021544346900318832, dual=True, random_state=1000, tol=0.021544346900318832, total=   4.2s\n"
     ]
    },
    {
     "name": "stdout",
     "output_type": "stream",
     "text": [
      "[CV] C=0.021544346900318832, dual=True, random_state=1000, tol=0.1 ...\n"
     ]
    },
    {
     "name": "stdout",
     "output_type": "stream",
     "text": [
      "[CV]  C=0.021544346900318832, dual=True, random_state=1000, tol=0.046415888336127774, total=   3.7s\n"
     ]
    },
    {
     "name": "stdout",
     "output_type": "stream",
     "text": [
      "[CV] C=0.1, dual=True, random_state=1000, tol=0.001 ..................\n"
     ]
    },
    {
     "name": "stdout",
     "output_type": "stream",
     "text": [
      "[CV]  C=0.021544346900318832, dual=True, random_state=1000, tol=0.1, total=   3.5s\n"
     ]
    },
    {
     "name": "stdout",
     "output_type": "stream",
     "text": [
      "[CV] C=0.1, dual=True, random_state=1000, tol=0.0021544346900318843 ..\n"
     ]
    },
    {
     "name": "stdout",
     "output_type": "stream",
     "text": [
      "[CV] ... C=0.1, dual=True, random_state=1000, tol=0.001, total=   4.3s\n"
     ]
    },
    {
     "name": "stdout",
     "output_type": "stream",
     "text": [
      "[CV] C=0.1, dual=True, random_state=1000, tol=0.004641588833612777 ...\n"
     ]
    },
    {
     "name": "stdout",
     "output_type": "stream",
     "text": [
      "[CV]  C=0.1, dual=True, random_state=1000, tol=0.0021544346900318843, total=   4.1s\n"
     ]
    },
    {
     "name": "stdout",
     "output_type": "stream",
     "text": [
      "[CV] C=0.1, dual=True, random_state=1000, tol=0.01 ...................\n"
     ]
    },
    {
     "name": "stdout",
     "output_type": "stream",
     "text": [
      "[CV]  C=0.1, dual=True, random_state=1000, tol=0.004641588833612777, total=   4.0s\n"
     ]
    },
    {
     "name": "stdout",
     "output_type": "stream",
     "text": [
      "[CV] C=0.1, dual=True, random_state=1000, tol=0.021544346900318832 ...\n"
     ]
    },
    {
     "name": "stdout",
     "output_type": "stream",
     "text": [
      "[CV] .... C=0.1, dual=True, random_state=1000, tol=0.01, total=   3.8s\n"
     ]
    },
    {
     "name": "stdout",
     "output_type": "stream",
     "text": [
      "[CV] C=0.1, dual=True, random_state=1000, tol=0.046415888336127774 ...\n"
     ]
    },
    {
     "name": "stdout",
     "output_type": "stream",
     "text": [
      "[CV]  C=0.1, dual=True, random_state=1000, tol=0.021544346900318832, total=   3.8s\n"
     ]
    },
    {
     "name": "stdout",
     "output_type": "stream",
     "text": [
      "[CV] C=0.1, dual=True, random_state=1000, tol=0.1 ....................\n"
     ]
    },
    {
     "name": "stdout",
     "output_type": "stream",
     "text": [
      "[CV]  C=0.1, dual=True, random_state=1000, tol=0.046415888336127774, total=   4.2s\n"
     ]
    },
    {
     "name": "stdout",
     "output_type": "stream",
     "text": [
      "[CV] C=0.46415888336127775, dual=True, random_state=1000, tol=0.001 ..\n"
     ]
    },
    {
     "name": "stdout",
     "output_type": "stream",
     "text": [
      "[CV] ..... C=0.1, dual=True, random_state=1000, tol=0.1, total=   3.9s\n"
     ]
    },
    {
     "name": "stdout",
     "output_type": "stream",
     "text": [
      "[CV] C=0.46415888336127775, dual=True, random_state=1000, tol=0.0021544346900318843 \n"
     ]
    },
    {
     "name": "stdout",
     "output_type": "stream",
     "text": [
      "[CV]  C=0.46415888336127775, dual=True, random_state=1000, tol=0.001, total=   5.2s\n"
     ]
    },
    {
     "name": "stdout",
     "output_type": "stream",
     "text": [
      "[CV] C=0.46415888336127775, dual=True, random_state=1000, tol=0.004641588833612777 \n"
     ]
    },
    {
     "name": "stdout",
     "output_type": "stream",
     "text": [
      "[CV]  C=0.46415888336127775, dual=True, random_state=1000, tol=0.0021544346900318843, total=   5.6s\n"
     ]
    },
    {
     "name": "stdout",
     "output_type": "stream",
     "text": [
      "[CV] C=0.46415888336127775, dual=True, random_state=1000, tol=0.01 ...\n"
     ]
    },
    {
     "name": "stdout",
     "output_type": "stream",
     "text": [
      "[CV]  C=0.46415888336127775, dual=True, random_state=1000, tol=0.004641588833612777, total=   5.5s\n"
     ]
    },
    {
     "name": "stdout",
     "output_type": "stream",
     "text": [
      "[CV] C=0.46415888336127775, dual=True, random_state=1000, tol=0.021544346900318832 \n"
     ]
    },
    {
     "name": "stdout",
     "output_type": "stream",
     "text": [
      "[CV]  C=0.46415888336127775, dual=True, random_state=1000, tol=0.01, total=   5.1s\n"
     ]
    },
    {
     "name": "stdout",
     "output_type": "stream",
     "text": [
      "[CV] C=0.46415888336127775, dual=True, random_state=1000, tol=0.046415888336127774 \n"
     ]
    },
    {
     "name": "stdout",
     "output_type": "stream",
     "text": [
      "[CV]  C=0.46415888336127775, dual=True, random_state=1000, tol=0.021544346900318832, total=   4.5s\n"
     ]
    },
    {
     "name": "stdout",
     "output_type": "stream",
     "text": [
      "[CV] C=0.46415888336127775, dual=True, random_state=1000, tol=0.1 ....\n"
     ]
    },
    {
     "name": "stdout",
     "output_type": "stream",
     "text": [
      "[CV]  C=0.46415888336127775, dual=True, random_state=1000, tol=0.046415888336127774, total=   4.0s\n"
     ]
    },
    {
     "name": "stdout",
     "output_type": "stream",
     "text": [
      "[CV] C=2.154434690031882, dual=True, random_state=1000, tol=0.001 ....\n"
     ]
    },
    {
     "name": "stdout",
     "output_type": "stream",
     "text": [
      "[CV]  C=0.46415888336127775, dual=True, random_state=1000, tol=0.1, total=   4.1s\n"
     ]
    },
    {
     "name": "stdout",
     "output_type": "stream",
     "text": [
      "[CV] C=2.154434690031882, dual=True, random_state=1000, tol=0.0021544346900318843 \n"
     ]
    },
    {
     "name": "stdout",
     "output_type": "stream",
     "text": [
      "[CV]  C=2.154434690031882, dual=True, random_state=1000, tol=0.001, total=   8.0s\n"
     ]
    },
    {
     "name": "stdout",
     "output_type": "stream",
     "text": [
      "[CV] C=2.154434690031882, dual=True, random_state=1000, tol=0.004641588833612777 \n"
     ]
    },
    {
     "name": "stdout",
     "output_type": "stream",
     "text": [
      "[CV]  C=2.154434690031882, dual=True, random_state=1000, tol=0.0021544346900318843, total=   7.5s\n"
     ]
    },
    {
     "name": "stderr",
     "output_type": "stream",
     "text": [
      "[Parallel(n_jobs=2)]: Done  37 tasks      | elapsed:  2.8min\n"
     ]
    },
    {
     "name": "stdout",
     "output_type": "stream",
     "text": [
      "[CV] C=2.154434690031882, dual=True, random_state=1000, tol=0.01 .....\n"
     ]
    },
    {
     "name": "stdout",
     "output_type": "stream",
     "text": [
      "[CV]  C=2.154434690031882, dual=True, random_state=1000, tol=0.004641588833612777, total=   6.1s\n"
     ]
    },
    {
     "name": "stdout",
     "output_type": "stream",
     "text": [
      "[CV] C=2.154434690031882, dual=True, random_state=1000, tol=0.021544346900318832 \n"
     ]
    },
    {
     "name": "stdout",
     "output_type": "stream",
     "text": [
      "[CV]  C=2.154434690031882, dual=True, random_state=1000, tol=0.01, total=   5.6s\n"
     ]
    },
    {
     "name": "stdout",
     "output_type": "stream",
     "text": [
      "[CV] C=2.154434690031882, dual=True, random_state=1000, tol=0.046415888336127774 \n"
     ]
    },
    {
     "name": "stdout",
     "output_type": "stream",
     "text": [
      "[CV]  C=2.154434690031882, dual=True, random_state=1000, tol=0.021544346900318832, total=   4.7s\n"
     ]
    },
    {
     "name": "stdout",
     "output_type": "stream",
     "text": [
      "[CV] C=2.154434690031882, dual=True, random_state=1000, tol=0.1 ......\n"
     ]
    },
    {
     "name": "stdout",
     "output_type": "stream",
     "text": [
      "[CV]  C=2.154434690031882, dual=True, random_state=1000, tol=0.046415888336127774, total=   4.7s\n"
     ]
    },
    {
     "name": "stdout",
     "output_type": "stream",
     "text": [
      "[CV] C=10.0, dual=True, random_state=1000, tol=0.001 .................\n"
     ]
    },
    {
     "name": "stdout",
     "output_type": "stream",
     "text": [
      "[CV]  C=2.154434690031882, dual=True, random_state=1000, tol=0.1, total=   4.4s\n"
     ]
    },
    {
     "name": "stdout",
     "output_type": "stream",
     "text": [
      "[CV] C=10.0, dual=True, random_state=1000, tol=0.0021544346900318843 .\n"
     ]
    },
    {
     "name": "stdout",
     "output_type": "stream",
     "text": [
      "[CV] .. C=10.0, dual=True, random_state=1000, tol=0.001, total=   7.2s\n"
     ]
    },
    {
     "name": "stdout",
     "output_type": "stream",
     "text": [
      "[CV] C=10.0, dual=True, random_state=1000, tol=0.004641588833612777 ..\n"
     ]
    },
    {
     "name": "stdout",
     "output_type": "stream",
     "text": [
      "[CV]  C=10.0, dual=True, random_state=1000, tol=0.0021544346900318843, total=   6.1s\n"
     ]
    },
    {
     "name": "stdout",
     "output_type": "stream",
     "text": [
      "[CV] C=10.0, dual=True, random_state=1000, tol=0.01 ..................\n"
     ]
    },
    {
     "name": "stdout",
     "output_type": "stream",
     "text": [
      "[CV]  C=10.0, dual=True, random_state=1000, tol=0.004641588833612777, total=   5.8s\n"
     ]
    },
    {
     "name": "stdout",
     "output_type": "stream",
     "text": [
      "[CV] C=10.0, dual=True, random_state=1000, tol=0.021544346900318832 ..\n"
     ]
    },
    {
     "name": "stdout",
     "output_type": "stream",
     "text": [
      "[CV] ... C=10.0, dual=True, random_state=1000, tol=0.01, total=   5.5s\n"
     ]
    },
    {
     "name": "stdout",
     "output_type": "stream",
     "text": [
      "[CV] C=10.0, dual=True, random_state=1000, tol=0.046415888336127774 ..\n"
     ]
    },
    {
     "name": "stdout",
     "output_type": "stream",
     "text": [
      "[CV]  C=10.0, dual=True, random_state=1000, tol=0.021544346900318832, total=   4.8s\n"
     ]
    },
    {
     "name": "stdout",
     "output_type": "stream",
     "text": [
      "[CV] C=10.0, dual=True, random_state=1000, tol=0.1 ...................\n"
     ]
    },
    {
     "name": "stdout",
     "output_type": "stream",
     "text": [
      "[CV]  C=10.0, dual=True, random_state=1000, tol=0.046415888336127774, total=   4.8s\n"
     ]
    },
    {
     "name": "stdout",
     "output_type": "stream",
     "text": [
      "[CV] .... C=10.0, dual=True, random_state=1000, tol=0.1, total=   4.3s\n"
     ]
    },
    {
     "name": "stderr",
     "output_type": "stream",
     "text": [
      "[Parallel(n_jobs=2)]: Done  49 out of  49 | elapsed:  3.6min finished\n"
     ]
    },
    {
     "data": {
      "text/plain": [
       "LinearSVC(C=0.004641588833612777, class_weight=None, dual=True,\n     fit_intercept=True, intercept_scaling=1, loss='squared_hinge',\n     max_iter=1000, multi_class='ovr', penalty='l2', random_state=1000,\n     tol=0.001, verbose=0)"
      ]
     },
     "execution_count": 24,
     "metadata": {},
     "output_type": "execute_result"
    }
   ],
   "source": [
    "imdb_svm_gs_bin.fit(imdb_train_valid_x, imdb_train_valid_y)\n",
    "imdb_svm_best_clf_bin = imdb_svm_gs_bin.best_estimator_\n",
    "imdb_svm_best_clf_bin.fit(imdb_train_bin_x, imdb_train_y)"
   ]
  },
  {
   "cell_type": "code",
   "execution_count": 25,
   "metadata": {
    "collapsed": true
   },
   "outputs": [
    {
     "name": "stdout",
     "output_type": "stream",
     "text": [
      "Classifier: Linear Support Vector Classifier | Dataset: imdb | Bag of Words: Binary\nTuning hyper-parameters for F1 Score (macro)\n\nBest Parameters found on validation set:\n{'C': 0.004641588833612777, 'dual': True, 'random_state': 1000, 'tol': 0.001}\n\nBest Scores on validation set:\n0.878\n\nTraining set prediction F1 Score (macro):\n"
     ]
    },
    {
     "name": "stdout",
     "output_type": "stream",
     "text": [
      "0.946\nValidation set prediction F1 Score (macro):\n"
     ]
    },
    {
     "name": "stdout",
     "output_type": "stream",
     "text": [
      "0.878\nTest set prediction F1 Score (macro):\n"
     ]
    },
    {
     "name": "stdout",
     "output_type": "stream",
     "text": [
      "0.876\n"
     ]
    }
   ],
   "source": [
    "print(\"Classifier: Linear Support Vector Classifier | Dataset: imdb | Bag of Words: Binary\")\n",
    "print(\"Tuning hyper-parameters for F1 Score (macro)\")\n",
    "print()\n",
    "print(\"Best Parameters found on validation set:\")\n",
    "print(imdb_svm_gs_bin.best_params_)\n",
    "print()\n",
    "print(\"Best Scores on validation set:\")\n",
    "print(\"%.3f\" % imdb_svm_gs_bin.best_score_)\n",
    "print()\n",
    "print(\"Training set prediction F1 Score (macro):\")\n",
    "imdb_svm_train_predicted = imdb_svm_best_clf_bin.predict(imdb_train_bin_x)\n",
    "print(\"%.3f\" % f1_score(imdb_train_y, imdb_svm_train_predicted, average='macro'))\n",
    "print(\"Validation set prediction F1 Score (macro):\")\n",
    "imdb_svm_valid_predicted = imdb_svm_best_clf_bin.predict(imdb_valid_bin_x)\n",
    "print(\"%.3f\" % f1_score(imdb_valid_y, imdb_svm_valid_predicted, average='macro'))\n",
    "print(\"Test set prediction F1 Score (macro):\")\n",
    "imdb_svm_test_predicted = imdb_svm_best_clf_bin.predict(imdb_test_bin_x)\n",
    "print(\"%.3f\" % f1_score(imdb_test_y, imdb_svm_test_predicted, average='macro'))\n"
   ]
  },
  {
   "cell_type": "markdown",
   "metadata": {
    "collapsed": true
   },
   "source": [
    "#### Create Majority Class Classifier for Frequency Bag of Words"
   ]
  },
  {
   "cell_type": "code",
   "execution_count": 12,
   "metadata": {
    "collapsed": true
   },
   "outputs": [
    {
     "data": {
      "text/plain": [
       "DummyClassifier(constant=None, random_state=1000, strategy='most_frequent')"
      ]
     },
     "execution_count": 12,
     "metadata": {},
     "output_type": "execute_result"
    }
   ],
   "source": [
    "imdb_majority_clf_freq = DummyClassifier(strategy=\"most_frequent\", random_state=1000)\n",
    "imdb_majority_clf_freq.fit(imdb_train_freq_x, imdb_train_y)"
   ]
  },
  {
   "cell_type": "code",
   "execution_count": 13,
   "metadata": {
    "collapsed": true
   },
   "outputs": [
    {
     "name": "stdout",
     "output_type": "stream",
     "text": [
      "Classifier: Majority Class | Dataset: IMDB | Bag of Words: Frequency\nTuning hyper-parameters for F1 score (macro)\n\nThis classifier has no hyper parameters\n\nTraining set prediction F1 Score (macro):\n0.333\nValidation set prediction F1 Score (macro):\n0.333\nTest set prediction F1 Score (macro):\n0.333\n\n"
     ]
    },
    {
     "name": "stderr",
     "output_type": "stream",
     "text": [
      "/home/nima/anaconda3/envs/ml/lib/python3.6/site-packages/sklearn/metrics/classification.py:1135: UndefinedMetricWarning: F-score is ill-defined and being set to 0.0 in labels with no predicted samples.\n  'precision', 'predicted', average, warn_for)\n"
     ]
    }
   ],
   "source": [
    "print(\"Classifier: Majority Class | Dataset: IMDB | Bag of Words: Frequency\")\n",
    "print(\"Tuning hyper-parameters for F1 score (macro)\")\n",
    "print()\n",
    "print(\"This classifier has no hyper parameters\")\n",
    "print()\n",
    "print(\"Training set prediction F1 Score (macro):\")\n",
    "imdb_majority_train_predicted_freq = imdb_majority_clf_freq.predict(imdb_train_freq_x)\n",
    "print(\"%.3f\" % f1_score(imdb_train_y, imdb_majority_train_predicted_freq, average='macro'))\n",
    "print(\"Validation set prediction F1 Score (macro):\")\n",
    "imdb_majority_valid_predicted_freq = imdb_majority_clf_freq.predict(imdb_valid_freq_x)\n",
    "print(\"%.3f\" % f1_score(imdb_valid_y, imdb_majority_valid_predicted_freq, average='macro'))\n",
    "print(\"Test set prediction F1 Score (macro):\")\n",
    "imdb_majority_test_predicted_freq = imdb_majority_clf_freq.predict(imdb_test_freq_x)\n",
    "print(\"%.3f\" % f1_score(imdb_test_y, imdb_majority_test_predicted_freq, average='macro'))\n",
    "print()"
   ]
  },
  {
   "cell_type": "markdown",
   "metadata": {
    "collapsed": true
   },
   "source": [
    "#### Create Random Class Classifier for Frequency Bag of Words"
   ]
  },
  {
   "cell_type": "code",
   "execution_count": 14,
   "metadata": {
    "collapsed": true
   },
   "outputs": [
    {
     "data": {
      "text/plain": [
       "DummyClassifier(constant=None, random_state=1000, strategy='uniform')"
      ]
     },
     "execution_count": 14,
     "metadata": {},
     "output_type": "execute_result"
    }
   ],
   "source": [
    "imdb_random_clf_freq = DummyClassifier(strategy=\"uniform\", random_state=1000)\n",
    "imdb_random_clf_freq.fit(imdb_train_freq_x, imdb_train_y)"
   ]
  },
  {
   "cell_type": "code",
   "execution_count": 15,
   "metadata": {
    "collapsed": true
   },
   "outputs": [
    {
     "name": "stdout",
     "output_type": "stream",
     "text": [
      "Classifier: Random | Dataset: IMDB | Bag of Words: Frequency\nTuning hyper-parameters for F1 score (macro)\n\nThis classifier has no hyper parameters\n\nTraining set prediction F1 Score (macro):\n0.503\nValidation set prediction F1 Score (macro):\n0.501\nTest set prediction F1 Score (macro):\n0.497\n\n"
     ]
    }
   ],
   "source": [
    "print(\"Classifier: Random | Dataset: IMDB | Bag of Words: Frequency\")\n",
    "print(\"Tuning hyper-parameters for F1 score (macro)\")\n",
    "print()\n",
    "print(\"This classifier has no hyper parameters\")\n",
    "print()\n",
    "print(\"Training set prediction F1 Score (macro):\")\n",
    "imdb_random_train_predicted_freq = imdb_random_clf_freq.predict(imdb_train_freq_x)\n",
    "print(\"%.3f\" % f1_score(imdb_train_y, imdb_random_train_predicted_freq, average='macro'))\n",
    "print(\"Validation set prediction F1 Score (macro):\")\n",
    "imdb_random_valid_predicted_freq = imdb_random_clf_freq.predict(imdb_valid_freq_x)\n",
    "print(\"%.3f\" % f1_score(imdb_valid_y, imdb_random_valid_predicted_freq, average='macro'))\n",
    "print(\"Test set prediction F1 Score (macro):\")\n",
    "imdb_random_test_predicted_freq = imdb_random_clf_freq.predict(imdb_test_freq_x)\n",
    "print(\"%.3f\" % f1_score(imdb_test_y, imdb_random_test_predicted_freq, average='macro'))\n",
    "print()\n"
   ]
  },
  {
   "cell_type": "markdown",
   "metadata": {
    "collapsed": true
   },
   "source": [
    "#### Create Gaussian Naive Bayes Classifier for Frequency Bag of Words\n",
    "Parameters:\n",
    "* None"
   ]
  },
  {
   "cell_type": "code",
   "execution_count": 16,
   "metadata": {},
   "outputs": [
    {
     "data": {
      "text/plain": [
       "GaussianNB(priors=None)"
      ]
     },
     "execution_count": 16,
     "metadata": {},
     "output_type": "execute_result"
    }
   ],
   "source": [
    "imdb_gnb_clf = GaussianNB()\n",
    "imdb_gnb_clf.fit(imdb_train_freq_x, imdb_train_y)"
   ]
  },
  {
   "cell_type": "code",
   "execution_count": 17,
   "metadata": {
    "collapsed": false
   },
   "outputs": [
    {
     "name": "stdout",
     "output_type": "stream",
     "text": [
      "Classifier: Gaussian Naive Bayes | Dataset: imdb | Bag of Words: Frequency\nTuning hyper-parameters for F1 score (macro)\n\nThis classifier does not have any hyper-parameters\n\nTraining set prediction F1 Score (macro):\n"
     ]
    },
    {
     "name": "stdout",
     "output_type": "stream",
     "text": [
      "0.864\nValidation set prediction F1 Score (macro):\n"
     ]
    },
    {
     "name": "stdout",
     "output_type": "stream",
     "text": [
      "0.761\nTest set prediction F1 Score (macro):\n"
     ]
    },
    {
     "name": "stdout",
     "output_type": "stream",
     "text": [
      "0.694\n\n"
     ]
    }
   ],
   "source": [
    "print(\"Classifier: Gaussian Naive Bayes | Dataset: imdb | Bag of Words: Frequency\")\n",
    "print(\"Tuning hyper-parameters for F1 score (macro)\")\n",
    "print()\n",
    "print(\"This classifier does not have any hyper-parameters\")\n",
    "print()\n",
    "print(\"Training set prediction F1 Score (macro):\")\n",
    "imdb_gnb_train_predicted = imdb_gnb_clf.predict(imdb_train_freq_x)\n",
    "print(\"%.3f\" % f1_score(imdb_train_y, imdb_gnb_train_predicted, average='macro'))\n",
    "print(\"Validation set prediction F1 Score (macro):\")\n",
    "imdb_gnb_valid_predicted = imdb_gnb_clf.predict(imdb_valid_freq_x)\n",
    "print(\"%.3f\" % f1_score(imdb_valid_y, imdb_gnb_valid_predicted, average='macro'))\n",
    "print(\"Test set prediction F1 Score (macro):\")\n",
    "imdb_gnb_test_predicted = imdb_gnb_clf.predict(imdb_test_freq_x)\n",
    "print(\"%.3f\" % f1_score(imdb_test_y, imdb_gnb_test_predicted, average='macro'))\n",
    "print()"
   ]
  },
  {
   "cell_type": "code",
   "execution_count": 18,
   "metadata": {},
   "outputs": [],
   "source": [
    "imdb_freq_train_valid_x = np.append(imdb_train_freq_x, imdb_valid_freq_x, axis=0)\n",
    "imdb_freq_train_valid_y = np.append(imdb_train_y, imdb_valid_y, axis=0)\n",
    "imdb_freq_train_valid_fold = np.zeros(shape=(imdb_freq_train_valid_x.shape[0]))\n",
    "imdb_freq_train_valid_fold[0:imdb_train_freq_x.shape[0]] = -1\n",
    "imdb_freq_ps = PredefinedSplit(imdb_freq_train_valid_fold)"
   ]
  },
  {
   "cell_type": "markdown",
   "metadata": {},
   "source": [
    "#### Create Decision Tree Classifier for Frequency Bag of Words\n",
    "Parameters:\n",
    "* Criterion: 'gini' and 'entropy'\n",
    "* Max Depth: 10 equally spred values over 2^3^ to 2^11^\n"
   ]
  },
  {
   "cell_type": "code",
   "execution_count": 19,
   "metadata": {},
   "outputs": [
    {
     "name": "stdout",
     "output_type": "stream",
     "text": [
      "Fitting 1 folds for each of 20 candidates, totalling 20 fits\n"
     ]
    },
    {
     "name": "stdout",
     "output_type": "stream",
     "text": [
      "[CV] criterion=gini, max_depth=8.0, random_state=1000 ................\n"
     ]
    },
    {
     "name": "stdout",
     "output_type": "stream",
     "text": [
      "[CV] criterion=gini, max_depth=14.813995396596646, random_state=1000 .\n"
     ]
    },
    {
     "name": "stdout",
     "output_type": "stream",
     "text": [
      "[CV] . criterion=gini, max_depth=8.0, random_state=1000, total= 1.8min\n"
     ]
    },
    {
     "name": "stdout",
     "output_type": "stream",
     "text": [
      "[CV] criterion=gini, max_depth=27.43180745129833, random_state=1000 ..\n"
     ]
    },
    {
     "name": "stdout",
     "output_type": "stream",
     "text": [
      "[CV]  criterion=gini, max_depth=14.813995396596646, random_state=1000, total= 1.9min\n"
     ]
    },
    {
     "name": "stdout",
     "output_type": "stream",
     "text": [
      "[CV] criterion=gini, max_depth=50.796833662982365, random_state=1000 .\n"
     ]
    },
    {
     "name": "stdout",
     "output_type": "stream",
     "text": [
      "[CV]  criterion=gini, max_depth=27.43180745129833, random_state=1000, total= 1.1min\n"
     ]
    },
    {
     "name": "stdout",
     "output_type": "stream",
     "text": [
      "[CV] criterion=gini, max_depth=94.06300750563831, random_state=1000 ..\n"
     ]
    },
    {
     "name": "stdout",
     "output_type": "stream",
     "text": [
      "[CV]  criterion=gini, max_depth=50.796833662982365, random_state=1000, total= 1.3min\n"
     ]
    },
    {
     "name": "stdout",
     "output_type": "stream",
     "text": [
      "[CV] criterion=gini, max_depth=174.18112002232027, random_state=1000 .\n"
     ]
    },
    {
     "name": "stdout",
     "output_type": "stream",
     "text": [
      "[CV]  criterion=gini, max_depth=94.06300750563831, random_state=1000, total= 1.7min\n"
     ]
    },
    {
     "name": "stdout",
     "output_type": "stream",
     "text": [
      "[CV] criterion=gini, max_depth=322.53978877308725, random_state=1000 .\n"
     ]
    },
    {
     "name": "stdout",
     "output_type": "stream",
     "text": [
      "[CV]  criterion=gini, max_depth=174.18112002232027, random_state=1000, total= 1.6min\n"
     ]
    },
    {
     "name": "stdout",
     "output_type": "stream",
     "text": [
      "[CV] criterion=gini, max_depth=597.2628682629713, random_state=1000 ..\n"
     ]
    },
    {
     "name": "stdout",
     "output_type": "stream",
     "text": [
      "[CV]  criterion=gini, max_depth=322.53978877308725, random_state=1000, total= 1.6min\n"
     ]
    },
    {
     "name": "stdout",
     "output_type": "stream",
     "text": [
      "[CV] criterion=gini, max_depth=1105.9811726257212, random_state=1000 .\n"
     ]
    },
    {
     "name": "stdout",
     "output_type": "stream",
     "text": [
      "[CV]  criterion=gini, max_depth=597.2628682629713, random_state=1000, total= 1.6min\n"
     ]
    },
    {
     "name": "stdout",
     "output_type": "stream",
     "text": [
      "[CV] criterion=gini, max_depth=2048.0, random_state=1000 .............\n"
     ]
    },
    {
     "name": "stdout",
     "output_type": "stream",
     "text": [
      "[CV]  criterion=gini, max_depth=1105.9811726257212, random_state=1000, total= 1.6min\n"
     ]
    },
    {
     "name": "stdout",
     "output_type": "stream",
     "text": [
      "[CV] criterion=entropy, max_depth=8.0, random_state=1000 .............\n"
     ]
    },
    {
     "name": "stdout",
     "output_type": "stream",
     "text": [
      "[CV]  criterion=gini, max_depth=2048.0, random_state=1000, total= 1.6min\n"
     ]
    },
    {
     "name": "stdout",
     "output_type": "stream",
     "text": [
      "[CV] criterion=entropy, max_depth=14.813995396596646, random_state=1000 \n"
     ]
    },
    {
     "name": "stdout",
     "output_type": "stream",
     "text": [
      "[CV]  criterion=entropy, max_depth=8.0, random_state=1000, total=  38.7s\n"
     ]
    },
    {
     "name": "stdout",
     "output_type": "stream",
     "text": [
      "[CV] criterion=entropy, max_depth=27.43180745129833, random_state=1000 \n"
     ]
    },
    {
     "name": "stdout",
     "output_type": "stream",
     "text": [
      "[CV]  criterion=entropy, max_depth=14.813995396596646, random_state=1000, total=  47.7s\n"
     ]
    },
    {
     "name": "stdout",
     "output_type": "stream",
     "text": [
      "[CV] criterion=entropy, max_depth=50.796833662982365, random_state=1000 \n"
     ]
    },
    {
     "name": "stdout",
     "output_type": "stream",
     "text": [
      "[CV]  criterion=entropy, max_depth=27.43180745129833, random_state=1000, total=  59.0s\n"
     ]
    },
    {
     "name": "stdout",
     "output_type": "stream",
     "text": [
      "[CV] criterion=entropy, max_depth=94.06300750563831, random_state=1000 \n"
     ]
    },
    {
     "name": "stdout",
     "output_type": "stream",
     "text": [
      "[CV]  criterion=entropy, max_depth=50.796833662982365, random_state=1000, total= 1.1min\n"
     ]
    },
    {
     "name": "stdout",
     "output_type": "stream",
     "text": [
      "[CV] criterion=entropy, max_depth=174.18112002232027, random_state=1000 \n"
     ]
    },
    {
     "name": "stdout",
     "output_type": "stream",
     "text": [
      "[CV]  criterion=entropy, max_depth=94.06300750563831, random_state=1000, total= 1.1min\n"
     ]
    },
    {
     "name": "stdout",
     "output_type": "stream",
     "text": [
      "[CV] criterion=entropy, max_depth=322.53978877308725, random_state=1000 \n"
     ]
    },
    {
     "name": "stdout",
     "output_type": "stream",
     "text": [
      "[CV]  criterion=entropy, max_depth=174.18112002232027, random_state=1000, total= 1.1min\n"
     ]
    },
    {
     "name": "stdout",
     "output_type": "stream",
     "text": [
      "[CV] criterion=entropy, max_depth=597.2628682629713, random_state=1000 \n"
     ]
    },
    {
     "name": "stdout",
     "output_type": "stream",
     "text": [
      "[CV]  criterion=entropy, max_depth=322.53978877308725, random_state=1000, total= 1.1min\n"
     ]
    },
    {
     "name": "stdout",
     "output_type": "stream",
     "text": [
      "[CV] criterion=entropy, max_depth=1105.9811726257212, random_state=1000 \n"
     ]
    },
    {
     "name": "stdout",
     "output_type": "stream",
     "text": [
      "[CV]  criterion=entropy, max_depth=597.2628682629713, random_state=1000, total= 1.1min\n"
     ]
    },
    {
     "name": "stdout",
     "output_type": "stream",
     "text": [
      "[CV] criterion=entropy, max_depth=2048.0, random_state=1000 ..........\n"
     ]
    },
    {
     "name": "stdout",
     "output_type": "stream",
     "text": [
      "[CV]  criterion=entropy, max_depth=1105.9811726257212, random_state=1000, total= 1.1min\n"
     ]
    },
    {
     "name": "stdout",
     "output_type": "stream",
     "text": [
      "[CV]  criterion=entropy, max_depth=2048.0, random_state=1000, total= 1.0min\n"
     ]
    },
    {
     "name": "stderr",
     "output_type": "stream",
     "text": [
      "[Parallel(n_jobs=2)]: Done  20 out of  20 | elapsed: 13.5min finished\n"
     ]
    },
    {
     "data": {
      "text/plain": [
       "DecisionTreeClassifier(class_weight=None, criterion='gini',\n            max_depth=27.43180745129833, max_features=None,\n            max_leaf_nodes=None, min_impurity_decrease=0.0,\n            min_impurity_split=None, min_samples_leaf=1,\n            min_samples_split=2, min_weight_fraction_leaf=0.0,\n            presort=False, random_state=1000, splitter='best')"
      ]
     },
     "execution_count": 19,
     "metadata": {},
     "output_type": "execute_result"
    }
   ],
   "source": [
    "imdb_dt_clf_freq = DecisionTreeClassifier()\n",
    "imdb_dt_criterion_freq = ['gini', 'entropy']\n",
    "imdb_dt_max_depth_freq = np.logspace(3, 11, 10, base=2)\n",
    "imdb_dt_params_freq = [{'criterion': imdb_dt_criterion_freq, 'max_depth': imdb_dt_max_depth_freq, 'random_state': [1000]}]\n",
    "imdb_dt_gs_freq = GridSearchCV(imdb_dt_clf_freq, imdb_dt_params_freq, cv=imdb_freq_ps, scoring='f1_macro', n_jobs=2, refit=True, verbose=2)\n",
    "imdb_dt_gs_freq.fit(imdb_freq_train_valid_x, imdb_freq_train_valid_y)\n",
    "imdb_dt_best_clf_freq = imdb_dt_gs_freq.best_estimator_\n",
    "imdb_dt_best_clf_freq.fit(imdb_train_freq_x, imdb_train_y)"
   ]
  },
  {
   "cell_type": "code",
   "execution_count": 20,
   "metadata": {},
   "outputs": [
    {
     "name": "stdout",
     "output_type": "stream",
     "text": [
      "Classifier: Decision Tree | Dataset: imdb | Bag of Words: Frequency\nTuning hyper-parameters for F1 Score (macro)\n\nBest Parameters found on validation set:\n{'criterion': 'gini', 'max_depth': 27.43180745129833, 'random_state': 1000}\n\nBest Scores on validation set:\n0.705\n\nTraining set prediction F1 Score (macro):\n"
     ]
    },
    {
     "name": "stdout",
     "output_type": "stream",
     "text": [
      "0.930\nValidation set prediction F1 Score (macro):\n"
     ]
    },
    {
     "name": "stdout",
     "output_type": "stream",
     "text": [
      "0.705\nTest set prediction F1 Score (macro):\n"
     ]
    },
    {
     "name": "stdout",
     "output_type": "stream",
     "text": [
      "0.706\n"
     ]
    }
   ],
   "source": [
    "print(\"Classifier: Decision Tree | Dataset: imdb | Bag of Words: Frequency\")\n",
    "print(\"Tuning hyper-parameters for F1 Score (macro)\")\n",
    "print()\n",
    "print(\"Best Parameters found on validation set:\")\n",
    "print(imdb_dt_gs_freq.best_params_)\n",
    "print()\n",
    "print(\"Best Scores on validation set:\")\n",
    "print(\"%.3f\" % imdb_dt_gs_freq.best_score_)\n",
    "print()\n",
    "print(\"Training set prediction F1 Score (macro):\")\n",
    "imdb_dt_train_freq_predicted = imdb_dt_best_clf_freq.predict(imdb_train_freq_x)\n",
    "print(\"%.3f\" % f1_score(imdb_train_y, imdb_dt_train_freq_predicted, average='macro'))\n",
    "print(\"Validation set prediction F1 Score (macro):\")\n",
    "imdb_dt_valid_freq_predicted = imdb_dt_best_clf_freq.predict(imdb_valid_freq_x)\n",
    "print(\"%.3f\" % f1_score(imdb_valid_y, imdb_dt_valid_freq_predicted, average='macro'))\n",
    "print(\"Test set prediction F1 Score (macro):\")\n",
    "imdb_dt_test_freq_predicted = imdb_dt_best_clf_freq.predict(imdb_test_freq_x)\n",
    "print(\"%.3f\" % f1_score(imdb_test_y, imdb_dt_test_freq_predicted, average='macro'))\n"
   ]
  },
  {
   "cell_type": "markdown",
   "metadata": {},
   "source": [
    "#### Create Linear Support Vector Classifier for Frequency Bag of Words\n",
    "Parameters:\n",
    "* C: 7 equally distributed values over 2^7^ to 2^9^\n",
    "* Tolerance: 7 equally distributed values over 10^-1^ to 10^1^"
   ]
  },
  {
   "cell_type": "code",
   "execution_count": 31,
   "metadata": {},
   "outputs": [],
   "source": [
    "imdb_svm_clf_freq = LinearSVC()\n",
    "imdb_svm_c_freq = np.logspace(1, 8, 7, base=2)\n",
    "imdb_svm_tol_freq = np.logspace(-5, -2, 7)\n",
    "imdb_svm_dual_freq = [False]\n",
    "imdb_svm_random_state_freq = [1000]\n",
    "imdb_svm_params_freq = [{'C': imdb_svm_c_freq, 'tol': imdb_svm_tol_freq, 'random_state': imdb_svm_random_state_freq, 'dual': imdb_svm_dual_freq}]\n",
    "imdb_svm_gs_freq = GridSearchCV(imdb_svm_clf_freq, imdb_svm_params_freq, cv=imdb_freq_ps, scoring='f1_macro', n_jobs=2, refit=True, verbose=2)"
   ]
  },
  {
   "cell_type": "code",
   "execution_count": 32,
   "metadata": {
    "collapsed": false
   },
   "outputs": [
    {
     "name": "stdout",
     "output_type": "stream",
     "text": [
      "Fitting 1 folds for each of 49 candidates, totalling 49 fits\n"
     ]
    },
    {
     "name": "stdout",
     "output_type": "stream",
     "text": [
      "[CV] C=2.0, dual=False, random_state=1000, tol=1e-05 .................\n"
     ]
    },
    {
     "name": "stdout",
     "output_type": "stream",
     "text": [
      "[CV] C=2.0, dual=False, random_state=1000, tol=3.1622776601683795e-05 \n"
     ]
    },
    {
     "name": "stdout",
     "output_type": "stream",
     "text": [
      "[CV] .. C=2.0, dual=False, random_state=1000, tol=1e-05, total=   3.4s\n"
     ]
    },
    {
     "name": "stdout",
     "output_type": "stream",
     "text": [
      "[CV] C=2.0, dual=False, random_state=1000, tol=0.0001 ................\n"
     ]
    },
    {
     "name": "stdout",
     "output_type": "stream",
     "text": [
      "[CV]  C=2.0, dual=False, random_state=1000, tol=3.1622776601683795e-05, total=   3.6s\n"
     ]
    },
    {
     "name": "stdout",
     "output_type": "stream",
     "text": [
      "[CV] C=2.0, dual=False, random_state=1000, tol=0.00031622776601683794 \n"
     ]
    },
    {
     "name": "stdout",
     "output_type": "stream",
     "text": [
      "[CV] . C=2.0, dual=False, random_state=1000, tol=0.0001, total=   3.9s\n"
     ]
    },
    {
     "name": "stdout",
     "output_type": "stream",
     "text": [
      "[CV] C=2.0, dual=False, random_state=1000, tol=0.001 .................\n"
     ]
    },
    {
     "name": "stdout",
     "output_type": "stream",
     "text": [
      "[CV]  C=2.0, dual=False, random_state=1000, tol=0.00031622776601683794, total=   4.1s\n"
     ]
    },
    {
     "name": "stdout",
     "output_type": "stream",
     "text": [
      "[CV] C=2.0, dual=False, random_state=1000, tol=0.0031622776601683794 .\n"
     ]
    },
    {
     "name": "stdout",
     "output_type": "stream",
     "text": [
      "[CV] .. C=2.0, dual=False, random_state=1000, tol=0.001, total=   3.6s\n"
     ]
    },
    {
     "name": "stdout",
     "output_type": "stream",
     "text": [
      "[CV] C=2.0, dual=False, random_state=1000, tol=0.01 ..................\n"
     ]
    },
    {
     "name": "stdout",
     "output_type": "stream",
     "text": [
      "[CV]  C=2.0, dual=False, random_state=1000, tol=0.0031622776601683794, total=   3.3s\n"
     ]
    },
    {
     "name": "stdout",
     "output_type": "stream",
     "text": [
      "[CV] C=4.489848193237493, dual=False, random_state=1000, tol=1e-05 ...\n"
     ]
    },
    {
     "name": "stdout",
     "output_type": "stream",
     "text": [
      "[CV] ... C=2.0, dual=False, random_state=1000, tol=0.01, total=   3.6s\n"
     ]
    },
    {
     "name": "stdout",
     "output_type": "stream",
     "text": [
      "[CV] C=4.489848193237493, dual=False, random_state=1000, tol=3.1622776601683795e-05 \n"
     ]
    },
    {
     "name": "stdout",
     "output_type": "stream",
     "text": [
      "[CV]  C=4.489848193237493, dual=False, random_state=1000, tol=1e-05, total=   3.7s\n"
     ]
    },
    {
     "name": "stdout",
     "output_type": "stream",
     "text": [
      "[CV] C=4.489848193237493, dual=False, random_state=1000, tol=0.0001 ..\n"
     ]
    },
    {
     "name": "stdout",
     "output_type": "stream",
     "text": [
      "[CV]  C=4.489848193237493, dual=False, random_state=1000, tol=3.1622776601683795e-05, total=   4.0s\n"
     ]
    },
    {
     "name": "stdout",
     "output_type": "stream",
     "text": [
      "[CV] C=4.489848193237493, dual=False, random_state=1000, tol=0.00031622776601683794 \n"
     ]
    },
    {
     "name": "stdout",
     "output_type": "stream",
     "text": [
      "[CV]  C=4.489848193237493, dual=False, random_state=1000, tol=0.0001, total=   3.7s\n"
     ]
    },
    {
     "name": "stdout",
     "output_type": "stream",
     "text": [
      "[CV] C=4.489848193237493, dual=False, random_state=1000, tol=0.001 ...\n"
     ]
    },
    {
     "name": "stdout",
     "output_type": "stream",
     "text": [
      "[CV]  C=4.489848193237493, dual=False, random_state=1000, tol=0.00031622776601683794, total=   3.6s\n"
     ]
    },
    {
     "name": "stdout",
     "output_type": "stream",
     "text": [
      "[CV] C=4.489848193237493, dual=False, random_state=1000, tol=0.0031622776601683794 \n"
     ]
    },
    {
     "name": "stdout",
     "output_type": "stream",
     "text": [
      "[CV]  C=4.489848193237493, dual=False, random_state=1000, tol=0.001, total=   3.6s\n"
     ]
    },
    {
     "name": "stdout",
     "output_type": "stream",
     "text": [
      "[CV] C=4.489848193237493, dual=False, random_state=1000, tol=0.01 ....\n"
     ]
    },
    {
     "name": "stdout",
     "output_type": "stream",
     "text": [
      "[CV]  C=4.489848193237493, dual=False, random_state=1000, tol=0.0031622776601683794, total=   3.6s\n"
     ]
    },
    {
     "name": "stdout",
     "output_type": "stream",
     "text": [
      "[CV] C=10.079368399158986, dual=False, random_state=1000, tol=1e-05 ..\n"
     ]
    },
    {
     "name": "stdout",
     "output_type": "stream",
     "text": [
      "[CV]  C=4.489848193237493, dual=False, random_state=1000, tol=0.01, total=   4.1s\n"
     ]
    },
    {
     "name": "stdout",
     "output_type": "stream",
     "text": [
      "[CV] C=10.079368399158986, dual=False, random_state=1000, tol=3.1622776601683795e-05 \n"
     ]
    },
    {
     "name": "stdout",
     "output_type": "stream",
     "text": [
      "[CV]  C=10.079368399158986, dual=False, random_state=1000, tol=1e-05, total=   4.3s\n"
     ]
    },
    {
     "name": "stdout",
     "output_type": "stream",
     "text": [
      "[CV] C=10.079368399158986, dual=False, random_state=1000, tol=0.0001 .\n"
     ]
    },
    {
     "name": "stdout",
     "output_type": "stream",
     "text": [
      "[CV]  C=10.079368399158986, dual=False, random_state=1000, tol=3.1622776601683795e-05, total=   4.0s\n"
     ]
    },
    {
     "name": "stdout",
     "output_type": "stream",
     "text": [
      "[CV] C=10.079368399158986, dual=False, random_state=1000, tol=0.00031622776601683794 \n"
     ]
    },
    {
     "name": "stdout",
     "output_type": "stream",
     "text": [
      "[CV]  C=10.079368399158986, dual=False, random_state=1000, tol=0.0001, total=   4.2s\n"
     ]
    },
    {
     "name": "stdout",
     "output_type": "stream",
     "text": [
      "[CV] C=10.079368399158986, dual=False, random_state=1000, tol=0.001 ..\n"
     ]
    },
    {
     "name": "stdout",
     "output_type": "stream",
     "text": [
      "[CV]  C=10.079368399158986, dual=False, random_state=1000, tol=0.00031622776601683794, total=   3.9s\n"
     ]
    },
    {
     "name": "stdout",
     "output_type": "stream",
     "text": [
      "[CV] C=10.079368399158986, dual=False, random_state=1000, tol=0.0031622776601683794 \n"
     ]
    },
    {
     "name": "stdout",
     "output_type": "stream",
     "text": [
      "[CV]  C=10.079368399158986, dual=False, random_state=1000, tol=0.001, total=   4.0s\n"
     ]
    },
    {
     "name": "stdout",
     "output_type": "stream",
     "text": [
      "[CV] C=10.079368399158986, dual=False, random_state=1000, tol=0.01 ...\n"
     ]
    },
    {
     "name": "stdout",
     "output_type": "stream",
     "text": [
      "[CV]  C=10.079368399158986, dual=False, random_state=1000, tol=0.0031622776601683794, total=   3.8s\n"
     ]
    },
    {
     "name": "stdout",
     "output_type": "stream",
     "text": [
      "[CV] C=22.627416997969522, dual=False, random_state=1000, tol=1e-05 ..\n"
     ]
    },
    {
     "name": "stdout",
     "output_type": "stream",
     "text": [
      "[CV]  C=10.079368399158986, dual=False, random_state=1000, tol=0.01, total=   3.7s\n"
     ]
    },
    {
     "name": "stdout",
     "output_type": "stream",
     "text": [
      "[CV] C=22.627416997969522, dual=False, random_state=1000, tol=3.1622776601683795e-05 \n"
     ]
    },
    {
     "name": "stdout",
     "output_type": "stream",
     "text": [
      "[CV]  C=22.627416997969522, dual=False, random_state=1000, tol=1e-05, total=   4.7s\n"
     ]
    },
    {
     "name": "stdout",
     "output_type": "stream",
     "text": [
      "[CV] C=22.627416997969522, dual=False, random_state=1000, tol=0.0001 .\n"
     ]
    },
    {
     "name": "stdout",
     "output_type": "stream",
     "text": [
      "[CV]  C=22.627416997969522, dual=False, random_state=1000, tol=3.1622776601683795e-05, total=   5.3s\n"
     ]
    },
    {
     "name": "stdout",
     "output_type": "stream",
     "text": [
      "[CV] C=22.627416997969522, dual=False, random_state=1000, tol=0.00031622776601683794 \n"
     ]
    },
    {
     "name": "stdout",
     "output_type": "stream",
     "text": [
      "[CV]  C=22.627416997969522, dual=False, random_state=1000, tol=0.0001, total=   4.6s\n"
     ]
    },
    {
     "name": "stdout",
     "output_type": "stream",
     "text": [
      "[CV] C=22.627416997969522, dual=False, random_state=1000, tol=0.001 ..\n"
     ]
    },
    {
     "name": "stdout",
     "output_type": "stream",
     "text": [
      "[CV]  C=22.627416997969522, dual=False, random_state=1000, tol=0.00031622776601683794, total=   4.3s\n"
     ]
    },
    {
     "name": "stdout",
     "output_type": "stream",
     "text": [
      "[CV] C=22.627416997969522, dual=False, random_state=1000, tol=0.0031622776601683794 \n"
     ]
    },
    {
     "name": "stdout",
     "output_type": "stream",
     "text": [
      "[CV]  C=22.627416997969522, dual=False, random_state=1000, tol=0.001, total=   3.9s\n"
     ]
    },
    {
     "name": "stdout",
     "output_type": "stream",
     "text": [
      "[CV] C=22.627416997969522, dual=False, random_state=1000, tol=0.01 ...\n"
     ]
    },
    {
     "name": "stdout",
     "output_type": "stream",
     "text": [
      "[CV]  C=22.627416997969522, dual=False, random_state=1000, tol=0.0031622776601683794, total=   4.2s\n"
     ]
    },
    {
     "name": "stdout",
     "output_type": "stream",
     "text": [
      "[CV] C=50.796833662982394, dual=False, random_state=1000, tol=1e-05 ..\n"
     ]
    },
    {
     "name": "stdout",
     "output_type": "stream",
     "text": [
      "[CV]  C=22.627416997969522, dual=False, random_state=1000, tol=0.01, total=   3.7s\n"
     ]
    },
    {
     "name": "stdout",
     "output_type": "stream",
     "text": [
      "[CV] C=50.796833662982394, dual=False, random_state=1000, tol=3.1622776601683795e-05 \n"
     ]
    },
    {
     "name": "stdout",
     "output_type": "stream",
     "text": [
      "[CV]  C=50.796833662982394, dual=False, random_state=1000, tol=1e-05, total=   4.7s\n"
     ]
    },
    {
     "name": "stdout",
     "output_type": "stream",
     "text": [
      "[CV] C=50.796833662982394, dual=False, random_state=1000, tol=0.0001 .\n"
     ]
    },
    {
     "name": "stdout",
     "output_type": "stream",
     "text": [
      "[CV]  C=50.796833662982394, dual=False, random_state=1000, tol=3.1622776601683795e-05, total=   4.6s\n"
     ]
    },
    {
     "name": "stdout",
     "output_type": "stream",
     "text": [
      "[CV] C=50.796833662982394, dual=False, random_state=1000, tol=0.00031622776601683794 \n"
     ]
    },
    {
     "name": "stdout",
     "output_type": "stream",
     "text": [
      "[CV]  C=50.796833662982394, dual=False, random_state=1000, tol=0.0001, total=   4.7s\n"
     ]
    },
    {
     "name": "stdout",
     "output_type": "stream",
     "text": [
      "[CV] C=50.796833662982394, dual=False, random_state=1000, tol=0.001 ..\n"
     ]
    },
    {
     "name": "stdout",
     "output_type": "stream",
     "text": [
      "[CV]  C=50.796833662982394, dual=False, random_state=1000, tol=0.00031622776601683794, total=   4.5s\n"
     ]
    },
    {
     "name": "stdout",
     "output_type": "stream",
     "text": [
      "[CV] C=50.796833662982394, dual=False, random_state=1000, tol=0.0031622776601683794 \n"
     ]
    },
    {
     "name": "stdout",
     "output_type": "stream",
     "text": [
      "[CV]  C=50.796833662982394, dual=False, random_state=1000, tol=0.001, total=   4.2s\n"
     ]
    },
    {
     "name": "stdout",
     "output_type": "stream",
     "text": [
      "[CV] C=50.796833662982394, dual=False, random_state=1000, tol=0.01 ...\n"
     ]
    },
    {
     "name": "stdout",
     "output_type": "stream",
     "text": [
      "[CV]  C=50.796833662982394, dual=False, random_state=1000, tol=0.0031622776601683794, total=   4.3s\n"
     ]
    },
    {
     "name": "stdout",
     "output_type": "stream",
     "text": [
      "[CV] C=114.03503592196348, dual=False, random_state=1000, tol=1e-05 ..\n"
     ]
    },
    {
     "name": "stdout",
     "output_type": "stream",
     "text": [
      "[CV]  C=50.796833662982394, dual=False, random_state=1000, tol=0.01, total=   3.8s\n"
     ]
    },
    {
     "name": "stdout",
     "output_type": "stream",
     "text": [
      "[CV] C=114.03503592196348, dual=False, random_state=1000, tol=3.1622776601683795e-05 \n"
     ]
    },
    {
     "name": "stdout",
     "output_type": "stream",
     "text": [
      "[CV]  C=114.03503592196348, dual=False, random_state=1000, tol=1e-05, total=   5.7s\n"
     ]
    },
    {
     "name": "stdout",
     "output_type": "stream",
     "text": [
      "[CV] C=114.03503592196348, dual=False, random_state=1000, tol=0.0001 .\n"
     ]
    },
    {
     "name": "stdout",
     "output_type": "stream",
     "text": [
      "[CV]  C=114.03503592196348, dual=False, random_state=1000, tol=3.1622776601683795e-05, total=   5.8s\n"
     ]
    },
    {
     "name": "stderr",
     "output_type": "stream",
     "text": [
      "[Parallel(n_jobs=2)]: Done  37 tasks      | elapsed:  2.3min\n"
     ]
    },
    {
     "name": "stdout",
     "output_type": "stream",
     "text": [
      "[CV] C=114.03503592196348, dual=False, random_state=1000, tol=0.00031622776601683794 \n"
     ]
    },
    {
     "name": "stdout",
     "output_type": "stream",
     "text": [
      "[CV]  C=114.03503592196348, dual=False, random_state=1000, tol=0.0001, total=   5.6s\n"
     ]
    },
    {
     "name": "stdout",
     "output_type": "stream",
     "text": [
      "[CV] C=114.03503592196348, dual=False, random_state=1000, tol=0.001 ..\n"
     ]
    },
    {
     "name": "stdout",
     "output_type": "stream",
     "text": [
      "[CV]  C=114.03503592196348, dual=False, random_state=1000, tol=0.00031622776601683794, total=   5.9s\n"
     ]
    },
    {
     "name": "stdout",
     "output_type": "stream",
     "text": [
      "[CV] C=114.03503592196348, dual=False, random_state=1000, tol=0.0031622776601683794 \n"
     ]
    },
    {
     "name": "stdout",
     "output_type": "stream",
     "text": [
      "[CV]  C=114.03503592196348, dual=False, random_state=1000, tol=0.001, total=   5.1s\n"
     ]
    },
    {
     "name": "stdout",
     "output_type": "stream",
     "text": [
      "[CV] C=114.03503592196348, dual=False, random_state=1000, tol=0.01 ...\n"
     ]
    },
    {
     "name": "stdout",
     "output_type": "stream",
     "text": [
      "[CV]  C=114.03503592196348, dual=False, random_state=1000, tol=0.0031622776601683794, total=   4.6s\n"
     ]
    },
    {
     "name": "stdout",
     "output_type": "stream",
     "text": [
      "[CV] C=256.0, dual=False, random_state=1000, tol=1e-05 ...............\n"
     ]
    },
    {
     "name": "stdout",
     "output_type": "stream",
     "text": [
      "[CV]  C=114.03503592196348, dual=False, random_state=1000, tol=0.01, total=   4.5s\n"
     ]
    },
    {
     "name": "stdout",
     "output_type": "stream",
     "text": [
      "[CV] C=256.0, dual=False, random_state=1000, tol=3.1622776601683795e-05 \n"
     ]
    },
    {
     "name": "stdout",
     "output_type": "stream",
     "text": [
      "[CV]  C=256.0, dual=False, random_state=1000, tol=1e-05, total=   5.7s\n"
     ]
    },
    {
     "name": "stdout",
     "output_type": "stream",
     "text": [
      "[CV] C=256.0, dual=False, random_state=1000, tol=0.0001 ..............\n"
     ]
    },
    {
     "name": "stdout",
     "output_type": "stream",
     "text": [
      "[CV]  C=256.0, dual=False, random_state=1000, tol=3.1622776601683795e-05, total=   5.7s\n"
     ]
    },
    {
     "name": "stdout",
     "output_type": "stream",
     "text": [
      "[CV] C=256.0, dual=False, random_state=1000, tol=0.00031622776601683794 \n"
     ]
    },
    {
     "name": "stdout",
     "output_type": "stream",
     "text": [
      "[CV]  C=256.0, dual=False, random_state=1000, tol=0.0001, total=   5.3s\n"
     ]
    },
    {
     "name": "stdout",
     "output_type": "stream",
     "text": [
      "[CV] C=256.0, dual=False, random_state=1000, tol=0.001 ...............\n"
     ]
    },
    {
     "name": "stdout",
     "output_type": "stream",
     "text": [
      "[CV]  C=256.0, dual=False, random_state=1000, tol=0.00031622776601683794, total=   5.8s\n"
     ]
    },
    {
     "name": "stdout",
     "output_type": "stream",
     "text": [
      "[CV] C=256.0, dual=False, random_state=1000, tol=0.0031622776601683794 \n"
     ]
    },
    {
     "name": "stdout",
     "output_type": "stream",
     "text": [
      "[CV]  C=256.0, dual=False, random_state=1000, tol=0.001, total=   5.5s\n"
     ]
    },
    {
     "name": "stdout",
     "output_type": "stream",
     "text": [
      "[CV] C=256.0, dual=False, random_state=1000, tol=0.01 ................\n"
     ]
    },
    {
     "name": "stdout",
     "output_type": "stream",
     "text": [
      "[CV]  C=256.0, dual=False, random_state=1000, tol=0.0031622776601683794, total=   4.9s\n"
     ]
    },
    {
     "name": "stdout",
     "output_type": "stream",
     "text": [
      "[CV] . C=256.0, dual=False, random_state=1000, tol=0.01, total=   4.1s\n"
     ]
    },
    {
     "name": "stderr",
     "output_type": "stream",
     "text": [
      "[Parallel(n_jobs=2)]: Done  49 out of  49 | elapsed:  3.1min finished\n"
     ]
    },
    {
     "data": {
      "text/plain": [
       "LinearSVC(C=114.03503592196348, class_weight=None, dual=False,\n     fit_intercept=True, intercept_scaling=1, loss='squared_hinge',\n     max_iter=1000, multi_class='ovr', penalty='l2', random_state=1000,\n     tol=1e-05, verbose=0)"
      ]
     },
     "execution_count": 32,
     "metadata": {},
     "output_type": "execute_result"
    }
   ],
   "source": [
    "imdb_svm_gs_freq.fit(imdb_freq_train_valid_x, imdb_freq_train_valid_y)\n",
    "imdb_svm_best_clf_freq = imdb_svm_gs_freq.best_estimator_\n",
    "imdb_svm_best_clf_freq.fit(imdb_train_freq_x, imdb_train_y)"
   ]
  },
  {
   "cell_type": "code",
   "execution_count": 33,
   "metadata": {},
   "outputs": [
    {
     "name": "stdout",
     "output_type": "stream",
     "text": [
      "Classifier: Linear Support Vector Classifier | Dataset: imdb | Bag of Words: Frequency\nTuning hyper-parameters for F1 Score (macro)\n\nBest Parameters found on validation set:\n{'C': 114.03503592196348, 'dual': False, 'random_state': 1000, 'tol': 1e-05}\n\nBest Scores on validation set:\n0.880\n\nTraining set prediction F1 Score (macro):\n"
     ]
    },
    {
     "name": "stdout",
     "output_type": "stream",
     "text": [
      "0.951\nValidation set prediction F1 Score (macro):\n"
     ]
    },
    {
     "name": "stdout",
     "output_type": "stream",
     "text": [
      "0.880\nTest set prediction F1 Score (macro):\n"
     ]
    },
    {
     "name": "stdout",
     "output_type": "stream",
     "text": [
      "0.875\n"
     ]
    }
   ],
   "source": [
    "print(\"Classifier: Linear Support Vector Classifier | Dataset: imdb | Bag of Words: Frequency\")\n",
    "print(\"Tuning hyper-parameters for F1 Score (macro)\")\n",
    "print()\n",
    "print(\"Best Parameters found on validation set:\")\n",
    "print(imdb_svm_gs_freq.best_params_)\n",
    "print()\n",
    "print(\"Best Scores on validation set:\")\n",
    "print(\"%.3f\" % imdb_svm_gs_freq.best_score_)\n",
    "print()\n",
    "print(\"Training set prediction F1 Score (macro):\")\n",
    "imdb_svm_train_freq_predicted = imdb_svm_best_clf_freq.predict(imdb_train_freq_x)\n",
    "print(\"%.3f\" % f1_score(imdb_train_y, imdb_svm_train_freq_predicted, average='macro'))\n",
    "print(\"Validation set prediction F1 Score (macro):\")\n",
    "imdb_svm_valid_freq_predicted = imdb_svm_best_clf_freq.predict(imdb_valid_freq_x)\n",
    "print(\"%.3f\" % f1_score(imdb_valid_y, imdb_svm_valid_freq_predicted, average='macro'))\n",
    "print(\"Test set prediction F1 Score (macro):\")\n",
    "imdb_svm_test_freq_predicted = imdb_svm_best_clf_freq.predict(imdb_test_freq_x)\n",
    "print(\"%.3f\" % f1_score(imdb_test_y, imdb_svm_test_freq_predicted, average='macro'))"
   ]
  },
  {
   "cell_type": "code",
   "execution_count": null,
   "metadata": {},
   "outputs": [],
   "source": []
  }
 ],
 "metadata": {
  "kernelspec": {
   "display_name": "Python 2",
   "language": "python",
   "name": "python2"
  },
  "language_info": {
   "codemirror_mode": {
    "name": "ipython",
    "version": 2
   },
   "file_extension": ".py",
   "mimetype": "text/x-python",
   "name": "python",
   "nbconvert_exporter": "python",
   "pygments_lexer": "ipython2",
   "version": "2.7.6"
  }
 },
 "nbformat": 4,
 "nbformat_minor": 0
}
