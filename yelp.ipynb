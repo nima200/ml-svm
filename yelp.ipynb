{
 "cells": [
  {
   "cell_type": "code",
   "execution_count": 1,
   "metadata": {
    "collapsed": true
   },
   "outputs": [],
   "source": [
    "import numpy as np\n",
    "import pandas as pd\n",
    "from sklearn.metrics import f1_score\n",
    "from sklearn.naive_bayes import BernoulliNB, GaussianNB\n",
    "from sklearn.model_selection import PredefinedSplit, GridSearchCV\n",
    "from sklearn.tree import DecisionTreeClassifier\n",
    "from sklearn.svm import LinearSVC\n",
    "from sklearn.dummy import DummyClassifier "
   ]
  },
  {
   "cell_type": "markdown",
   "metadata": {
    "collapsed": true
   },
   "source": [
    "## Helper Functions"
   ]
  },
  {
   "cell_type": "code",
   "execution_count": 2,
   "metadata": {},
   "outputs": [],
   "source": [
    "def get_vocab(data: pd.DataFrame, input_col: str):\n",
    "    data[input_col] = data[input_col].str.lower()\n",
    "    data[input_col] = data[input_col].str.replace('[^\\w\\s]', '').str.replace('<br />\\|...', '')\n",
    "    tokens = data[input_col].str.split(expand=True)\n",
    "    return pd.Series(tokens.stack().value_counts()[:10000])"
   ]
  },
  {
   "cell_type": "code",
   "execution_count": 3,
   "metadata": {},
   "outputs": [],
   "source": [
    "def pre_process_binary(data, input_col, vocab):\n",
    "    data[input_col] = data[input_col].str.lower()\n",
    "    data[input_col] = data[input_col].str.replace('[^\\w\\s]', '').str.replace('<br />\\|...', '')\n",
    "    vocab_dict = vocab.to_dict()\n",
    "    vocab_dict = {x: i for i, x in enumerate(list(vocab_dict.keys()))}\n",
    "    bow_matrix = np.zeros(shape=(data.shape[0], 10000))\n",
    "    data_tokens = data[input_col].str.split(expand=True)\n",
    "    for i, row in data_tokens.iterrows():\n",
    "        for word in row.iteritems():\n",
    "            if word[1] in vocab_dict:\n",
    "                bow_matrix[i, vocab_dict.get(word[1])] = 1\n",
    "    return bow_matrix"
   ]
  },
  {
   "cell_type": "code",
   "execution_count": 4,
   "metadata": {},
   "outputs": [],
   "source": [
    "def pre_process_frequency(data: pd.DataFrame, input_col: str, vocab):\n",
    "    data[input_col] = data[input_col].str.lower()\n",
    "    data[input_col] = data[input_col].str.replace('[^\\w\\s]', '').str.replace('<br />\\|...', '')\n",
    "    vocab_dict = vocab.to_dict()\n",
    "    vocab_dict = {x: i for i, x in enumerate(list(vocab_dict.keys()))}\n",
    "    data_tokens = data[input_col].str.split(expand=True)\n",
    "    bow_matrix = np.zeros(shape=(data_tokens.shape[0], 10000))\n",
    "    for i, row in data_tokens.iterrows():\n",
    "        word_count = 0\n",
    "        for word in row.iteritems():\n",
    "            if word[1] in vocab_dict:\n",
    "                bow_matrix[i, vocab_dict.get(word[1])] += 1\n",
    "                word_count += 1\n",
    "        if word_count != 0:\n",
    "            for j in range(bow_matrix[i].shape[0]):\n",
    "                bow_matrix[i][j] /= word_count\n",
    "    return bow_matrix\n"
   ]
  },
  {
   "cell_type": "code",
   "execution_count": 5,
   "metadata": {},
   "outputs": [],
   "source": [
    "def save_data(fname, data, vocab, input_col, class_col):\n",
    "    file = open(fname, 'w')\n",
    "    input_data = data[input_col]\n",
    "    classes = data[class_col]\n",
    "    vocab_dict = vocab.to_dict()\n",
    "    vocab_dict = {x: i + 1 for i, x in enumerate(list(vocab_dict.keys()))}\n",
    "    data_tokens = input_data.str.split(expand=True)\n",
    "    for i, row in data_tokens.iterrows():\n",
    "        row_string = \"\"\n",
    "        for word in row.iteritems():\n",
    "            if word[1] in vocab_dict:\n",
    "                index = vocab_dict.get(word[1])\n",
    "                row_string += str(index) + \" \"\n",
    "        row_string = row_string[:-1]\n",
    "        row_string += \"\\t\" + str(classes[i]) + \"\\n\"\n",
    "        file.write(row_string)\n",
    "    file.close()"
   ]
  },
  {
   "cell_type": "code",
   "execution_count": 6,
   "metadata": {},
   "outputs": [],
   "source": [
    "def save_vocab(fname, vocab):\n",
    "    file = open(fname, 'w')\n",
    "    vocab_dict = vocab.to_dict()\n",
    "    for i, word in enumerate(list(vocab_dict.keys())):\n",
    "        row_string = word + \" \" + str(i + 1) + \" \" + str(vocab_dict[word]) + \"\\n\"\n",
    "        file.write(row_string)\n",
    "    file.close()\n"
   ]
  },
  {
   "cell_type": "markdown",
   "metadata": {},
   "source": [
    "#### Read the data"
   ]
  },
  {
   "cell_type": "code",
   "execution_count": 7,
   "metadata": {},
   "outputs": [],
   "source": [
    "yelp_train = pd.read_csv('./data/yelp-train.txt', sep='\\t', names=[\"Comments\", \"Rating\"])\n",
    "yelp_valid = pd.read_csv('./data/yelp-valid.txt', sep='\\t', names=[\"Comments\", \"Rating\"])\n",
    "yelp_test = pd.read_csv('./data/yelp-test.txt', sep='\\t', names=[\"Comments\", \"Rating\"])"
   ]
  },
  {
   "cell_type": "markdown",
   "metadata": {},
   "source": [
    "#### Create and save vocabulary"
   ]
  },
  {
   "cell_type": "code",
   "execution_count": 8,
   "metadata": {},
   "outputs": [],
   "source": [
    "vocab = get_vocab(data=yelp_train, input_col=\"Comments\")"
   ]
  },
  {
   "cell_type": "code",
   "execution_count": 14,
   "metadata": {},
   "outputs": [],
   "source": [
    "save_vocab(\"./data-modified/yelp-vocab.txt\", vocab)"
   ]
  },
  {
   "cell_type": "markdown",
   "metadata": {},
   "source": [
    "#### Save the reformatted reviews"
   ]
  },
  {
   "cell_type": "code",
   "execution_count": 15,
   "metadata": {},
   "outputs": [],
   "source": [
    "save_data(\"./data-modified/yelp-train.txt\", yelp_train, vocab, \"Comments\", \"Rating\")\n",
    "save_data(\"./data-modified/yelp-valid.txt\", yelp_valid, vocab, \"Comments\", \"Rating\")\n",
    "save_data(\"./data-modified/yelp-test.txt\", yelp_test, vocab, \"Comments\", \"Rating\")"
   ]
  },
  {
   "cell_type": "markdown",
   "metadata": {},
   "source": [
    "#### Pre-process the data into binary bag-of-words"
   ]
  },
  {
   "cell_type": "code",
   "execution_count": 9,
   "metadata": {},
   "outputs": [],
   "source": [
    "yelp_train_bin_x = pre_process_binary(yelp_train, \"Comments\", vocab)\n",
    "yelp_valid_bin_x = pre_process_binary(yelp_valid, \"Comments\", vocab)\n",
    "yelp_test_bin_x = pre_process_binary(yelp_test, \"Comments\", vocab)\n"
   ]
  },
  {
   "cell_type": "markdown",
   "metadata": {},
   "source": [
    "#### Pre-process the data into frequency bag-of-words"
   ]
  },
  {
   "cell_type": "code",
   "execution_count": 9,
   "metadata": {},
   "outputs": [],
   "source": [
    "yelp_train_freq_x = pre_process_frequency(yelp_train, \"Comments\", vocab)\n",
    "yelp_valid_freq_x = pre_process_frequency(yelp_valid, \"Comments\", vocab)\n",
    "yelp_test_freq_x = pre_process_frequency(yelp_test, \"Comments\", vocab)"
   ]
  },
  {
   "cell_type": "code",
   "execution_count": 10,
   "metadata": {},
   "outputs": [],
   "source": [
    "yelp_train_y = np.array(yelp_train[\"Rating\"])\n",
    "yelp_valid_y = np.array(yelp_valid[\"Rating\"])\n",
    "yelp_test_y = np.array(yelp_test[\"Rating\"])"
   ]
  },
  {
   "cell_type": "markdown",
   "metadata": {},
   "source": [
    "#### Append the training and validation set together to perform PredefinedSplit cross validation"
   ]
  },
  {
   "cell_type": "markdown",
   "metadata": {},
   "source": [
    "The following strategy has been used to be able to take advantage of the MultiThread enabled GridSearchCV function. \n",
    "\n",
    "The function is originally created for Cross Validation, but with a neat trick it is possible to use it for predefined splits as well.\n",
    "\n",
    "First we combine both training and validation sets together. Next, we create a fold index (1D array with length len(training) + len(validation)) that has values -1 for all indices corresponding to training data, and 0 set for all indices corresponding to validation data. \n",
    "\n",
    "Using this array we can create a PredefinedSplit which then allows having one fold cross validation with our specific training and validation datasets taken into account."
   ]
  },
  {
   "cell_type": "code",
   "execution_count": 11,
   "metadata": {},
   "outputs": [],
   "source": [
    "yelp_train_valid_x = np.append(yelp_train_bin_x, yelp_valid_bin_x, axis=0)\n",
    "yelp_train_valid_y = np.append(yelp_train_y, yelp_valid_y, axis=0)\n",
    "yelp_train_valid_fold = np.zeros(shape=(yelp_train_valid_x.shape[0]))\n",
    "yelp_train_valid_fold[0:yelp_train_bin_x.shape[0]] = -1\n",
    "yelp_bin_ps = PredefinedSplit(yelp_train_valid_fold)"
   ]
  },
  {
   "cell_type": "markdown",
   "metadata": {},
   "source": [
    "#### Create Majority Class Classifier"
   ]
  },
  {
   "cell_type": "code",
   "execution_count": 19,
   "metadata": {},
   "outputs": [
    {
     "data": {
      "text/plain": [
       "DummyClassifier(constant=None, random_state=1000, strategy='most_frequent')"
      ]
     },
     "execution_count": 19,
     "metadata": {},
     "output_type": "execute_result"
    }
   ],
   "source": [
    "yelp_majority_clf_bin = DummyClassifier(\"most_frequent\", random_state=1000)\n",
    "yelp_majority_clf_bin.fit(yelp_train_bin_x, yelp_train_y)"
   ]
  },
  {
   "cell_type": "code",
   "execution_count": 20,
   "metadata": {},
   "outputs": [
    {
     "name": "stdout",
     "output_type": "stream",
     "text": [
      "Classifier: Majority Class | Dataset: Yelp | Bag of Words: Binary\nTuning hyper-parameters for F1 score (macro)\n\nThis classifier has no hyper parameters\n\nTraining set prediction F1 Score (macro):\n0.104\nValidation set prediction F1 Score (macro):\n0.105\nTest set prediction F1 Score (macro):\n0.104\n\n"
     ]
    },
    {
     "name": "stderr",
     "output_type": "stream",
     "text": [
      "/home/nima/anaconda3/envs/ml/lib/python3.6/site-packages/sklearn/metrics/classification.py:1135: UndefinedMetricWarning: F-score is ill-defined and being set to 0.0 in labels with no predicted samples.\n  'precision', 'predicted', average, warn_for)\n"
     ]
    }
   ],
   "source": [
    "print(\"Classifier: Majority Class | Dataset: Yelp | Bag of Words: Binary\")\n",
    "print(\"Tuning hyper-parameters for F1 score (macro)\")\n",
    "print()\n",
    "print(\"This classifier has no hyper parameters\")\n",
    "print()\n",
    "print(\"Training set prediction F1 Score (macro):\")\n",
    "yelp_majority_train_predicted = yelp_majority_clf_bin.predict(yelp_train_bin_x)\n",
    "print(\"%.3f\" % f1_score(yelp_train_y, yelp_majority_train_predicted, average='macro'))\n",
    "print(\"Validation set prediction F1 Score (macro):\")\n",
    "yelp_majority_valid_predicted = yelp_majority_clf_bin.predict(yelp_valid_bin_x)\n",
    "print(\"%.3f\" % f1_score(yelp_valid_y, yelp_majority_valid_predicted, average='macro'))\n",
    "print(\"Test set prediction F1 Score (macro):\")\n",
    "yelp_majority_test_predicted = yelp_majority_clf_bin.predict(yelp_test_bin_x)\n",
    "print(\"%.3f\" % f1_score(yelp_test_y, yelp_majority_test_predicted, average='macro'))\n",
    "print()"
   ]
  },
  {
   "cell_type": "markdown",
   "metadata": {},
   "source": [
    "#### Create Random Class Classifier"
   ]
  },
  {
   "cell_type": "code",
   "execution_count": 21,
   "metadata": {},
   "outputs": [
    {
     "data": {
      "text/plain": [
       "DummyClassifier(constant=None, random_state=1000, strategy='uniform')"
      ]
     },
     "execution_count": 21,
     "metadata": {},
     "output_type": "execute_result"
    }
   ],
   "source": [
    "yelp_random_clf_bin = DummyClassifier(strategy=\"uniform\", random_state=1000)\n",
    "yelp_random_clf_bin.fit(yelp_train_bin_x, yelp_train_y)"
   ]
  },
  {
   "cell_type": "code",
   "execution_count": 22,
   "metadata": {},
   "outputs": [
    {
     "name": "stdout",
     "output_type": "stream",
     "text": [
      "Classifier: Random | Dataset: Yelp | Bag of Words: Binary\nTuning hyper-parameters for F1 score (macro)\n\nThis classifier has no hyper parameters\n\nTraining set prediction F1 Score (macro):\n0.182\nValidation set prediction F1 Score (macro):\n0.197\nTest set prediction F1 Score (macro):\n0.195\n\n"
     ]
    }
   ],
   "source": [
    "print(\"Classifier: Random | Dataset: Yelp | Bag of Words: Binary\")\n",
    "print(\"Tuning hyper-parameters for F1 score (macro)\")\n",
    "print()\n",
    "print(\"This classifier has no hyper parameters\")\n",
    "print()\n",
    "print(\"Training set prediction F1 Score (macro):\")\n",
    "yelp_random_train_predicted = yelp_random_clf_bin.predict(yelp_train_bin_x)\n",
    "print(\"%.3f\" % f1_score(yelp_train_y, yelp_random_train_predicted, average='macro'))\n",
    "print(\"Validation set prediction F1 Score (macro):\")\n",
    "yelp_random_valid_predicted = yelp_random_clf_bin.predict(yelp_valid_bin_x)\n",
    "print(\"%.3f\" % f1_score(yelp_valid_y, yelp_random_valid_predicted, average='macro'))\n",
    "print(\"Test set prediction F1 Score (macro):\")\n",
    "yelp_random_test_predicted = yelp_random_clf_bin.predict(yelp_test_bin_x)\n",
    "print(\"%.3f\" % f1_score(yelp_test_y, yelp_random_test_predicted, average='macro'))\n",
    "print()"
   ]
  },
  {
   "cell_type": "markdown",
   "metadata": {
    "collapsed": true
   },
   "source": [
    "#### Create Bernoulli Naive Bayes Classifier for Binary Bag of Words\n",
    "Parameter ranges: \n",
    "* Alpha: 15 equally spread values over 10^-2^ to 10^0^"
   ]
  },
  {
   "cell_type": "code",
   "execution_count": 25,
   "metadata": {
    "collapsed": true
   },
   "outputs": [
    {
     "name": "stdout",
     "output_type": "stream",
     "text": [
      "Fitting 1 folds for each of 15 candidates, totalling 15 fits\n"
     ]
    },
    {
     "name": "stdout",
     "output_type": "stream",
     "text": [
      "[CV] alpha=0.01 ......................................................\n"
     ]
    },
    {
     "name": "stdout",
     "output_type": "stream",
     "text": [
      "[CV] alpha=0.013894954943731374 ......................................\n"
     ]
    },
    {
     "name": "stdout",
     "output_type": "stream",
     "text": [
      "[CV] ....................................... alpha=0.01, total=   2.2s\n"
     ]
    },
    {
     "name": "stdout",
     "output_type": "stream",
     "text": [
      "[CV] alpha=0.019306977288832496 ......................................\n"
     ]
    },
    {
     "name": "stdout",
     "output_type": "stream",
     "text": [
      "[CV] ....................... alpha=0.013894954943731374, total=   2.4s\n"
     ]
    },
    {
     "name": "stdout",
     "output_type": "stream",
     "text": [
      "[CV] alpha=0.02682695795279726 .......................................\n"
     ]
    },
    {
     "name": "stdout",
     "output_type": "stream",
     "text": [
      "[CV] ....................... alpha=0.019306977288832496, total=   2.3s\n"
     ]
    },
    {
     "name": "stdout",
     "output_type": "stream",
     "text": [
      "[CV] alpha=0.0372759372031494 ........................................\n"
     ]
    },
    {
     "name": "stdout",
     "output_type": "stream",
     "text": [
      "[CV] ........................ alpha=0.02682695795279726, total=   2.3s\n"
     ]
    },
    {
     "name": "stdout",
     "output_type": "stream",
     "text": [
      "[CV] alpha=0.0517947467923121 ........................................\n"
     ]
    },
    {
     "name": "stdout",
     "output_type": "stream",
     "text": [
      "[CV] ......................... alpha=0.0372759372031494, total=   2.3s\n"
     ]
    },
    {
     "name": "stdout",
     "output_type": "stream",
     "text": [
      "[CV] alpha=0.07196856730011521 .......................................\n"
     ]
    },
    {
     "name": "stdout",
     "output_type": "stream",
     "text": [
      "[CV] ......................... alpha=0.0517947467923121, total=   2.3s\n"
     ]
    },
    {
     "name": "stdout",
     "output_type": "stream",
     "text": [
      "[CV] alpha=0.1 .......................................................\n"
     ]
    },
    {
     "name": "stdout",
     "output_type": "stream",
     "text": [
      "[CV] ........................ alpha=0.07196856730011521, total=   2.4s\n"
     ]
    },
    {
     "name": "stdout",
     "output_type": "stream",
     "text": [
      "[CV] alpha=0.13894954943731375 .......................................\n"
     ]
    },
    {
     "name": "stdout",
     "output_type": "stream",
     "text": [
      "[CV] ........................................ alpha=0.1, total=   2.4s\n"
     ]
    },
    {
     "name": "stdout",
     "output_type": "stream",
     "text": [
      "[CV] alpha=0.19306977288832497 .......................................\n"
     ]
    },
    {
     "name": "stdout",
     "output_type": "stream",
     "text": [
      "[CV] ........................ alpha=0.13894954943731375, total=   3.7s\n"
     ]
    },
    {
     "name": "stdout",
     "output_type": "stream",
     "text": [
      "[CV] alpha=0.2682695795279725 ........................................\n"
     ]
    },
    {
     "name": "stdout",
     "output_type": "stream",
     "text": [
      "[CV] ........................ alpha=0.19306977288832497, total=   3.4s\n"
     ]
    },
    {
     "name": "stdout",
     "output_type": "stream",
     "text": [
      "[CV] alpha=0.372759372031494 .........................................\n"
     ]
    },
    {
     "name": "stdout",
     "output_type": "stream",
     "text": [
      "[CV] ......................... alpha=0.2682695795279725, total=   3.2s\n"
     ]
    },
    {
     "name": "stdout",
     "output_type": "stream",
     "text": [
      "[CV] alpha=0.517947467923121 .........................................\n"
     ]
    },
    {
     "name": "stdout",
     "output_type": "stream",
     "text": [
      "[CV] .......................... alpha=0.372759372031494, total=   3.0s\n"
     ]
    },
    {
     "name": "stdout",
     "output_type": "stream",
     "text": [
      "[CV] alpha=0.7196856730011517 ........................................\n"
     ]
    },
    {
     "name": "stdout",
     "output_type": "stream",
     "text": [
      "[CV] .......................... alpha=0.517947467923121, total=   2.7s\n"
     ]
    },
    {
     "name": "stdout",
     "output_type": "stream",
     "text": [
      "[CV] alpha=1.0 .......................................................\n"
     ]
    },
    {
     "name": "stdout",
     "output_type": "stream",
     "text": [
      "[CV] ......................... alpha=0.7196856730011517, total=   2.9s\n"
     ]
    },
    {
     "name": "stdout",
     "output_type": "stream",
     "text": [
      "[CV] ........................................ alpha=1.0, total=   2.5s\n"
     ]
    },
    {
     "name": "stderr",
     "output_type": "stream",
     "text": [
      "[Parallel(n_jobs=2)]: Done  15 out of  15 | elapsed:   33.2s finished\n"
     ]
    },
    {
     "data": {
      "text/plain": [
       "BernoulliNB(alpha=0.013894954943731374, binarize=0.0, class_prior=None,\n      fit_prior=True)"
      ]
     },
     "execution_count": 25,
     "metadata": {},
     "output_type": "execute_result"
    }
   ],
   "source": [
    "yelp_nb_clf = BernoulliNB()\n",
    "yelp_nb_alphas = np.logspace(-2, 0, 15)\n",
    "yelp_nb_params = [{'alpha': yelp_nb_alphas}]\n",
    "yelp_nb_gs = GridSearchCV(yelp_nb_clf, yelp_nb_params, cv=yelp_bin_ps, scoring='f1_macro', refit=True, n_jobs=2, verbose=2)\n",
    "yelp_nb_gs.fit(yelp_train_valid_x, yelp_train_valid_y)\n",
    "yelp_nb_best_clf = yelp_nb_gs.best_estimator_\n",
    "yelp_nb_best_clf.fit(yelp_train_bin_x, yelp_train_y)\n"
   ]
  },
  {
   "cell_type": "code",
   "execution_count": 26,
   "metadata": {
    "collapsed": false
   },
   "outputs": [
    {
     "name": "stdout",
     "output_type": "stream",
     "text": [
      "Classifier: Bernoulli Naive Bayes | Dataset: Yelp | Bag of Words: Binary\nTuning hyper-parameters for F1 score (macro)\n\nBest Parameters found on validation set:\n{'alpha': 0.013894954943731374}\n\nBest Scores on validation set:\n0.383\n\nTraining set prediction F1 Score (macro):\n"
     ]
    },
    {
     "name": "stdout",
     "output_type": "stream",
     "text": [
      "0.768\nValidation set prediction F1 Score (macro):\n0.383\nTest set prediction F1 Score (macro):\n"
     ]
    },
    {
     "name": "stdout",
     "output_type": "stream",
     "text": [
      "0.374\n\n"
     ]
    }
   ],
   "source": [
    "print(\"Classifier: Bernoulli Naive Bayes | Dataset: Yelp | Bag of Words: Binary\")\n",
    "print(\"Tuning hyper-parameters for F1 score (macro)\")\n",
    "print()\n",
    "print(\"Best Parameters found on validation set:\")\n",
    "print(yelp_nb_gs.best_params_)\n",
    "print()\n",
    "print(\"Best Scores on validation set:\")\n",
    "print(\"%.3f\" % yelp_nb_gs.best_score_)\n",
    "print()\n",
    "print(\"Training set prediction F1 Score (macro):\")\n",
    "yelp_nb_train_predicted = yelp_nb_best_clf.predict(yelp_train_bin_x)\n",
    "print(\"%.3f\" % f1_score(yelp_train_y, yelp_nb_train_predicted, average='macro'))\n",
    "print(\"Validation set prediction F1 Score (macro):\")\n",
    "yelp_nb_valid_predicted = yelp_nb_best_clf.predict(yelp_valid_bin_x)\n",
    "print(\"%.3f\" % f1_score(yelp_valid_y, yelp_nb_valid_predicted, average='macro'))\n",
    "print(\"Test set prediction F1 Score (macro):\")\n",
    "yelp_nb_test_predicted = yelp_nb_gs.predict(yelp_test_bin_x)\n",
    "print(\"%.3f\" % f1_score(yelp_test_y, yelp_nb_test_predicted, average='macro'))\n",
    "print()\n"
   ]
  },
  {
   "cell_type": "markdown",
   "metadata": {
    "collapsed": false
   },
   "source": [
    "#### Create Decision Tree Classifier for Binary Bag of Words\n",
    "\n",
    "Parameter ranges:\n",
    "* Criterion: 'gini' and 'entropy'\n",
    "* Max Depth: 10 equally spread values over 2^3^ to 2^11^"
   ]
  },
  {
   "cell_type": "code",
   "execution_count": 27,
   "metadata": {},
   "outputs": [
    {
     "name": "stdout",
     "output_type": "stream",
     "text": [
      "Fitting 1 folds for each of 20 candidates, totalling 20 fits\n"
     ]
    },
    {
     "name": "stdout",
     "output_type": "stream",
     "text": [
      "[CV] criterion=gini, max_depth=8.0, random_state=1000 ................\n"
     ]
    },
    {
     "name": "stdout",
     "output_type": "stream",
     "text": [
      "[CV] criterion=gini, max_depth=14.813995396596646, random_state=1000 .\n"
     ]
    },
    {
     "name": "stdout",
     "output_type": "stream",
     "text": [
      "[CV] . criterion=gini, max_depth=8.0, random_state=1000, total=   9.9s\n"
     ]
    },
    {
     "name": "stdout",
     "output_type": "stream",
     "text": [
      "[CV] criterion=gini, max_depth=27.43180745129833, random_state=1000 ..\n"
     ]
    },
    {
     "name": "stdout",
     "output_type": "stream",
     "text": [
      "[CV]  criterion=gini, max_depth=14.813995396596646, random_state=1000, total=  12.1s\n"
     ]
    },
    {
     "name": "stdout",
     "output_type": "stream",
     "text": [
      "[CV] criterion=gini, max_depth=50.796833662982365, random_state=1000 .\n"
     ]
    },
    {
     "name": "stdout",
     "output_type": "stream",
     "text": [
      "[CV]  criterion=gini, max_depth=27.43180745129833, random_state=1000, total=  13.5s\n"
     ]
    },
    {
     "name": "stdout",
     "output_type": "stream",
     "text": [
      "[CV] criterion=gini, max_depth=94.06300750563831, random_state=1000 ..\n"
     ]
    },
    {
     "name": "stdout",
     "output_type": "stream",
     "text": [
      "[CV]  criterion=gini, max_depth=50.796833662982365, random_state=1000, total=  14.1s\n"
     ]
    },
    {
     "name": "stdout",
     "output_type": "stream",
     "text": [
      "[CV] criterion=gini, max_depth=174.18112002232027, random_state=1000 .\n"
     ]
    },
    {
     "name": "stdout",
     "output_type": "stream",
     "text": [
      "[CV]  criterion=gini, max_depth=94.06300750563831, random_state=1000, total=  13.2s\n"
     ]
    },
    {
     "name": "stdout",
     "output_type": "stream",
     "text": [
      "[CV] criterion=gini, max_depth=322.53978877308725, random_state=1000 .\n"
     ]
    },
    {
     "name": "stdout",
     "output_type": "stream",
     "text": [
      "[CV]  criterion=gini, max_depth=174.18112002232027, random_state=1000, total=  13.0s\n"
     ]
    },
    {
     "name": "stdout",
     "output_type": "stream",
     "text": [
      "[CV] criterion=gini, max_depth=597.2628682629713, random_state=1000 ..\n"
     ]
    },
    {
     "name": "stdout",
     "output_type": "stream",
     "text": [
      "[CV]  criterion=gini, max_depth=322.53978877308725, random_state=1000, total=  13.1s\n"
     ]
    },
    {
     "name": "stdout",
     "output_type": "stream",
     "text": [
      "[CV] criterion=gini, max_depth=1105.9811726257212, random_state=1000 .\n"
     ]
    },
    {
     "name": "stdout",
     "output_type": "stream",
     "text": [
      "[CV]  criterion=gini, max_depth=597.2628682629713, random_state=1000, total=  13.1s\n"
     ]
    },
    {
     "name": "stdout",
     "output_type": "stream",
     "text": [
      "[CV] criterion=gini, max_depth=2048.0, random_state=1000 .............\n"
     ]
    },
    {
     "name": "stdout",
     "output_type": "stream",
     "text": [
      "[CV]  criterion=gini, max_depth=1105.9811726257212, random_state=1000, total=  13.0s\n"
     ]
    },
    {
     "name": "stdout",
     "output_type": "stream",
     "text": [
      "[CV] criterion=entropy, max_depth=8.0, random_state=1000 .............\n"
     ]
    },
    {
     "name": "stdout",
     "output_type": "stream",
     "text": [
      "[CV]  criterion=gini, max_depth=2048.0, random_state=1000, total=  13.2s\n"
     ]
    },
    {
     "name": "stdout",
     "output_type": "stream",
     "text": [
      "[CV] criterion=entropy, max_depth=14.813995396596646, random_state=1000 \n"
     ]
    },
    {
     "name": "stdout",
     "output_type": "stream",
     "text": [
      "[CV]  criterion=entropy, max_depth=8.0, random_state=1000, total=   9.2s\n"
     ]
    },
    {
     "name": "stdout",
     "output_type": "stream",
     "text": [
      "[CV] criterion=entropy, max_depth=27.43180745129833, random_state=1000 \n"
     ]
    },
    {
     "name": "stdout",
     "output_type": "stream",
     "text": [
      "[CV]  criterion=entropy, max_depth=14.813995396596646, random_state=1000, total=  11.5s\n"
     ]
    },
    {
     "name": "stdout",
     "output_type": "stream",
     "text": [
      "[CV] criterion=entropy, max_depth=50.796833662982365, random_state=1000 \n"
     ]
    },
    {
     "name": "stdout",
     "output_type": "stream",
     "text": [
      "[CV]  criterion=entropy, max_depth=27.43180745129833, random_state=1000, total=  12.6s\n"
     ]
    },
    {
     "name": "stdout",
     "output_type": "stream",
     "text": [
      "[CV] criterion=entropy, max_depth=94.06300750563831, random_state=1000 \n"
     ]
    },
    {
     "name": "stdout",
     "output_type": "stream",
     "text": [
      "[CV]  criterion=entropy, max_depth=50.796833662982365, random_state=1000, total=  13.0s\n"
     ]
    },
    {
     "name": "stdout",
     "output_type": "stream",
     "text": [
      "[CV] criterion=entropy, max_depth=174.18112002232027, random_state=1000 \n"
     ]
    },
    {
     "name": "stdout",
     "output_type": "stream",
     "text": [
      "[CV]  criterion=entropy, max_depth=94.06300750563831, random_state=1000, total=  13.5s\n"
     ]
    },
    {
     "name": "stdout",
     "output_type": "stream",
     "text": [
      "[CV] criterion=entropy, max_depth=322.53978877308725, random_state=1000 \n"
     ]
    },
    {
     "name": "stdout",
     "output_type": "stream",
     "text": [
      "[CV]  criterion=entropy, max_depth=174.18112002232027, random_state=1000, total=  13.9s\n"
     ]
    },
    {
     "name": "stdout",
     "output_type": "stream",
     "text": [
      "[CV] criterion=entropy, max_depth=597.2628682629713, random_state=1000 \n"
     ]
    },
    {
     "name": "stdout",
     "output_type": "stream",
     "text": [
      "[CV]  criterion=entropy, max_depth=322.53978877308725, random_state=1000, total=  13.7s\n"
     ]
    },
    {
     "name": "stdout",
     "output_type": "stream",
     "text": [
      "[CV] criterion=entropy, max_depth=1105.9811726257212, random_state=1000 \n"
     ]
    },
    {
     "name": "stdout",
     "output_type": "stream",
     "text": [
      "[CV]  criterion=entropy, max_depth=597.2628682629713, random_state=1000, total=  13.7s\n"
     ]
    },
    {
     "name": "stdout",
     "output_type": "stream",
     "text": [
      "[CV] criterion=entropy, max_depth=2048.0, random_state=1000 ..........\n"
     ]
    },
    {
     "name": "stdout",
     "output_type": "stream",
     "text": [
      "[CV]  criterion=entropy, max_depth=1105.9811726257212, random_state=1000, total=  13.1s\n"
     ]
    },
    {
     "name": "stdout",
     "output_type": "stream",
     "text": [
      "[CV]  criterion=entropy, max_depth=2048.0, random_state=1000, total=  12.4s\n"
     ]
    },
    {
     "name": "stderr",
     "output_type": "stream",
     "text": [
      "[Parallel(n_jobs=2)]: Done  20 out of  20 | elapsed:  2.2min finished\n"
     ]
    },
    {
     "data": {
      "text/plain": [
       "DecisionTreeClassifier(class_weight=None, criterion='entropy',\n            max_depth=27.43180745129833, max_features=None,\n            max_leaf_nodes=None, min_impurity_decrease=0.0,\n            min_impurity_split=None, min_samples_leaf=1,\n            min_samples_split=2, min_weight_fraction_leaf=0.0,\n            presort=False, random_state=1000, splitter='best')"
      ]
     },
     "execution_count": 27,
     "metadata": {},
     "output_type": "execute_result"
    }
   ],
   "source": [
    "yelp_dt_clf_bin = DecisionTreeClassifier()\n",
    "yelp_dt_criterion_bin = ['gini', 'entropy']\n",
    "yelp_dt_max_depth_bin = list(np.logspace(3, 11, 10, base=2))\n",
    "yelp_dt_params_bin = [{'criterion': yelp_dt_criterion_bin, 'max_depth': yelp_dt_max_depth_bin, 'random_state': [1000]}]\n",
    "yelp_dt_gs_bin = GridSearchCV(yelp_dt_clf_bin, yelp_dt_params_bin, cv=yelp_bin_ps, scoring='f1_macro', n_jobs=2, refit=True, verbose=2)\n",
    "yelp_dt_gs_bin.fit(yelp_train_valid_x, yelp_train_valid_y)\n",
    "yelp_dt_best_clf_bin = yelp_dt_gs_bin.best_estimator_\n",
    "yelp_dt_best_clf_bin.fit(yelp_train_bin_x, yelp_train_y)"
   ]
  },
  {
   "cell_type": "code",
   "execution_count": 28,
   "metadata": {},
   "outputs": [
    {
     "name": "stdout",
     "output_type": "stream",
     "text": [
      "Classifier: Decision Tree | Dataset: Yelp | Bag of Words: Binary\nTuning hyper-parameters for F1 Score (macro)\n\nBest Parameters found on validation set:\n{'criterion': 'entropy', 'max_depth': 27.43180745129833, 'random_state': 1000}\n\nBest Scores on validation set:\n0.302\n\nTraining set prediction F1 Score (macro):\n0.925\nValidation set prediction F1 Score (macro):\n"
     ]
    },
    {
     "name": "stdout",
     "output_type": "stream",
     "text": [
      "0.302\nTest set prediction F1 Score (macro):\n0.283\n"
     ]
    }
   ],
   "source": [
    "print(\"Classifier: Decision Tree | Dataset: Yelp | Bag of Words: Binary\")\n",
    "print(\"Tuning hyper-parameters for F1 Score (macro)\")\n",
    "print()\n",
    "print(\"Best Parameters found on validation set:\")\n",
    "print(yelp_dt_gs_bin.best_params_)\n",
    "print()\n",
    "print(\"Best Scores on validation set:\")\n",
    "print(\"%.3f\" % yelp_dt_gs_bin.best_score_)\n",
    "print()\n",
    "print(\"Training set prediction F1 Score (macro):\")\n",
    "yelp_dt_train_predicted = yelp_dt_best_clf_bin.predict(yelp_train_bin_x)\n",
    "print(\"%.3f\" % f1_score(yelp_train_y, yelp_dt_train_predicted, average='macro'))\n",
    "print(\"Validation set prediction F1 Score (macro):\")\n",
    "yelp_dt_valid_predicted = yelp_dt_best_clf_bin.predict(yelp_valid_bin_x)\n",
    "print(\"%.3f\" % f1_score(yelp_valid_y, yelp_dt_valid_predicted, average='macro'))\n",
    "print(\"Test set prediction F1 Score (macro):\")\n",
    "yelp_dt_test_predicted = yelp_dt_best_clf_bin.predict(yelp_test_bin_x)\n",
    "print(\"%.3f\" % f1_score(yelp_test_y, yelp_dt_test_predicted, average='macro'))\n"
   ]
  },
  {
   "cell_type": "markdown",
   "metadata": {},
   "source": [
    "#### Creating Linear Support Vector Classifier for Binary Bag of Words\n",
    "Parameters:\n",
    "* C: 20 equally spread values from 10^-3^ to 10^1^\n",
    "* Tolerance: 20 equally spread values from 10^-3^ to 10^-1^"
   ]
  },
  {
   "cell_type": "code",
   "execution_count": 19,
   "metadata": {},
   "outputs": [],
   "source": [
    "yelp_svm_clf_bin = LinearSVC()\n",
    "yelp_svm_c_bin = np.logspace(-4, -1, 7, base=2)\n",
    "yelp_svm_tol_bin = np.logspace(-5, -2, 7)\n",
    "yelp_svm_dual_bin = [False]\n",
    "yelp_svm_random_state_bin = [1000]\n",
    "yelp_svm_params_bin = [{'C': yelp_svm_c_bin, 'tol': yelp_svm_tol_bin, 'random_state': yelp_svm_random_state_bin, 'dual': yelp_svm_dual_bin}]\n",
    "yelp_svm_gs_bin = GridSearchCV(yelp_svm_clf_bin, yelp_svm_params_bin, cv=yelp_bin_ps, scoring='f1_macro', n_jobs=2, refit=True, verbose=2)"
   ]
  },
  {
   "cell_type": "code",
   "execution_count": 20,
   "metadata": {
    "collapsed": true
   },
   "outputs": [
    {
     "name": "stdout",
     "output_type": "stream",
     "text": [
      "Fitting 1 folds for each of 49 candidates, totalling 49 fits\n"
     ]
    },
    {
     "name": "stdout",
     "output_type": "stream",
     "text": [
      "[CV] C=0.0625, dual=False, random_state=1000, tol=1e-05 ..............\n"
     ]
    },
    {
     "name": "stdout",
     "output_type": "stream",
     "text": [
      "[CV] C=0.0625, dual=False, random_state=1000, tol=3.1622776601683795e-05 \n"
     ]
    },
    {
     "name": "stdout",
     "output_type": "stream",
     "text": [
      "[CV]  C=0.0625, dual=False, random_state=1000, tol=1e-05, total=   3.1s\n"
     ]
    },
    {
     "name": "stdout",
     "output_type": "stream",
     "text": [
      "[CV] C=0.0625, dual=False, random_state=1000, tol=0.0001 .............\n"
     ]
    },
    {
     "name": "stdout",
     "output_type": "stream",
     "text": [
      "[CV]  C=0.0625, dual=False, random_state=1000, tol=3.1622776601683795e-05, total=   3.1s\n"
     ]
    },
    {
     "name": "stdout",
     "output_type": "stream",
     "text": [
      "[CV] C=0.0625, dual=False, random_state=1000, tol=0.00031622776601683794 \n"
     ]
    },
    {
     "name": "stdout",
     "output_type": "stream",
     "text": [
      "[CV]  C=0.0625, dual=False, random_state=1000, tol=0.0001, total=   2.9s\n"
     ]
    },
    {
     "name": "stdout",
     "output_type": "stream",
     "text": [
      "[CV] C=0.0625, dual=False, random_state=1000, tol=0.001 ..............\n"
     ]
    },
    {
     "name": "stdout",
     "output_type": "stream",
     "text": [
      "[CV]  C=0.0625, dual=False, random_state=1000, tol=0.00031622776601683794, total=   2.7s\n"
     ]
    },
    {
     "name": "stdout",
     "output_type": "stream",
     "text": [
      "[CV] C=0.0625, dual=False, random_state=1000, tol=0.0031622776601683794 \n"
     ]
    },
    {
     "name": "stdout",
     "output_type": "stream",
     "text": [
      "[CV]  C=0.0625, dual=False, random_state=1000, tol=0.001, total=   2.5s\n"
     ]
    },
    {
     "name": "stdout",
     "output_type": "stream",
     "text": [
      "[CV] C=0.0625, dual=False, random_state=1000, tol=0.01 ...............\n"
     ]
    },
    {
     "name": "stdout",
     "output_type": "stream",
     "text": [
      "[CV]  C=0.0625, dual=False, random_state=1000, tol=0.0031622776601683794, total=   2.3s\n"
     ]
    },
    {
     "name": "stdout",
     "output_type": "stream",
     "text": [
      "[CV] C=0.08838834764831845, dual=False, random_state=1000, tol=1e-05 .\n"
     ]
    },
    {
     "name": "stdout",
     "output_type": "stream",
     "text": [
      "[CV]  C=0.0625, dual=False, random_state=1000, tol=0.01, total=   2.1s\n"
     ]
    },
    {
     "name": "stdout",
     "output_type": "stream",
     "text": [
      "[CV] C=0.08838834764831845, dual=False, random_state=1000, tol=3.1622776601683795e-05 \n"
     ]
    },
    {
     "name": "stdout",
     "output_type": "stream",
     "text": [
      "[CV]  C=0.08838834764831845, dual=False, random_state=1000, tol=1e-05, total=   3.3s\n"
     ]
    },
    {
     "name": "stdout",
     "output_type": "stream",
     "text": [
      "[CV] C=0.08838834764831845, dual=False, random_state=1000, tol=0.0001 \n"
     ]
    },
    {
     "name": "stdout",
     "output_type": "stream",
     "text": [
      "[CV]  C=0.08838834764831845, dual=False, random_state=1000, tol=3.1622776601683795e-05, total=   3.0s\n"
     ]
    },
    {
     "name": "stdout",
     "output_type": "stream",
     "text": [
      "[CV] C=0.08838834764831845, dual=False, random_state=1000, tol=0.00031622776601683794 \n"
     ]
    },
    {
     "name": "stdout",
     "output_type": "stream",
     "text": [
      "[CV]  C=0.08838834764831845, dual=False, random_state=1000, tol=0.0001, total=   3.2s\n"
     ]
    },
    {
     "name": "stdout",
     "output_type": "stream",
     "text": [
      "[CV] C=0.08838834764831845, dual=False, random_state=1000, tol=0.001 .\n"
     ]
    },
    {
     "name": "stdout",
     "output_type": "stream",
     "text": [
      "[CV]  C=0.08838834764831845, dual=False, random_state=1000, tol=0.00031622776601683794, total=   3.0s\n"
     ]
    },
    {
     "name": "stdout",
     "output_type": "stream",
     "text": [
      "[CV] C=0.08838834764831845, dual=False, random_state=1000, tol=0.0031622776601683794 \n"
     ]
    },
    {
     "name": "stdout",
     "output_type": "stream",
     "text": [
      "[CV]  C=0.08838834764831845, dual=False, random_state=1000, tol=0.001, total=   2.9s\n"
     ]
    },
    {
     "name": "stdout",
     "output_type": "stream",
     "text": [
      "[CV] C=0.08838834764831845, dual=False, random_state=1000, tol=0.01 ..\n"
     ]
    },
    {
     "name": "stdout",
     "output_type": "stream",
     "text": [
      "[CV]  C=0.08838834764831845, dual=False, random_state=1000, tol=0.0031622776601683794, total=   2.5s\n"
     ]
    },
    {
     "name": "stdout",
     "output_type": "stream",
     "text": [
      "[CV] C=0.125, dual=False, random_state=1000, tol=1e-05 ...............\n"
     ]
    },
    {
     "name": "stdout",
     "output_type": "stream",
     "text": [
      "[CV]  C=0.08838834764831845, dual=False, random_state=1000, tol=0.01, total=   2.3s\n"
     ]
    },
    {
     "name": "stdout",
     "output_type": "stream",
     "text": [
      "[CV] C=0.125, dual=False, random_state=1000, tol=3.1622776601683795e-05 \n"
     ]
    },
    {
     "name": "stdout",
     "output_type": "stream",
     "text": [
      "[CV]  C=0.125, dual=False, random_state=1000, tol=1e-05, total=   3.5s\n"
     ]
    },
    {
     "name": "stdout",
     "output_type": "stream",
     "text": [
      "[CV] C=0.125, dual=False, random_state=1000, tol=0.0001 ..............\n"
     ]
    },
    {
     "name": "stdout",
     "output_type": "stream",
     "text": [
      "[CV]  C=0.125, dual=False, random_state=1000, tol=3.1622776601683795e-05, total=   3.4s\n"
     ]
    },
    {
     "name": "stdout",
     "output_type": "stream",
     "text": [
      "[CV] C=0.125, dual=False, random_state=1000, tol=0.00031622776601683794 \n"
     ]
    },
    {
     "name": "stdout",
     "output_type": "stream",
     "text": [
      "[CV]  C=0.125, dual=False, random_state=1000, tol=0.0001, total=   3.1s\n"
     ]
    },
    {
     "name": "stdout",
     "output_type": "stream",
     "text": [
      "[CV] C=0.125, dual=False, random_state=1000, tol=0.001 ...............\n"
     ]
    },
    {
     "name": "stdout",
     "output_type": "stream",
     "text": [
      "[CV]  C=0.125, dual=False, random_state=1000, tol=0.00031622776601683794, total=   3.2s\n"
     ]
    },
    {
     "name": "stdout",
     "output_type": "stream",
     "text": [
      "[CV] C=0.125, dual=False, random_state=1000, tol=0.0031622776601683794 \n"
     ]
    },
    {
     "name": "stdout",
     "output_type": "stream",
     "text": [
      "[CV]  C=0.125, dual=False, random_state=1000, tol=0.001, total=   2.8s\n"
     ]
    },
    {
     "name": "stdout",
     "output_type": "stream",
     "text": [
      "[CV] C=0.125, dual=False, random_state=1000, tol=0.01 ................\n"
     ]
    },
    {
     "name": "stdout",
     "output_type": "stream",
     "text": [
      "[CV]  C=0.125, dual=False, random_state=1000, tol=0.0031622776601683794, total=   2.6s\n"
     ]
    },
    {
     "name": "stdout",
     "output_type": "stream",
     "text": [
      "[CV] C=0.1767766952966369, dual=False, random_state=1000, tol=1e-05 ..\n"
     ]
    },
    {
     "name": "stdout",
     "output_type": "stream",
     "text": [
      "[CV] . C=0.125, dual=False, random_state=1000, tol=0.01, total=   2.5s\n"
     ]
    },
    {
     "name": "stdout",
     "output_type": "stream",
     "text": [
      "[CV] C=0.1767766952966369, dual=False, random_state=1000, tol=3.1622776601683795e-05 \n"
     ]
    },
    {
     "name": "stdout",
     "output_type": "stream",
     "text": [
      "[CV]  C=0.1767766952966369, dual=False, random_state=1000, tol=1e-05, total=   4.0s\n"
     ]
    },
    {
     "name": "stdout",
     "output_type": "stream",
     "text": [
      "[CV] C=0.1767766952966369, dual=False, random_state=1000, tol=0.0001 .\n"
     ]
    },
    {
     "name": "stdout",
     "output_type": "stream",
     "text": [
      "[CV]  C=0.1767766952966369, dual=False, random_state=1000, tol=3.1622776601683795e-05, total=   3.9s\n"
     ]
    },
    {
     "name": "stdout",
     "output_type": "stream",
     "text": [
      "[CV] C=0.1767766952966369, dual=False, random_state=1000, tol=0.00031622776601683794 \n"
     ]
    },
    {
     "name": "stdout",
     "output_type": "stream",
     "text": [
      "[CV]  C=0.1767766952966369, dual=False, random_state=1000, tol=0.0001, total=   4.2s\n"
     ]
    },
    {
     "name": "stdout",
     "output_type": "stream",
     "text": [
      "[CV] C=0.1767766952966369, dual=False, random_state=1000, tol=0.001 ..\n"
     ]
    },
    {
     "name": "stdout",
     "output_type": "stream",
     "text": [
      "[CV]  C=0.1767766952966369, dual=False, random_state=1000, tol=0.00031622776601683794, total=   3.8s\n"
     ]
    },
    {
     "name": "stdout",
     "output_type": "stream",
     "text": [
      "[CV] C=0.1767766952966369, dual=False, random_state=1000, tol=0.0031622776601683794 \n"
     ]
    },
    {
     "name": "stdout",
     "output_type": "stream",
     "text": [
      "[CV]  C=0.1767766952966369, dual=False, random_state=1000, tol=0.001, total=   3.4s\n"
     ]
    },
    {
     "name": "stdout",
     "output_type": "stream",
     "text": [
      "[CV] C=0.1767766952966369, dual=False, random_state=1000, tol=0.01 ...\n"
     ]
    },
    {
     "name": "stdout",
     "output_type": "stream",
     "text": [
      "[CV]  C=0.1767766952966369, dual=False, random_state=1000, tol=0.0031622776601683794, total=   3.1s\n"
     ]
    },
    {
     "name": "stdout",
     "output_type": "stream",
     "text": [
      "[CV] C=0.25, dual=False, random_state=1000, tol=1e-05 ................\n"
     ]
    },
    {
     "name": "stdout",
     "output_type": "stream",
     "text": [
      "[CV]  C=0.1767766952966369, dual=False, random_state=1000, tol=0.01, total=   2.9s\n"
     ]
    },
    {
     "name": "stdout",
     "output_type": "stream",
     "text": [
      "[CV] C=0.25, dual=False, random_state=1000, tol=3.1622776601683795e-05 \n"
     ]
    },
    {
     "name": "stdout",
     "output_type": "stream",
     "text": [
      "[CV] . C=0.25, dual=False, random_state=1000, tol=1e-05, total=   4.4s\n"
     ]
    },
    {
     "name": "stdout",
     "output_type": "stream",
     "text": [
      "[CV] C=0.25, dual=False, random_state=1000, tol=0.0001 ...............\n"
     ]
    },
    {
     "name": "stdout",
     "output_type": "stream",
     "text": [
      "[CV]  C=0.25, dual=False, random_state=1000, tol=3.1622776601683795e-05, total=   4.1s\n"
     ]
    },
    {
     "name": "stdout",
     "output_type": "stream",
     "text": [
      "[CV] C=0.25, dual=False, random_state=1000, tol=0.00031622776601683794 \n"
     ]
    },
    {
     "name": "stdout",
     "output_type": "stream",
     "text": [
      "[CV]  C=0.25, dual=False, random_state=1000, tol=0.0001, total=   4.0s\n"
     ]
    },
    {
     "name": "stdout",
     "output_type": "stream",
     "text": [
      "[CV] C=0.25, dual=False, random_state=1000, tol=0.001 ................\n"
     ]
    },
    {
     "name": "stdout",
     "output_type": "stream",
     "text": [
      "[CV]  C=0.25, dual=False, random_state=1000, tol=0.00031622776601683794, total=   3.9s\n"
     ]
    },
    {
     "name": "stdout",
     "output_type": "stream",
     "text": [
      "[CV] C=0.25, dual=False, random_state=1000, tol=0.0031622776601683794 \n"
     ]
    },
    {
     "name": "stdout",
     "output_type": "stream",
     "text": [
      "[CV] . C=0.25, dual=False, random_state=1000, tol=0.001, total=   3.6s\n"
     ]
    },
    {
     "name": "stdout",
     "output_type": "stream",
     "text": [
      "[CV] C=0.25, dual=False, random_state=1000, tol=0.01 .................\n"
     ]
    },
    {
     "name": "stdout",
     "output_type": "stream",
     "text": [
      "[CV]  C=0.25, dual=False, random_state=1000, tol=0.0031622776601683794, total=   3.2s\n"
     ]
    },
    {
     "name": "stdout",
     "output_type": "stream",
     "text": [
      "[CV] C=0.3535533905932738, dual=False, random_state=1000, tol=1e-05 ..\n"
     ]
    },
    {
     "name": "stdout",
     "output_type": "stream",
     "text": [
      "[CV] .. C=0.25, dual=False, random_state=1000, tol=0.01, total=   2.8s\n"
     ]
    },
    {
     "name": "stdout",
     "output_type": "stream",
     "text": [
      "[CV] C=0.3535533905932738, dual=False, random_state=1000, tol=3.1622776601683795e-05 \n"
     ]
    },
    {
     "name": "stdout",
     "output_type": "stream",
     "text": [
      "[CV]  C=0.3535533905932738, dual=False, random_state=1000, tol=1e-05, total=   6.4s\n"
     ]
    },
    {
     "name": "stdout",
     "output_type": "stream",
     "text": [
      "[CV] C=0.3535533905932738, dual=False, random_state=1000, tol=0.0001 .\n"
     ]
    },
    {
     "name": "stdout",
     "output_type": "stream",
     "text": [
      "[CV]  C=0.3535533905932738, dual=False, random_state=1000, tol=3.1622776601683795e-05, total=   5.5s\n"
     ]
    },
    {
     "name": "stdout",
     "output_type": "stream",
     "text": [
      "[CV] C=0.3535533905932738, dual=False, random_state=1000, tol=0.00031622776601683794 \n"
     ]
    },
    {
     "name": "stderr",
     "output_type": "stream",
     "text": [
      "[Parallel(n_jobs=2)]: Done  37 tasks      | elapsed:  1.2min\n"
     ]
    },
    {
     "name": "stdout",
     "output_type": "stream",
     "text": [
      "[CV]  C=0.3535533905932738, dual=False, random_state=1000, tol=0.0001, total=   5.4s\n"
     ]
    },
    {
     "name": "stdout",
     "output_type": "stream",
     "text": [
      "[CV] C=0.3535533905932738, dual=False, random_state=1000, tol=0.001 ..\n"
     ]
    },
    {
     "name": "stdout",
     "output_type": "stream",
     "text": [
      "[CV]  C=0.3535533905932738, dual=False, random_state=1000, tol=0.00031622776601683794, total=   4.8s\n"
     ]
    },
    {
     "name": "stdout",
     "output_type": "stream",
     "text": [
      "[CV] C=0.3535533905932738, dual=False, random_state=1000, tol=0.0031622776601683794 \n"
     ]
    },
    {
     "name": "stdout",
     "output_type": "stream",
     "text": [
      "[CV]  C=0.3535533905932738, dual=False, random_state=1000, tol=0.001, total=   3.9s\n"
     ]
    },
    {
     "name": "stdout",
     "output_type": "stream",
     "text": [
      "[CV] C=0.3535533905932738, dual=False, random_state=1000, tol=0.01 ...\n"
     ]
    },
    {
     "name": "stdout",
     "output_type": "stream",
     "text": [
      "[CV]  C=0.3535533905932738, dual=False, random_state=1000, tol=0.0031622776601683794, total=   3.4s\n"
     ]
    },
    {
     "name": "stdout",
     "output_type": "stream",
     "text": [
      "[CV] C=0.5, dual=False, random_state=1000, tol=1e-05 .................\n"
     ]
    },
    {
     "name": "stdout",
     "output_type": "stream",
     "text": [
      "[CV]  C=0.3535533905932738, dual=False, random_state=1000, tol=0.01, total=   2.8s\n"
     ]
    },
    {
     "name": "stdout",
     "output_type": "stream",
     "text": [
      "[CV] C=0.5, dual=False, random_state=1000, tol=3.1622776601683795e-05 \n"
     ]
    },
    {
     "name": "stdout",
     "output_type": "stream",
     "text": [
      "[CV]  C=0.5, dual=False, random_state=1000, tol=3.1622776601683795e-05, total=   9.8s\n"
     ]
    },
    {
     "name": "stdout",
     "output_type": "stream",
     "text": [
      "[CV] .. C=0.5, dual=False, random_state=1000, tol=1e-05, total=  11.9s\n"
     ]
    },
    {
     "name": "stdout",
     "output_type": "stream",
     "text": [
      "[CV] C=0.5, dual=False, random_state=1000, tol=0.0001 ................\n"
     ]
    },
    {
     "name": "stdout",
     "output_type": "stream",
     "text": [
      "[CV] C=0.5, dual=False, random_state=1000, tol=0.00031622776601683794 \n"
     ]
    },
    {
     "name": "stdout",
     "output_type": "stream",
     "text": [
      "[CV]  C=0.5, dual=False, random_state=1000, tol=0.00031622776601683794, total=   6.9s\n"
     ]
    },
    {
     "name": "stdout",
     "output_type": "stream",
     "text": [
      "[CV] C=0.5, dual=False, random_state=1000, tol=0.001 .................\n"
     ]
    },
    {
     "name": "stdout",
     "output_type": "stream",
     "text": [
      "[CV] . C=0.5, dual=False, random_state=1000, tol=0.0001, total=   9.1s\n"
     ]
    },
    {
     "name": "stdout",
     "output_type": "stream",
     "text": [
      "[CV] C=0.5, dual=False, random_state=1000, tol=0.0031622776601683794 .\n"
     ]
    },
    {
     "name": "stdout",
     "output_type": "stream",
     "text": [
      "[CV]  C=0.5, dual=False, random_state=1000, tol=0.0031622776601683794, total=   3.8s\n"
     ]
    },
    {
     "name": "stdout",
     "output_type": "stream",
     "text": [
      "[CV] C=0.5, dual=False, random_state=1000, tol=0.01 ..................\n"
     ]
    },
    {
     "name": "stdout",
     "output_type": "stream",
     "text": [
      "[CV] .. C=0.5, dual=False, random_state=1000, tol=0.001, total=   5.1s\n"
     ]
    },
    {
     "name": "stdout",
     "output_type": "stream",
     "text": [
      "[CV] ... C=0.5, dual=False, random_state=1000, tol=0.01, total=   2.6s\n"
     ]
    },
    {
     "name": "stderr",
     "output_type": "stream",
     "text": [
      "[Parallel(n_jobs=2)]: Done  49 out of  49 | elapsed:  1.8min finished\n"
     ]
    },
    {
     "data": {
      "text/plain": [
       "LinearSVC(C=0.125, class_weight=None, dual=False, fit_intercept=True,\n     intercept_scaling=1, loss='squared_hinge', max_iter=1000,\n     multi_class='ovr', penalty='l2', random_state=1000,\n     tol=0.00031622776601683794, verbose=0)"
      ]
     },
     "execution_count": 20,
     "metadata": {},
     "output_type": "execute_result"
    }
   ],
   "source": [
    "yelp_svm_gs_bin.fit(yelp_train_valid_x, yelp_train_valid_y)\n",
    "yelp_svm_best_clf_bin = yelp_svm_gs_bin.best_estimator_\n",
    "yelp_svm_best_clf_bin.fit(yelp_train_bin_x, yelp_train_y)"
   ]
  },
  {
   "cell_type": "code",
   "execution_count": 21,
   "metadata": {
    "collapsed": false
   },
   "outputs": [
    {
     "name": "stdout",
     "output_type": "stream",
     "text": [
      "Classifier: Linear Support Vector Classifier | Dataset: Yelp | Bag of Words: Binary\nTuning hyper-parameters for F1 Score (macro)\n\nBest Parameters found on validation set:\n{'C': 0.125, 'dual': False, 'random_state': 1000, 'tol': 0.00031622776601683794}\n\nBest Scores on validation set:\n0.443\n\nTraining set prediction F1 Score (macro):\n"
     ]
    },
    {
     "name": "stdout",
     "output_type": "stream",
     "text": [
      "0.981\nValidation set prediction F1 Score (macro):\n0.443\nTest set prediction F1 Score (macro):\n0.435\n"
     ]
    }
   ],
   "source": [
    "print(\"Classifier: Linear Support Vector Classifier | Dataset: Yelp | Bag of Words: Binary\")\n",
    "print(\"Tuning hyper-parameters for F1 Score (macro)\")\n",
    "print()\n",
    "print(\"Best Parameters found on validation set:\")\n",
    "print(yelp_svm_gs_bin.best_params_)\n",
    "print()\n",
    "print(\"Best Scores on validation set:\")\n",
    "print(\"%.3f\" % yelp_svm_gs_bin.best_score_)\n",
    "print()\n",
    "print(\"Training set prediction F1 Score (macro):\")\n",
    "yelp_svm_train_predicted = yelp_svm_best_clf_bin.predict(yelp_train_bin_x)\n",
    "print(\"%.3f\" % f1_score(yelp_train_y, yelp_svm_train_predicted, average='macro'))\n",
    "print(\"Validation set prediction F1 Score (macro):\")\n",
    "yelp_svm_valid_predicted = yelp_svm_best_clf_bin.predict(yelp_valid_bin_x)\n",
    "print(\"%.3f\" % f1_score(yelp_valid_y, yelp_svm_valid_predicted, average='macro'))\n",
    "print(\"Test set prediction F1 Score (macro):\")\n",
    "yelp_svm_test_predicted = yelp_svm_best_clf_bin.predict(yelp_test_bin_x)\n",
    "print(\"%.3f\" % f1_score(yelp_test_y, yelp_svm_test_predicted, average='macro'))\n"
   ]
  },
  {
   "cell_type": "markdown",
   "metadata": {
    "collapsed": true
   },
   "source": [
    "#### Create Majority Class Classifier for Frequency Bag of Words"
   ]
  },
  {
   "cell_type": "code",
   "execution_count": 22,
   "metadata": {
    "collapsed": true
   },
   "outputs": [
    {
     "ename": "NameError",
     "evalue": "name 'yelp_train_freq_x' is not defined",
     "traceback": [
      "\u001b[0;31m---------------------------------------------------------------------------\u001b[0m",
      "\u001b[0;31mNameError\u001b[0m                                 Traceback (most recent call last)",
      "\u001b[0;32m<ipython-input-22-f83ded9207cb>\u001b[0m in \u001b[0;36m<module>\u001b[0;34m()\u001b[0m\n\u001b[1;32m      1\u001b[0m \u001b[0myelp_majority_clf_freq\u001b[0m \u001b[0;34m=\u001b[0m \u001b[0mDummyClassifier\u001b[0m\u001b[0;34m(\u001b[0m\u001b[0mstrategy\u001b[0m\u001b[0;34m=\u001b[0m\u001b[0;34m\"most_frequent\"\u001b[0m\u001b[0;34m,\u001b[0m \u001b[0mrandom_state\u001b[0m\u001b[0;34m=\u001b[0m\u001b[0;36m1000\u001b[0m\u001b[0;34m)\u001b[0m\u001b[0;34m\u001b[0m\u001b[0m\n\u001b[0;32m----> 2\u001b[0;31m \u001b[0myelp_majority_clf_freq\u001b[0m\u001b[0;34m.\u001b[0m\u001b[0mfit\u001b[0m\u001b[0;34m(\u001b[0m\u001b[0myelp_train_freq_x\u001b[0m\u001b[0;34m,\u001b[0m \u001b[0myelp_train_y\u001b[0m\u001b[0;34m)\u001b[0m\u001b[0;34m\u001b[0m\u001b[0m\n\u001b[0m",
      "\u001b[0;31mNameError\u001b[0m: name 'yelp_train_freq_x' is not defined"
     ],
     "output_type": "error"
    }
   ],
   "source": [
    "yelp_majority_clf_freq = DummyClassifier(strategy=\"most_frequent\", random_state=1000)\n",
    "yelp_majority_clf_freq.fit(yelp_train_freq_x, yelp_train_y)\n"
   ]
  },
  {
   "cell_type": "code",
   "execution_count": 12,
   "metadata": {
    "collapsed": false
   },
   "outputs": [
    {
     "name": "stdout",
     "output_type": "stream",
     "text": [
      "Classifier: Majority Class | Dataset: Yelp | Bag of Words: Frequency\nTuning hyper-parameters for F1 score (macro)\n\nThis classifier has no hyper parameters\n\nTraining set prediction F1 Score (macro):\n0.104\nValidation set prediction F1 Score (macro):\n0.105\nTest set prediction F1 Score (macro):\n0.104\n\n"
     ]
    },
    {
     "name": "stderr",
     "output_type": "stream",
     "text": [
      "/home/nima/anaconda3/envs/ml/lib/python3.6/site-packages/sklearn/metrics/classification.py:1135: UndefinedMetricWarning: F-score is ill-defined and being set to 0.0 in labels with no predicted samples.\n  'precision', 'predicted', average, warn_for)\n"
     ]
    }
   ],
   "source": [
    "print(\"Classifier: Majority Class | Dataset: Yelp | Bag of Words: Frequency\")\n",
    "print(\"Tuning hyper-parameters for F1 score (macro)\")\n",
    "print()\n",
    "print(\"This classifier has no hyper parameters\")\n",
    "print()\n",
    "print(\"Training set prediction F1 Score (macro):\")\n",
    "yelp_majority_train_predicted_freq = yelp_majority_clf_freq.predict(yelp_train_freq_x)\n",
    "print(\"%.3f\" % f1_score(yelp_train_y, yelp_majority_train_predicted_freq, average='macro'))\n",
    "print(\"Validation set prediction F1 Score (macro):\")\n",
    "yelp_majority_valid_predicted_freq = yelp_majority_clf_freq.predict(yelp_valid_freq_x)\n",
    "print(\"%.3f\" % f1_score(yelp_valid_y, yelp_majority_valid_predicted_freq, average='macro'))\n",
    "print(\"Test set prediction F1 Score (macro):\")\n",
    "yelp_majority_test_predicted_freq = yelp_majority_clf_freq.predict(yelp_test_freq_x)\n",
    "print(\"%.3f\" % f1_score(yelp_test_y, yelp_majority_test_predicted_freq, average='macro'))\n",
    "print()\n"
   ]
  },
  {
   "cell_type": "markdown",
   "metadata": {
    "collapsed": true
   },
   "source": [
    "#### Create Random Class Classifier for Frequency Bag of Words"
   ]
  },
  {
   "cell_type": "code",
   "execution_count": 11,
   "metadata": {
    "collapsed": true
   },
   "outputs": [
    {
     "data": {
      "text/plain": [
       "DummyClassifier(constant=None, random_state=1000, strategy='uniform')"
      ]
     },
     "execution_count": 11,
     "metadata": {},
     "output_type": "execute_result"
    }
   ],
   "source": [
    "yelp_random_clf_freq = DummyClassifier(strategy=\"uniform\", random_state=1000)\n",
    "yelp_random_clf_freq.fit(yelp_train_freq_x, yelp_train_y)"
   ]
  },
  {
   "cell_type": "code",
   "execution_count": 12,
   "metadata": {
    "collapsed": true
   },
   "outputs": [
    {
     "name": "stdout",
     "output_type": "stream",
     "text": [
      "Classifier: Random | Dataset: Yelp | Bag of Words: Frequency\nTuning hyper-parameters for F1 score (macro)\n\nThis classifier has no hyper parameters\n\nTraining set prediction F1 Score (macro):\n0.182\nValidation set prediction F1 Score (macro):\n0.197\nTest set prediction F1 Score (macro):\n0.195\n\n"
     ]
    }
   ],
   "source": [
    "print(\"Classifier: Random | Dataset: Yelp | Bag of Words: Frequency\")\n",
    "print(\"Tuning hyper-parameters for F1 score (macro)\")\n",
    "print()\n",
    "print(\"This classifier has no hyper parameters\")\n",
    "print()\n",
    "print(\"Training set prediction F1 Score (macro):\")\n",
    "yelp_random_train_predicted_freq = yelp_random_clf_freq.predict(yelp_train_freq_x)\n",
    "print(\"%.3f\" % f1_score(yelp_train_y, yelp_random_train_predicted_freq, average='macro'))\n",
    "print(\"Validation set prediction F1 Score (macro):\")\n",
    "yelp_random_valid_predicted_freq = yelp_random_clf_freq.predict(yelp_valid_freq_x)\n",
    "print(\"%.3f\" % f1_score(yelp_valid_y, yelp_random_valid_predicted_freq, average='macro'))\n",
    "print(\"Test set prediction F1 Score (macro):\")\n",
    "yelp_random_test_predicted_freq = yelp_random_clf_freq.predict(yelp_test_freq_x)\n",
    "print(\"%.3f\" % f1_score(yelp_test_y, yelp_random_test_predicted_freq, average='macro'))\n",
    "print()"
   ]
  },
  {
   "cell_type": "markdown",
   "metadata": {
    "collapsed": true
   },
   "source": [
    "#### Create Gaussian Naive Bayes Classifier for Frequency Bag of Words\n",
    "Parameters:\n",
    "* None"
   ]
  },
  {
   "cell_type": "code",
   "execution_count": 15,
   "metadata": {},
   "outputs": [
    {
     "data": {
      "text/plain": [
       "GaussianNB(priors=None)"
      ]
     },
     "execution_count": 15,
     "metadata": {},
     "output_type": "execute_result"
    }
   ],
   "source": [
    "yelp_gnb_clf = GaussianNB()\n",
    "yelp_gnb_clf.fit(yelp_train_freq_x, yelp_train_y)"
   ]
  },
  {
   "cell_type": "code",
   "execution_count": 16,
   "metadata": {},
   "outputs": [
    {
     "name": "stdout",
     "output_type": "stream",
     "text": [
      "Classifier: Gaussian Naive Bayes | Dataset: Yelp | Bag of Words: Frequency\nTuning hyper-parameters for F1 score (macro)\n\nThis classifier does not have any hyper-parameters\n\nTraining set prediction F1 Score (macro):\n"
     ]
    },
    {
     "name": "stdout",
     "output_type": "stream",
     "text": [
      "0.788\nValidation set prediction F1 Score (macro):\n"
     ]
    },
    {
     "name": "stdout",
     "output_type": "stream",
     "text": [
      "0.244\nTest set prediction F1 Score (macro):\n"
     ]
    },
    {
     "name": "stdout",
     "output_type": "stream",
     "text": [
      "0.250\n\n"
     ]
    }
   ],
   "source": [
    "print(\"Classifier: Gaussian Naive Bayes | Dataset: Yelp | Bag of Words: Frequency\")\n",
    "print(\"Tuning hyper-parameters for F1 score (macro)\")\n",
    "print()\n",
    "print(\"This classifier does not have any hyper-parameters\")\n",
    "print()\n",
    "print(\"Training set prediction F1 Score (macro):\")\n",
    "yelp_gnb_train_predicted = yelp_gnb_clf.predict(yelp_train_freq_x)\n",
    "print(\"%.3f\" % f1_score(yelp_train_y, yelp_gnb_train_predicted, average='macro'))\n",
    "print(\"Validation set prediction F1 Score (macro):\")\n",
    "yelp_gnb_valid_predicted = yelp_gnb_clf.predict(yelp_valid_freq_x)\n",
    "print(\"%.3f\" % f1_score(yelp_valid_y, yelp_gnb_valid_predicted, average='macro'))\n",
    "print(\"Test set prediction F1 Score (macro):\")\n",
    "yelp_gnb_test_predicted = yelp_gnb_clf.predict(yelp_test_freq_x)\n",
    "print(\"%.3f\" % f1_score(yelp_test_y, yelp_gnb_test_predicted, average='macro'))\n",
    "print()"
   ]
  },
  {
   "cell_type": "code",
   "execution_count": 17,
   "metadata": {},
   "outputs": [],
   "source": [
    "yelp_freq_train_valid_x = np.append(yelp_train_freq_x, yelp_valid_freq_x, axis=0)\n",
    "yelp_freq_train_valid_y = np.append(yelp_train_y, yelp_valid_y, axis=0)\n",
    "yelp_freq_train_valid_fold = np.zeros(shape=(yelp_freq_train_valid_x.shape[0]))\n",
    "yelp_freq_train_valid_fold[0:yelp_train_freq_x.shape[0]] = -1\n",
    "yelp_freq_ps = PredefinedSplit(yelp_freq_train_valid_fold)"
   ]
  },
  {
   "cell_type": "markdown",
   "metadata": {},
   "source": [
    "#### Create Decision Tree Classifier for Frequency Bag of Words\n",
    "Parameters:\n",
    "* Criterion: 'gini' and 'entropy'\n",
    "* Max Depth: 10 equally spred values over 2^3^ to 2^11^"
   ]
  },
  {
   "cell_type": "code",
   "execution_count": 18,
   "metadata": {},
   "outputs": [
    {
     "name": "stdout",
     "output_type": "stream",
     "text": [
      "Fitting 1 folds for each of 20 candidates, totalling 20 fits\n"
     ]
    },
    {
     "name": "stdout",
     "output_type": "stream",
     "text": [
      "[CV] criterion=gini, max_depth=8.0, random_state=1000 ................\n"
     ]
    },
    {
     "name": "stdout",
     "output_type": "stream",
     "text": [
      "[CV] criterion=gini, max_depth=14.813995396596646, random_state=1000 .\n"
     ]
    },
    {
     "name": "stdout",
     "output_type": "stream",
     "text": [
      "[CV] . criterion=gini, max_depth=8.0, random_state=1000, total=  10.2s\n"
     ]
    },
    {
     "name": "stdout",
     "output_type": "stream",
     "text": [
      "[CV] criterion=gini, max_depth=27.43180745129833, random_state=1000 ..\n"
     ]
    },
    {
     "name": "stdout",
     "output_type": "stream",
     "text": [
      "[CV]  criterion=gini, max_depth=14.813995396596646, random_state=1000, total=  12.4s\n"
     ]
    },
    {
     "name": "stdout",
     "output_type": "stream",
     "text": [
      "[CV] criterion=gini, max_depth=50.796833662982365, random_state=1000 .\n"
     ]
    },
    {
     "name": "stdout",
     "output_type": "stream",
     "text": [
      "[CV]  criterion=gini, max_depth=27.43180745129833, random_state=1000, total=  14.2s\n"
     ]
    },
    {
     "name": "stdout",
     "output_type": "stream",
     "text": [
      "[CV] criterion=gini, max_depth=94.06300750563831, random_state=1000 ..\n"
     ]
    },
    {
     "name": "stdout",
     "output_type": "stream",
     "text": [
      "[CV]  criterion=gini, max_depth=50.796833662982365, random_state=1000, total=  14.3s\n"
     ]
    },
    {
     "name": "stdout",
     "output_type": "stream",
     "text": [
      "[CV] criterion=gini, max_depth=174.18112002232027, random_state=1000 .\n"
     ]
    },
    {
     "name": "stdout",
     "output_type": "stream",
     "text": [
      "[CV]  criterion=gini, max_depth=94.06300750563831, random_state=1000, total=  14.5s\n"
     ]
    },
    {
     "name": "stdout",
     "output_type": "stream",
     "text": [
      "[CV] criterion=gini, max_depth=322.53978877308725, random_state=1000 .\n"
     ]
    },
    {
     "name": "stdout",
     "output_type": "stream",
     "text": [
      "[CV]  criterion=gini, max_depth=174.18112002232027, random_state=1000, total=  14.1s\n"
     ]
    },
    {
     "name": "stdout",
     "output_type": "stream",
     "text": [
      "[CV] criterion=gini, max_depth=597.2628682629713, random_state=1000 ..\n"
     ]
    },
    {
     "name": "stdout",
     "output_type": "stream",
     "text": [
      "[CV]  criterion=gini, max_depth=322.53978877308725, random_state=1000, total=  14.0s\n"
     ]
    },
    {
     "name": "stdout",
     "output_type": "stream",
     "text": [
      "[CV] criterion=gini, max_depth=1105.9811726257212, random_state=1000 .\n"
     ]
    },
    {
     "name": "stdout",
     "output_type": "stream",
     "text": [
      "[CV]  criterion=gini, max_depth=597.2628682629713, random_state=1000, total=  14.3s\n"
     ]
    },
    {
     "name": "stdout",
     "output_type": "stream",
     "text": [
      "[CV] criterion=gini, max_depth=2048.0, random_state=1000 .............\n"
     ]
    },
    {
     "name": "stdout",
     "output_type": "stream",
     "text": [
      "[CV]  criterion=gini, max_depth=1105.9811726257212, random_state=1000, total=  14.0s\n"
     ]
    },
    {
     "name": "stdout",
     "output_type": "stream",
     "text": [
      "[CV] criterion=entropy, max_depth=8.0, random_state=1000 .............\n"
     ]
    },
    {
     "name": "stdout",
     "output_type": "stream",
     "text": [
      "[CV]  criterion=gini, max_depth=2048.0, random_state=1000, total=  14.2s\n"
     ]
    },
    {
     "name": "stdout",
     "output_type": "stream",
     "text": [
      "[CV] criterion=entropy, max_depth=14.813995396596646, random_state=1000 \n"
     ]
    },
    {
     "name": "stdout",
     "output_type": "stream",
     "text": [
      "[CV]  criterion=entropy, max_depth=8.0, random_state=1000, total=  10.5s\n"
     ]
    },
    {
     "name": "stdout",
     "output_type": "stream",
     "text": [
      "[CV] criterion=entropy, max_depth=27.43180745129833, random_state=1000 \n"
     ]
    },
    {
     "name": "stdout",
     "output_type": "stream",
     "text": [
      "[CV]  criterion=entropy, max_depth=14.813995396596646, random_state=1000, total=  13.7s\n"
     ]
    },
    {
     "name": "stdout",
     "output_type": "stream",
     "text": [
      "[CV] criterion=entropy, max_depth=50.796833662982365, random_state=1000 \n"
     ]
    },
    {
     "name": "stdout",
     "output_type": "stream",
     "text": [
      "[CV]  criterion=entropy, max_depth=27.43180745129833, random_state=1000, total=  15.4s\n"
     ]
    },
    {
     "name": "stdout",
     "output_type": "stream",
     "text": [
      "[CV] criterion=entropy, max_depth=94.06300750563831, random_state=1000 \n"
     ]
    },
    {
     "name": "stdout",
     "output_type": "stream",
     "text": [
      "[CV]  criterion=entropy, max_depth=50.796833662982365, random_state=1000, total=  15.8s\n"
     ]
    },
    {
     "name": "stdout",
     "output_type": "stream",
     "text": [
      "[CV] criterion=entropy, max_depth=174.18112002232027, random_state=1000 \n"
     ]
    },
    {
     "name": "stdout",
     "output_type": "stream",
     "text": [
      "[CV]  criterion=entropy, max_depth=94.06300750563831, random_state=1000, total=  15.9s\n"
     ]
    },
    {
     "name": "stdout",
     "output_type": "stream",
     "text": [
      "[CV] criterion=entropy, max_depth=322.53978877308725, random_state=1000 \n"
     ]
    },
    {
     "name": "stdout",
     "output_type": "stream",
     "text": [
      "[CV]  criterion=entropy, max_depth=174.18112002232027, random_state=1000, total=  15.9s\n"
     ]
    },
    {
     "name": "stdout",
     "output_type": "stream",
     "text": [
      "[CV] criterion=entropy, max_depth=597.2628682629713, random_state=1000 \n"
     ]
    },
    {
     "name": "stdout",
     "output_type": "stream",
     "text": [
      "[CV]  criterion=entropy, max_depth=322.53978877308725, random_state=1000, total=  15.8s\n"
     ]
    },
    {
     "name": "stdout",
     "output_type": "stream",
     "text": [
      "[CV] criterion=entropy, max_depth=1105.9811726257212, random_state=1000 \n"
     ]
    },
    {
     "name": "stdout",
     "output_type": "stream",
     "text": [
      "[CV]  criterion=entropy, max_depth=597.2628682629713, random_state=1000, total=  15.9s\n"
     ]
    },
    {
     "name": "stdout",
     "output_type": "stream",
     "text": [
      "[CV] criterion=entropy, max_depth=2048.0, random_state=1000 ..........\n"
     ]
    },
    {
     "name": "stdout",
     "output_type": "stream",
     "text": [
      "[CV]  criterion=entropy, max_depth=1105.9811726257212, random_state=1000, total=  15.7s\n"
     ]
    },
    {
     "name": "stdout",
     "output_type": "stream",
     "text": [
      "[CV]  criterion=entropy, max_depth=2048.0, random_state=1000, total=  15.4s\n"
     ]
    },
    {
     "name": "stderr",
     "output_type": "stream",
     "text": [
      "[Parallel(n_jobs=2)]: Done  20 out of  20 | elapsed:  2.5min finished\n"
     ]
    },
    {
     "data": {
      "text/plain": [
       "DecisionTreeClassifier(class_weight=None, criterion='entropy',\n            max_depth=14.813995396596646, max_features=None,\n            max_leaf_nodes=None, min_impurity_decrease=0.0,\n            min_impurity_split=None, min_samples_leaf=1,\n            min_samples_split=2, min_weight_fraction_leaf=0.0,\n            presort=False, random_state=1000, splitter='best')"
      ]
     },
     "execution_count": 18,
     "metadata": {},
     "output_type": "execute_result"
    }
   ],
   "source": [
    "yelp_dt_clf_freq = DecisionTreeClassifier()\n",
    "yelp_dt_criterion_freq = ['gini', 'entropy']\n",
    "yelp_dt_max_depth_freq = np.logspace(3, 11, 10, base=2)\n",
    "yelp_dt_params_freq = [{'criterion': yelp_dt_criterion_freq, 'max_depth': yelp_dt_max_depth_freq, 'random_state': [1000]}]\n",
    "yelp_dt_gs_freq = GridSearchCV(yelp_dt_clf_freq, yelp_dt_params_freq, cv=yelp_freq_ps, scoring='f1_macro', n_jobs=2, refit=True, verbose=2)\n",
    "yelp_dt_gs_freq.fit(yelp_freq_train_valid_x, yelp_freq_train_valid_y)\n",
    "yelp_dt_best_clf_freq = yelp_dt_gs_freq.best_estimator_\n",
    "yelp_dt_best_clf_freq.fit(yelp_train_freq_x, yelp_train_y)"
   ]
  },
  {
   "cell_type": "code",
   "execution_count": 19,
   "metadata": {},
   "outputs": [
    {
     "name": "stdout",
     "output_type": "stream",
     "text": [
      "Classifier: Decision Tree | Dataset: Yelp | Bag of Words: Frequency\nTuning hyper-parameters for F1 Score (macro)\n\nBest Parameters found on validation set:\n{'criterion': 'entropy', 'max_depth': 14.813995396596646, 'random_state': 1000}\n\nBest Scores on validation set:\n0.310\n\nTraining set prediction F1 Score (macro):\n"
     ]
    },
    {
     "name": "stdout",
     "output_type": "stream",
     "text": [
      "0.618\nValidation set prediction F1 Score (macro):\n0.310\nTest set prediction F1 Score (macro):\n0.296\n"
     ]
    }
   ],
   "source": [
    "print(\"Classifier: Decision Tree | Dataset: Yelp | Bag of Words: Frequency\")\n",
    "print(\"Tuning hyper-parameters for F1 Score (macro)\")\n",
    "print()\n",
    "print(\"Best Parameters found on validation set:\")\n",
    "print(yelp_dt_gs_freq.best_params_)\n",
    "print()\n",
    "print(\"Best Scores on validation set:\")\n",
    "print(\"%.3f\" % yelp_dt_gs_freq.best_score_)\n",
    "print()\n",
    "print(\"Training set prediction F1 Score (macro):\")\n",
    "yelp_dt_train_freq_predicted = yelp_dt_best_clf_freq.predict(yelp_train_freq_x)\n",
    "print(\"%.3f\" % f1_score(yelp_train_y, yelp_dt_train_freq_predicted, average='macro'))\n",
    "print(\"Validation set prediction F1 Score (macro):\")\n",
    "yelp_dt_valid_freq_predicted = yelp_dt_best_clf_freq.predict(yelp_valid_freq_x)\n",
    "print(\"%.3f\" % f1_score(yelp_valid_y, yelp_dt_valid_freq_predicted, average='macro'))\n",
    "print(\"Test set prediction F1 Score (macro):\")\n",
    "yelp_dt_test_freq_predicted = yelp_dt_best_clf_freq.predict(yelp_test_freq_x)\n",
    "print(\"%.3f\" % f1_score(yelp_test_y, yelp_dt_test_freq_predicted, average='macro'))\n"
   ]
  },
  {
   "cell_type": "markdown",
   "metadata": {},
   "source": [
    "#### Create Linear Support Vector Classifier for Frequency Bag of Words\n",
    "Parameters:\n",
    "* C: 7 equally distributed values over 2^1^ to 2^8^\n",
    "* Tolerance: 7 equally distributed values over 10^-5^ to 10^-2^"
   ]
  },
  {
   "cell_type": "code",
   "execution_count": 44,
   "metadata": {},
   "outputs": [],
   "source": [
    "yelp_svm_clf_freq = LinearSVC()\n",
    "yelp_svm_c_freq = np.logspace(1, 8, 7, base=2)\n",
    "yelp_svm_tol_freq = np.logspace(-5, -2, 7)\n",
    "yelp_svm_dual_freq = [False]\n",
    "yelp_svm_random_state_freq = [1000]\n",
    "yelp_svm_params_freq = [{'C': yelp_svm_c_freq, 'tol': yelp_svm_tol_freq, 'random_state': yelp_svm_random_state_freq, 'dual': yelp_svm_dual_freq}]\n",
    "yelp_svm_gs_freq = GridSearchCV(yelp_svm_clf_freq, yelp_svm_params_freq, cv=yelp_freq_ps, scoring='f1_macro', n_jobs=2, refit=True, verbose=2)"
   ]
  },
  {
   "cell_type": "code",
   "execution_count": 45,
   "metadata": {},
   "outputs": [
    {
     "name": "stdout",
     "output_type": "stream",
     "text": [
      "Fitting 1 folds for each of 49 candidates, totalling 49 fits\n"
     ]
    },
    {
     "name": "stdout",
     "output_type": "stream",
     "text": [
      "[CV] C=2.0, dual=False, random_state=1000, tol=1e-05 .................\n"
     ]
    },
    {
     "name": "stdout",
     "output_type": "stream",
     "text": [
      "[CV] C=2.0, dual=False, random_state=1000, tol=3.1622776601683795e-05 \n"
     ]
    },
    {
     "name": "stdout",
     "output_type": "stream",
     "text": [
      "[CV] .. C=2.0, dual=False, random_state=1000, tol=1e-05, total=   2.1s\n"
     ]
    },
    {
     "name": "stdout",
     "output_type": "stream",
     "text": [
      "[CV] C=2.0, dual=False, random_state=1000, tol=0.0001 ................\n"
     ]
    },
    {
     "name": "stdout",
     "output_type": "stream",
     "text": [
      "[CV]  C=2.0, dual=False, random_state=1000, tol=3.1622776601683795e-05, total=   2.1s\n"
     ]
    },
    {
     "name": "stdout",
     "output_type": "stream",
     "text": [
      "[CV] C=2.0, dual=False, random_state=1000, tol=0.00031622776601683794 \n"
     ]
    },
    {
     "name": "stdout",
     "output_type": "stream",
     "text": [
      "[CV] . C=2.0, dual=False, random_state=1000, tol=0.0001, total=   1.9s\n"
     ]
    },
    {
     "name": "stdout",
     "output_type": "stream",
     "text": [
      "[CV] C=2.0, dual=False, random_state=1000, tol=0.001 .................\n"
     ]
    },
    {
     "name": "stdout",
     "output_type": "stream",
     "text": [
      "[CV]  C=2.0, dual=False, random_state=1000, tol=0.00031622776601683794, total=   1.8s\n"
     ]
    },
    {
     "name": "stdout",
     "output_type": "stream",
     "text": [
      "[CV] C=2.0, dual=False, random_state=1000, tol=0.0031622776601683794 .\n"
     ]
    },
    {
     "name": "stdout",
     "output_type": "stream",
     "text": [
      "[CV] .. C=2.0, dual=False, random_state=1000, tol=0.001, total=   1.7s\n"
     ]
    },
    {
     "name": "stdout",
     "output_type": "stream",
     "text": [
      "[CV] C=2.0, dual=False, random_state=1000, tol=0.01 ..................\n"
     ]
    },
    {
     "name": "stdout",
     "output_type": "stream",
     "text": [
      "[CV]  C=2.0, dual=False, random_state=1000, tol=0.0031622776601683794, total=   1.7s\n"
     ]
    },
    {
     "name": "stdout",
     "output_type": "stream",
     "text": [
      "[CV] C=4.489848193237493, dual=False, random_state=1000, tol=1e-05 ...\n"
     ]
    },
    {
     "name": "stdout",
     "output_type": "stream",
     "text": [
      "[CV] ... C=2.0, dual=False, random_state=1000, tol=0.01, total=   1.6s\n"
     ]
    },
    {
     "name": "stdout",
     "output_type": "stream",
     "text": [
      "[CV] C=4.489848193237493, dual=False, random_state=1000, tol=3.1622776601683795e-05 \n"
     ]
    },
    {
     "name": "stdout",
     "output_type": "stream",
     "text": [
      "[CV]  C=4.489848193237493, dual=False, random_state=1000, tol=1e-05, total=   2.3s\n"
     ]
    },
    {
     "name": "stdout",
     "output_type": "stream",
     "text": [
      "[CV] C=4.489848193237493, dual=False, random_state=1000, tol=0.0001 ..\n"
     ]
    },
    {
     "name": "stdout",
     "output_type": "stream",
     "text": [
      "[CV]  C=4.489848193237493, dual=False, random_state=1000, tol=3.1622776601683795e-05, total=   2.3s\n"
     ]
    },
    {
     "name": "stdout",
     "output_type": "stream",
     "text": [
      "[CV] C=4.489848193237493, dual=False, random_state=1000, tol=0.00031622776601683794 \n"
     ]
    },
    {
     "name": "stdout",
     "output_type": "stream",
     "text": [
      "[CV]  C=4.489848193237493, dual=False, random_state=1000, tol=0.0001, total=   2.1s\n"
     ]
    },
    {
     "name": "stdout",
     "output_type": "stream",
     "text": [
      "[CV] C=4.489848193237493, dual=False, random_state=1000, tol=0.001 ...\n"
     ]
    },
    {
     "name": "stdout",
     "output_type": "stream",
     "text": [
      "[CV]  C=4.489848193237493, dual=False, random_state=1000, tol=0.00031622776601683794, total=   2.0s\n"
     ]
    },
    {
     "name": "stdout",
     "output_type": "stream",
     "text": [
      "[CV] C=4.489848193237493, dual=False, random_state=1000, tol=0.0031622776601683794 \n"
     ]
    },
    {
     "name": "stdout",
     "output_type": "stream",
     "text": [
      "[CV]  C=4.489848193237493, dual=False, random_state=1000, tol=0.001, total=   1.9s\n"
     ]
    },
    {
     "name": "stdout",
     "output_type": "stream",
     "text": [
      "[CV] C=4.489848193237493, dual=False, random_state=1000, tol=0.01 ....\n"
     ]
    },
    {
     "name": "stdout",
     "output_type": "stream",
     "text": [
      "[CV]  C=4.489848193237493, dual=False, random_state=1000, tol=0.0031622776601683794, total=   1.9s\n"
     ]
    },
    {
     "name": "stdout",
     "output_type": "stream",
     "text": [
      "[CV] C=10.079368399158986, dual=False, random_state=1000, tol=1e-05 ..\n"
     ]
    },
    {
     "name": "stdout",
     "output_type": "stream",
     "text": [
      "[CV]  C=4.489848193237493, dual=False, random_state=1000, tol=0.01, total=   1.7s\n"
     ]
    },
    {
     "name": "stdout",
     "output_type": "stream",
     "text": [
      "[CV] C=10.079368399158986, dual=False, random_state=1000, tol=3.1622776601683795e-05 \n"
     ]
    },
    {
     "name": "stdout",
     "output_type": "stream",
     "text": [
      "[CV]  C=10.079368399158986, dual=False, random_state=1000, tol=1e-05, total=   2.8s\n"
     ]
    },
    {
     "name": "stdout",
     "output_type": "stream",
     "text": [
      "[CV] C=10.079368399158986, dual=False, random_state=1000, tol=0.0001 .\n"
     ]
    },
    {
     "name": "stdout",
     "output_type": "stream",
     "text": [
      "[CV]  C=10.079368399158986, dual=False, random_state=1000, tol=3.1622776601683795e-05, total=   2.7s\n"
     ]
    },
    {
     "name": "stdout",
     "output_type": "stream",
     "text": [
      "[CV] C=10.079368399158986, dual=False, random_state=1000, tol=0.00031622776601683794 \n"
     ]
    },
    {
     "name": "stdout",
     "output_type": "stream",
     "text": [
      "[CV]  C=10.079368399158986, dual=False, random_state=1000, tol=0.0001, total=   2.4s\n"
     ]
    },
    {
     "name": "stdout",
     "output_type": "stream",
     "text": [
      "[CV] C=10.079368399158986, dual=False, random_state=1000, tol=0.001 ..\n"
     ]
    },
    {
     "name": "stdout",
     "output_type": "stream",
     "text": [
      "[CV]  C=10.079368399158986, dual=False, random_state=1000, tol=0.00031622776601683794, total=   2.4s\n"
     ]
    },
    {
     "name": "stdout",
     "output_type": "stream",
     "text": [
      "[CV] C=10.079368399158986, dual=False, random_state=1000, tol=0.0031622776601683794 \n"
     ]
    },
    {
     "name": "stdout",
     "output_type": "stream",
     "text": [
      "[CV]  C=10.079368399158986, dual=False, random_state=1000, tol=0.001, total=   2.1s\n"
     ]
    },
    {
     "name": "stdout",
     "output_type": "stream",
     "text": [
      "[CV] C=10.079368399158986, dual=False, random_state=1000, tol=0.01 ...\n"
     ]
    },
    {
     "name": "stdout",
     "output_type": "stream",
     "text": [
      "[CV]  C=10.079368399158986, dual=False, random_state=1000, tol=0.0031622776601683794, total=   2.1s\n"
     ]
    },
    {
     "name": "stdout",
     "output_type": "stream",
     "text": [
      "[CV] C=22.627416997969522, dual=False, random_state=1000, tol=1e-05 ..\n"
     ]
    },
    {
     "name": "stdout",
     "output_type": "stream",
     "text": [
      "[CV]  C=10.079368399158986, dual=False, random_state=1000, tol=0.01, total=   1.8s\n"
     ]
    },
    {
     "name": "stdout",
     "output_type": "stream",
     "text": [
      "[CV] C=22.627416997969522, dual=False, random_state=1000, tol=3.1622776601683795e-05 \n"
     ]
    },
    {
     "name": "stdout",
     "output_type": "stream",
     "text": [
      "[CV]  C=22.627416997969522, dual=False, random_state=1000, tol=1e-05, total=   3.4s\n"
     ]
    },
    {
     "name": "stdout",
     "output_type": "stream",
     "text": [
      "[CV] C=22.627416997969522, dual=False, random_state=1000, tol=0.0001 .\n"
     ]
    },
    {
     "name": "stdout",
     "output_type": "stream",
     "text": [
      "[CV]  C=22.627416997969522, dual=False, random_state=1000, tol=3.1622776601683795e-05, total=   3.2s\n"
     ]
    },
    {
     "name": "stdout",
     "output_type": "stream",
     "text": [
      "[CV] C=22.627416997969522, dual=False, random_state=1000, tol=0.00031622776601683794 \n"
     ]
    },
    {
     "name": "stdout",
     "output_type": "stream",
     "text": [
      "[CV]  C=22.627416997969522, dual=False, random_state=1000, tol=0.0001, total=   2.9s\n"
     ]
    },
    {
     "name": "stdout",
     "output_type": "stream",
     "text": [
      "[CV] C=22.627416997969522, dual=False, random_state=1000, tol=0.001 ..\n"
     ]
    },
    {
     "name": "stdout",
     "output_type": "stream",
     "text": [
      "[CV]  C=22.627416997969522, dual=False, random_state=1000, tol=0.00031622776601683794, total=   2.7s\n"
     ]
    },
    {
     "name": "stdout",
     "output_type": "stream",
     "text": [
      "[CV] C=22.627416997969522, dual=False, random_state=1000, tol=0.0031622776601683794 \n"
     ]
    },
    {
     "name": "stdout",
     "output_type": "stream",
     "text": [
      "[CV]  C=22.627416997969522, dual=False, random_state=1000, tol=0.001, total=   2.5s\n"
     ]
    },
    {
     "name": "stdout",
     "output_type": "stream",
     "text": [
      "[CV] C=22.627416997969522, dual=False, random_state=1000, tol=0.01 ...\n"
     ]
    },
    {
     "name": "stdout",
     "output_type": "stream",
     "text": [
      "[CV]  C=22.627416997969522, dual=False, random_state=1000, tol=0.0031622776601683794, total=   2.3s\n"
     ]
    },
    {
     "name": "stdout",
     "output_type": "stream",
     "text": [
      "[CV] C=50.796833662982394, dual=False, random_state=1000, tol=1e-05 ..\n"
     ]
    },
    {
     "name": "stdout",
     "output_type": "stream",
     "text": [
      "[CV]  C=22.627416997969522, dual=False, random_state=1000, tol=0.01, total=   2.0s\n"
     ]
    },
    {
     "name": "stdout",
     "output_type": "stream",
     "text": [
      "[CV] C=50.796833662982394, dual=False, random_state=1000, tol=3.1622776601683795e-05 \n"
     ]
    },
    {
     "name": "stdout",
     "output_type": "stream",
     "text": [
      "[CV]  C=50.796833662982394, dual=False, random_state=1000, tol=1e-05, total=   4.4s\n"
     ]
    },
    {
     "name": "stdout",
     "output_type": "stream",
     "text": [
      "[CV] C=50.796833662982394, dual=False, random_state=1000, tol=0.0001 .\n"
     ]
    },
    {
     "name": "stdout",
     "output_type": "stream",
     "text": [
      "[CV]  C=50.796833662982394, dual=False, random_state=1000, tol=3.1622776601683795e-05, total=   3.7s\n"
     ]
    },
    {
     "name": "stdout",
     "output_type": "stream",
     "text": [
      "[CV] C=50.796833662982394, dual=False, random_state=1000, tol=0.00031622776601683794 \n"
     ]
    },
    {
     "name": "stdout",
     "output_type": "stream",
     "text": [
      "[CV]  C=50.796833662982394, dual=False, random_state=1000, tol=0.0001, total=   3.7s\n"
     ]
    },
    {
     "name": "stdout",
     "output_type": "stream",
     "text": [
      "[CV] C=50.796833662982394, dual=False, random_state=1000, tol=0.001 ..\n"
     ]
    },
    {
     "name": "stdout",
     "output_type": "stream",
     "text": [
      "[CV]  C=50.796833662982394, dual=False, random_state=1000, tol=0.00031622776601683794, total=   3.3s\n"
     ]
    },
    {
     "name": "stdout",
     "output_type": "stream",
     "text": [
      "[CV] C=50.796833662982394, dual=False, random_state=1000, tol=0.0031622776601683794 \n"
     ]
    },
    {
     "name": "stdout",
     "output_type": "stream",
     "text": [
      "[CV]  C=50.796833662982394, dual=False, random_state=1000, tol=0.001, total=   3.0s\n"
     ]
    },
    {
     "name": "stdout",
     "output_type": "stream",
     "text": [
      "[CV] C=50.796833662982394, dual=False, random_state=1000, tol=0.01 ...\n"
     ]
    },
    {
     "name": "stdout",
     "output_type": "stream",
     "text": [
      "[CV]  C=50.796833662982394, dual=False, random_state=1000, tol=0.0031622776601683794, total=   2.7s\n"
     ]
    },
    {
     "name": "stdout",
     "output_type": "stream",
     "text": [
      "[CV] C=114.03503592196348, dual=False, random_state=1000, tol=1e-05 ..\n"
     ]
    },
    {
     "name": "stdout",
     "output_type": "stream",
     "text": [
      "[CV]  C=50.796833662982394, dual=False, random_state=1000, tol=0.01, total=   2.2s\n"
     ]
    },
    {
     "name": "stdout",
     "output_type": "stream",
     "text": [
      "[CV] C=114.03503592196348, dual=False, random_state=1000, tol=3.1622776601683795e-05 \n"
     ]
    },
    {
     "name": "stdout",
     "output_type": "stream",
     "text": [
      "[CV]  C=114.03503592196348, dual=False, random_state=1000, tol=1e-05, total=   6.3s\n"
     ]
    },
    {
     "name": "stdout",
     "output_type": "stream",
     "text": [
      "[CV] C=114.03503592196348, dual=False, random_state=1000, tol=0.0001 .\n"
     ]
    },
    {
     "name": "stdout",
     "output_type": "stream",
     "text": [
      "[CV]  C=114.03503592196348, dual=False, random_state=1000, tol=3.1622776601683795e-05, total=   5.8s\n"
     ]
    },
    {
     "name": "stdout",
     "output_type": "stream",
     "text": [
      "[CV] C=114.03503592196348, dual=False, random_state=1000, tol=0.00031622776601683794 \n"
     ]
    },
    {
     "name": "stderr",
     "output_type": "stream",
     "text": [
      "[Parallel(n_jobs=2)]: Done  37 tasks      | elapsed:   57.7s\n"
     ]
    },
    {
     "name": "stdout",
     "output_type": "stream",
     "text": [
      "[CV]  C=114.03503592196348, dual=False, random_state=1000, tol=0.0001, total=   5.3s\n"
     ]
    },
    {
     "name": "stdout",
     "output_type": "stream",
     "text": [
      "[CV] C=114.03503592196348, dual=False, random_state=1000, tol=0.001 ..\n"
     ]
    },
    {
     "name": "stdout",
     "output_type": "stream",
     "text": [
      "[CV]  C=114.03503592196348, dual=False, random_state=1000, tol=0.00031622776601683794, total=   4.9s\n"
     ]
    },
    {
     "name": "stdout",
     "output_type": "stream",
     "text": [
      "[CV] C=114.03503592196348, dual=False, random_state=1000, tol=0.0031622776601683794 \n"
     ]
    },
    {
     "name": "stdout",
     "output_type": "stream",
     "text": [
      "[CV]  C=114.03503592196348, dual=False, random_state=1000, tol=0.001, total=   3.9s\n"
     ]
    },
    {
     "name": "stdout",
     "output_type": "stream",
     "text": [
      "[CV] C=114.03503592196348, dual=False, random_state=1000, tol=0.01 ...\n"
     ]
    },
    {
     "name": "stdout",
     "output_type": "stream",
     "text": [
      "[CV]  C=114.03503592196348, dual=False, random_state=1000, tol=0.0031622776601683794, total=   3.1s\n"
     ]
    },
    {
     "name": "stdout",
     "output_type": "stream",
     "text": [
      "[CV] C=256.0, dual=False, random_state=1000, tol=1e-05 ...............\n"
     ]
    },
    {
     "name": "stdout",
     "output_type": "stream",
     "text": [
      "[CV]  C=114.03503592196348, dual=False, random_state=1000, tol=0.01, total=   2.7s\n"
     ]
    },
    {
     "name": "stdout",
     "output_type": "stream",
     "text": [
      "[CV] C=256.0, dual=False, random_state=1000, tol=3.1622776601683795e-05 \n"
     ]
    },
    {
     "name": "stdout",
     "output_type": "stream",
     "text": [
      "[CV]  C=256.0, dual=False, random_state=1000, tol=1e-05, total=  10.9s\n"
     ]
    },
    {
     "name": "stdout",
     "output_type": "stream",
     "text": [
      "[CV] C=256.0, dual=False, random_state=1000, tol=0.0001 ..............\n"
     ]
    },
    {
     "name": "stdout",
     "output_type": "stream",
     "text": [
      "[CV]  C=256.0, dual=False, random_state=1000, tol=3.1622776601683795e-05, total=  10.1s\n"
     ]
    },
    {
     "name": "stdout",
     "output_type": "stream",
     "text": [
      "[CV] C=256.0, dual=False, random_state=1000, tol=0.00031622776601683794 \n"
     ]
    },
    {
     "name": "stdout",
     "output_type": "stream",
     "text": [
      "[CV]  C=256.0, dual=False, random_state=1000, tol=0.00031622776601683794, total=   7.1s\n"
     ]
    },
    {
     "name": "stdout",
     "output_type": "stream",
     "text": [
      "[CV] C=256.0, dual=False, random_state=1000, tol=0.001 ...............\n"
     ]
    },
    {
     "name": "stdout",
     "output_type": "stream",
     "text": [
      "[CV]  C=256.0, dual=False, random_state=1000, tol=0.0001, total=   9.0s\n"
     ]
    },
    {
     "name": "stdout",
     "output_type": "stream",
     "text": [
      "[CV] C=256.0, dual=False, random_state=1000, tol=0.0031622776601683794 \n"
     ]
    },
    {
     "name": "stdout",
     "output_type": "stream",
     "text": [
      "[CV]  C=256.0, dual=False, random_state=1000, tol=0.0031622776601683794, total=   3.7s\n"
     ]
    },
    {
     "name": "stdout",
     "output_type": "stream",
     "text": [
      "[CV] C=256.0, dual=False, random_state=1000, tol=0.01 ................\n"
     ]
    },
    {
     "name": "stdout",
     "output_type": "stream",
     "text": [
      "[CV]  C=256.0, dual=False, random_state=1000, tol=0.001, total=   5.1s\n"
     ]
    },
    {
     "name": "stdout",
     "output_type": "stream",
     "text": [
      "[CV] . C=256.0, dual=False, random_state=1000, tol=0.01, total=   2.2s\n"
     ]
    },
    {
     "name": "stderr",
     "output_type": "stream",
     "text": [
      "[Parallel(n_jobs=2)]: Done  49 out of  49 | elapsed:  1.6min finished\n"
     ]
    },
    {
     "data": {
      "text/plain": [
       "LinearSVC(C=114.03503592196348, class_weight=None, dual=False,\n     fit_intercept=True, intercept_scaling=1, loss='squared_hinge',\n     max_iter=1000, multi_class='ovr', penalty='l2', random_state=1000,\n     tol=0.001, verbose=0)"
      ]
     },
     "execution_count": 45,
     "metadata": {},
     "output_type": "execute_result"
    }
   ],
   "source": [
    "yelp_svm_gs_freq.fit(yelp_freq_train_valid_x, yelp_freq_train_valid_y)\n",
    "yelp_svm_best_clf_freq = yelp_svm_gs_freq.best_estimator_\n",
    "yelp_svm_best_clf_freq.fit(yelp_train_freq_x, yelp_train_y)"
   ]
  },
  {
   "cell_type": "code",
   "execution_count": 46,
   "metadata": {},
   "outputs": [
    {
     "name": "stdout",
     "output_type": "stream",
     "text": [
      "Classifier: Linear Support Vector Classifier | Dataset: Yelp | Bag of Words: Frequency\nTuning hyper-parameters for F1 Score (macro)\n\nBest Parameters found on validation set:\n{'C': 114.03503592196348, 'dual': False, 'random_state': 1000, 'tol': 0.001}\n\nBest Scores on validation set:\n0.465\n\nTraining set prediction F1 Score (macro):\n"
     ]
    },
    {
     "name": "stdout",
     "output_type": "stream",
     "text": [
      "0.897\nValidation set prediction F1 Score (macro):\n0.465\nTest set prediction F1 Score (macro):\n0.460\n"
     ]
    }
   ],
   "source": [
    "print(\"Classifier: Linear Support Vector Classifier | Dataset: Yelp | Bag of Words: Frequency\")\n",
    "print(\"Tuning hyper-parameters for F1 Score (macro)\")\n",
    "print()\n",
    "print(\"Best Parameters found on validation set:\")\n",
    "print(yelp_svm_gs_freq.best_params_)\n",
    "print()\n",
    "print(\"Best Scores on validation set:\")\n",
    "print(\"%.3f\" % yelp_svm_gs_freq.best_score_)\n",
    "print()\n",
    "print(\"Training set prediction F1 Score (macro):\")\n",
    "yelp_svm_train_freq_predicted = yelp_svm_best_clf_freq.predict(yelp_train_freq_x)\n",
    "print(\"%.3f\" % f1_score(yelp_train_y, yelp_svm_train_freq_predicted, average='macro'))\n",
    "print(\"Validation set prediction F1 Score (macro):\")\n",
    "yelp_svm_valid_freq_predicted = yelp_svm_best_clf_freq.predict(yelp_valid_freq_x)\n",
    "print(\"%.3f\" % f1_score(yelp_valid_y, yelp_svm_valid_freq_predicted, average='macro'))\n",
    "print(\"Test set prediction F1 Score (macro):\")\n",
    "yelp_svm_test_freq_predicted = yelp_svm_best_clf_freq.predict(yelp_test_freq_x)\n",
    "print(\"%.3f\" % f1_score(yelp_test_y, yelp_svm_test_freq_predicted, average='macro'))"
   ]
  },
  {
   "cell_type": "code",
   "execution_count": null,
   "metadata": {},
   "outputs": [],
   "source": []
  }
 ],
 "metadata": {
  "kernelspec": {
   "display_name": "Python 2",
   "language": "python",
   "name": "python2"
  },
  "language_info": {
   "codemirror_mode": {
    "name": "ipython",
    "version": 2
   },
   "file_extension": ".py",
   "mimetype": "text/x-python",
   "name": "python",
   "nbconvert_exporter": "python",
   "pygments_lexer": "ipython2",
   "version": "2.7.6"
  }
 },
 "nbformat": 4,
 "nbformat_minor": 0
}
