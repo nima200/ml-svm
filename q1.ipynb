{
 "cells": [
  {
   "cell_type": "code",
   "execution_count": 1,
   "metadata": {
    "collapsed": true
   },
   "outputs": [],
   "source": [
    "from collections import Counter\n",
    "from sklearn.naive_bayes import BernoulliNB, GaussianNB\n",
    "from sklearn.metrics import classification_report, f1_score\n",
    "from sklearn.model_selection import GridSearchCV, PredefinedSplit\n",
    "import numpy as np\n",
    "import pandas as pd"
   ]
  },
  {
   "cell_type": "code",
   "execution_count": 2,
   "metadata": {},
   "outputs": [],
   "source": [
    "def get_vocab(data: pd.DataFrame, input_col: str):\n",
    "    data[input_col] = data[input_col].str.lower()\n",
    "    data[input_col] = data[input_col].str.replace('[^\\w\\s]', '')\n",
    "    tokens = data[input_col].str.split(expand=True)\n",
    "    return tokens.stack().value_counts()"
   ]
  },
  {
   "cell_type": "code",
   "execution_count": 3,
   "metadata": {},
   "outputs": [],
   "source": [
    "def pre_process_binary(data, input_col, vocab):\n",
    "    data[input_col] = data[input_col].str.lower()\n",
    "    data[input_col] = data[input_col].str.replace('[^\\w\\s]', '')\n",
    "    tokens = data[input_col].str.split(expand=True)\n",
    "    out = np.zeros(shape=(tokens.shape[0], vocab.shape[0]))\n",
    "    for i, row in tokens.iterrows():\n",
    "        cnt = Counter(row)\n",
    "        del cnt[None]\n",
    "        for j, word in enumerate(vocab):\n",
    "            if cnt[word] > 0:\n",
    "                out[i][j] = 1\n",
    "            else:\n",
    "                out[i][j] = 0\n",
    "    return out"
   ]
  },
  {
   "cell_type": "code",
   "execution_count": 4,
   "metadata": {},
   "outputs": [],
   "source": [
    "yelp_train = pd.read_csv('./data/yelp-train.txt', sep='\\t', names=[\"Comments\", \"Rating\"])\n",
    "yelp_valid = pd.read_csv('./data/yelp-valid.txt', sep='\\t', names=[\"Comments\", \"Rating\"])\n",
    "yelp_test = pd.read_csv('./data/yelp-test.txt', sep='\\t', names=[\"Comments\", \"Rating\"])"
   ]
  },
  {
   "cell_type": "code",
   "execution_count": 5,
   "metadata": {},
   "outputs": [],
   "source": [
    "vocab = get_vocab(data=yelp_train, input_col=\"Comments\")\n",
    "yelp_valid_x = pre_process_binary(yelp_valid, \"Comments\", vocab.index[0:10000])\n",
    "yelp_train_x = pre_process_binary(yelp_train, \"Comments\", vocab.index[0:10000])\n",
    "yelp_test_x = pre_process_binary(yelp_test, \"Comments\", vocab.index[0:10000])"
   ]
  },
  {
   "cell_type": "code",
   "execution_count": 6,
   "metadata": {},
   "outputs": [],
   "source": [
    "yelp_train_y = np.array(yelp_train[\"Rating\"])\n",
    "yelp_valid_y = np.array(yelp_valid[\"Rating\"])\n",
    "yelp_test_y = np.array(yelp_test[\"Rating\"])"
   ]
  },
  {
   "cell_type": "code",
   "execution_count": 7,
   "metadata": {},
   "outputs": [],
   "source": [
    "f1s = np.zeros(shape=(99, 2))\n",
    "alphas = np.arange(1e-2, 1, 0.01)\n",
    "for i, alpha in enumerate(alphas):\n",
    "    nb_clf = BernoulliNB(alpha=alpha)\n",
    "    nb_clf.fit(yelp_train_x, yelp_train_y)\n",
    "    f1s[i][0] = alpha\n",
    "    f1s[i][1] = f1_score(yelp_valid_y, nb_clf.predict(yelp_valid_x), average='weighted')"
   ]
  },
  {
   "cell_type": "code",
   "execution_count": 14,
   "metadata": {
    "collapsed": true
   },
   "outputs": [
    {
     "name": "stdout",
     "output_type": "stream",
     "text": [
      "[[0.01       0.40903082]\n [0.02       0.40915768]\n [0.03       0.41011247]\n [0.04       0.41077684]\n [0.05       0.40583422]\n [0.06       0.40206818]\n [0.07       0.40021266]\n [0.08       0.39896917]\n [0.09       0.39966249]\n [0.1        0.39607291]\n [0.11       0.39500699]\n [0.12       0.39484421]\n [0.13       0.39540054]\n [0.14       0.38982818]\n [0.15       0.39168808]\n [0.16       0.38827599]\n [0.17       0.3859998 ]\n [0.18       0.38704911]\n [0.19       0.38831163]\n [0.2        0.38830908]\n [0.21       0.3850284 ]\n [0.22       0.38587802]\n [0.23       0.38587802]\n [0.24       0.38583814]\n [0.25       0.38595184]\n [0.26       0.38703283]\n [0.27       0.38703283]\n [0.28       0.38820864]\n [0.29       0.38931594]\n [0.3        0.38806247]\n [0.31       0.38813807]\n [0.32       0.38832293]\n [0.33       0.38832293]\n [0.34       0.38464353]\n [0.35       0.38601921]\n [0.36       0.3861923 ]\n [0.37       0.38701097]\n [0.38       0.38588123]\n [0.39       0.38588123]\n [0.4        0.38787051]\n [0.41       0.38799827]\n [0.42       0.38696568]\n [0.43       0.38696568]\n [0.44       0.3857319 ]\n [0.45       0.3826085 ]\n [0.46       0.3826085 ]\n [0.47       0.38271218]\n [0.48       0.3826085 ]\n [0.49       0.3826085 ]\n [0.5        0.3826085 ]\n [0.51       0.38263538]\n [0.52       0.38145729]\n [0.53       0.38145729]\n [0.54       0.38227412]\n [0.55       0.38227412]\n [0.56       0.38125745]\n [0.57       0.38033463]\n [0.58       0.38024924]\n [0.59       0.37791471]\n [0.6        0.37786195]\n [0.61       0.37906557]\n [0.62       0.37906557]\n [0.63       0.37671092]\n [0.64       0.3763907 ]\n [0.65       0.3784398 ]\n [0.66       0.3783855 ]\n [0.67       0.3783855 ]\n [0.68       0.37856771]\n [0.69       0.3762928 ]\n [0.7        0.37480167]\n [0.71       0.37477595]\n [0.72       0.37667713]\n [0.73       0.37629214]\n [0.74       0.37644232]\n [0.75       0.37630532]\n [0.76       0.37621544]\n [0.77       0.37822195]\n [0.78       0.37822195]\n [0.79       0.37603736]\n [0.8        0.37603736]\n [0.81       0.37510182]\n [0.82       0.37400172]\n [0.83       0.37304211]\n [0.84       0.37082341]\n [0.85       0.36982167]\n [0.86       0.36879091]\n [0.87       0.36632834]\n [0.88       0.36622239]\n [0.89       0.36632337]\n [0.9        0.36832057]\n [0.91       0.36832057]\n [0.92       0.36832057]\n [0.93       0.36695168]\n [0.94       0.36582271]\n [0.95       0.3647159 ]\n [0.96       0.36578719]\n [0.97       0.36578719]\n [0.98       0.36543342]\n [0.99       0.36513768]]\n"
     ]
    }
   ],
   "source": [
    "print(f1s)"
   ]
  },
  {
   "cell_type": "code",
   "execution_count": null,
   "metadata": {},
   "outputs": [],
   "source": []
  }
 ],
 "metadata": {
  "kernelspec": {
   "display_name": "Python 2",
   "language": "python",
   "name": "python2"
  },
  "language_info": {
   "codemirror_mode": {
    "name": "ipython",
    "version": 2
   },
   "file_extension": ".py",
   "mimetype": "text/x-python",
   "name": "python",
   "nbconvert_exporter": "python",
   "pygments_lexer": "ipython2",
   "version": "2.7.6"
  }
 },
 "nbformat": 4,
 "nbformat_minor": 0
}
